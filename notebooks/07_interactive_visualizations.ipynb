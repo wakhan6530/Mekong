{
 "cells": [
  {
   "cell_type": "code",
   "execution_count": null,
   "id": "e8b3a53e-059f-4d1a-8212-6ef21b404fe2",
   "metadata": {},
   "outputs": [],
   "source": [
    "\"\"\"\n",
    "Notebook 07: Streamlit Integration Preparation\n",
    "==============================================\n",
    "Existing analysis results를 Streamlit-ready format으로 변환\n",
    "\"\"\"\n",
    "\n",
    "# Cell 1: Load existing results\n",
    "import pandas as pd\n",
    "import plotly.graph_objects as go\n",
    "from plotly.subplots import make_subplots\n",
    "import json\n",
    "\n",
    "# Load all processed data\n",
    "df_annual = pd.read_csv('../data/processed/combined_analysis.csv')\n",
    "df_dual = pd.read_csv('../data/processed/dual_pol_2019.csv')\n",
    "df_drought = pd.read_csv('../data/processed/drought_analysis_2019_2020.csv')\n",
    "\n",
    "print(\"✓ Loaded all processed data\")"
   ]
  },
  {
   "cell_type": "code",
   "execution_count": null,
   "id": "ea5b9edc-cc12-4672-b3bb-4cc873053beb",
   "metadata": {},
   "outputs": [],
   "source": [
    "# Cell 2: Create SIMPLE annual trend chart\n",
    "fig_annual = go.Figure()\n",
    "\n",
    "fig_annual.add_trace(go.Scatter(\n",
    "    x=df_annual['year'],\n",
    "    y=df_annual['flood_area_km2'],\n",
    "    mode='lines+markers',\n",
    "    name='Flood Area',\n",
    "    line=dict(color='#2E86AB', width=3),\n",
    "    marker=dict(size=10)\n",
    "))\n",
    "\n",
    "fig_annual.update_layout(\n",
    "    title='Annual Flood Extent (2015-2024)',\n",
    "    xaxis_title='Year',\n",
    "    yaxis_title='Flood Area (km²)',\n",
    "    height=500\n",
    ")\n",
    "\n",
    "fig_annual.write_json('../data/plotly/annual_trend.json')\n",
    "print(\"✓ Saved: annual_trend.json\")"
   ]
  },
  {
   "cell_type": "code",
   "execution_count": null,
   "id": "8907e0a1-c1cd-4f4c-94e9-b753538f5b72",
   "metadata": {},
   "outputs": [],
   "source": [
    "# Cell 3: Dual-pol comparison (from Notebook 05)\n",
    "fig_dual = go.Figure(data=[\n",
    "    go.Bar(name='Open Water', x=['VV-only', 'VV+VH'], \n",
    "           y=[df_dual.loc[0, 'area_km2'], 0], marker_color='#2E86AB'),\n",
    "    go.Bar(name='Flooded Vegetation', x=['VV-only', 'VV+VH'], \n",
    "           y=[0, df_dual.loc[1, 'area_km2']], marker_color='#F18F01')\n",
    "])\n",
    "\n",
    "fig_dual.update_layout(\n",
    "    title='VV vs VV+VH Detection Comparison',\n",
    "    yaxis_title='Area (km²)',\n",
    "    barmode='stack',\n",
    "    height=500\n",
    ")\n",
    "\n",
    "fig_dual.write_json('../data/plotly/dual_pol_comparison.json')\n",
    "print(\"✓ Saved: dual_pol_comparison.json\")"
   ]
  },
  {
   "cell_type": "code",
   "execution_count": null,
   "id": "61e175ff-2c60-4aed-8188-137e9105e533",
   "metadata": {},
   "outputs": [],
   "source": [
    "# Cell 4: Done\n",
    "print(\"\\n✓ Streamlit-ready visualizations created\")\n",
    "print(\"  - annual_trend.json\")\n",
    "print(\"  - dual_pol_comparison.json\")\n",
    "print(\"  (Drought chart already created in Notebook 06)\")"
   ]
  }
 ],
 "metadata": {
  "kernelspec": {
   "display_name": "Python [conda env:base] *",
   "language": "python",
   "name": "conda-base-py"
  },
  "language_info": {
   "codemirror_mode": {
    "name": "ipython",
    "version": 3
   },
   "file_extension": ".py",
   "mimetype": "text/x-python",
   "name": "python",
   "nbconvert_exporter": "python",
   "pygments_lexer": "ipython3",
   "version": "3.12.7"
  }
 },
 "nbformat": 4,
 "nbformat_minor": 5
}
