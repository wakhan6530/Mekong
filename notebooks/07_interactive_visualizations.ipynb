{
 "cells": [
  {
   "cell_type": "code",
   "execution_count": 197,
   "id": "cfd3cc49-46b1-49ff-8d00-d462eb20ae71",
   "metadata": {},
   "outputs": [
    {
     "name": "stdout",
     "output_type": "stream",
     "text": [
      "✅ Earth Engine initialized (project='nasa-flood')\n",
      "⏰ Now: 2025-10-05T12:19:25\n",
      "📁 outputs: C:\\Users\\wakhan\\Desktop\\Project\\2025\\Mekong\\notebooks\\outputs\n",
      "📁 web_assets: C:\\Users\\wakhan\\Desktop\\Project\\2025\\Mekong\\notebooks\\outputs\\web_assets\n"
     ]
    }
   ],
   "source": [
    "# === Cell 1: 환경 설정 & Earth Engine 초기화 ===\n",
    "import os, json, warnings\n",
    "from pathlib import Path\n",
    "from datetime import datetime, date, timedelta\n",
    "\n",
    "import numpy as np\n",
    "import pandas as pd\n",
    "\n",
    "import plotly.graph_objects as go\n",
    "from plotly.subplots import make_subplots\n",
    "\n",
    "warnings.filterwarnings(\"ignore\")\n",
    "\n",
    "# 디렉터리\n",
    "NB_DIR   = Path.cwd()\n",
    "OUT_DIR  = NB_DIR / \"outputs\"\n",
    "ASSETS   = OUT_DIR / \"web_assets\"\n",
    "OUT_DIR.mkdir(exist_ok=True)\n",
    "ASSETS.mkdir(parents=True, exist_ok=True)\n",
    "\n",
    "# Earth Engine\n",
    "EE_PROJECT_ID = os.environ.get(\"EE_PROJECT_ID\", \"nasa-flood\")\n",
    "EE_READY = False\n",
    "try:\n",
    "    import ee\n",
    "    try:\n",
    "        ee.Initialize(project=EE_PROJECT_ID)\n",
    "        EE_READY = True\n",
    "        print(f\"✅ Earth Engine initialized (project='{EE_PROJECT_ID}')\")\n",
    "    except Exception:\n",
    "        print(\"🔐 Authenticating with Earth Engine...\")\n",
    "        ee.Authenticate()\n",
    "        ee.Initialize(project=EE_PROJECT_ID)\n",
    "        EE_READY = True\n",
    "        print(f\"✅ Authenticated & initialized (project='{EE_PROJECT_ID}')\")\n",
    "except Exception as e:\n",
    "    print(\"⚠️ earthengine-api not available. Will only load cached CSV/JSON.\")\n",
    "    EE_READY = False\n",
    "\n",
    "print(f\"⏰ Now: {datetime.now().isoformat(timespec='seconds')}\")\n",
    "print(f\"📁 outputs: {OUT_DIR.resolve()}\")\n",
    "print(f\"📁 web_assets: {ASSETS.resolve()}\")\n"
   ]
  },
  {
   "cell_type": "code",
   "execution_count": 198,
   "id": "757f2f04-6faa-46b0-acb4-455c35441e1a",
   "metadata": {},
   "outputs": [
    {
     "name": "stdout",
     "output_type": "stream",
     "text": [
      "✅ Config ready | Years: 2015 - 2024\n"
     ]
    }
   ],
   "source": [
    "# === Cell 2: 프로젝트 설정 & 유틸리티 함수 ===\n",
    "# AOI/윈도/임계값/이벤트\n",
    "if EE_READY:\n",
    "    AOI_DELTA    = ee.Geometry.Rectangle([104.30,  8.50, 106.90, 10.90], geodesic=False)\n",
    "    AOI_TONLESAP = ee.Geometry.Rectangle([103.30, 12.00, 105.20, 13.70], geodesic=False)\n",
    "\n",
    "CFG = {\n",
    "    \"YEARS\": list(range(2015, 2025)),\n",
    "    \"FLOOD_MONTHS\": (8, 9),    # Aug–Sep\n",
    "    \"DROUGHT_MONTHS\": (3, 4),  # Mar–Apr\n",
    "    \"TH_VV_DB\": -16.0,\n",
    "    \"TH_VH_DB\": -22.0,\n",
    "    \"BASELINE_YEARS\": [2005, 2006, 2007, 2008],\n",
    "    \"EVENTS\": {\n",
    "        \"JINGHONG_FLOW_CUT\": \"2019-07-15\",\n",
    "        \"XIAOWAN_ONLINE\":    \"2009-01-01\",\n",
    "        \"NUOZHADU_ONLINE\":   \"2012-01-01\",\n",
    "    },\n",
    "}\n",
    "FLOOD_M1, FLOOD_M2 = CFG[\"FLOOD_MONTHS\"]\n",
    "DRY_M1,   DRY_M2   = CFG[\"DROUGHT_MONTHS\"]\n",
    "EVENTS = {k: pd.to_datetime(v) for k, v in CFG[\"EVENTS\"].items()}\n",
    "\n",
    "# 공통 유틸\n",
    "def _daterange_of_year_months(year:int, m1:int, m2:int):\n",
    "    start = date(year, m1, 1)\n",
    "    end   = (date(year+1,1,1) - timedelta(days=1)) if m2==12 else (date(year,m2+1,1)-timedelta(days=1))\n",
    "    return start.isoformat(), end.isoformat()\n",
    "\n",
    "if EE_READY:\n",
    "    def s1_min(aoi, start, end, pol):\n",
    "        return (ee.ImageCollection('COPERNICUS/S1_GRD')\n",
    "                .filterBounds(aoi)\n",
    "                .filterDate(start, end)\n",
    "                .filter(ee.Filter.eq('instrumentMode','IW'))\n",
    "                .filter(ee.Filter.listContains('transmitterReceiverPolarisation', pol))\n",
    "                .select(pol).min().clip(aoi))\n",
    "\n",
    "    def classify_water(img_min, pol, threshold_db):\n",
    "        return img_min.lt(threshold_db).selfMask()\n",
    "\n",
    "    def area_km2(mask_img, aoi, scale=30, band_name='constant'):\n",
    "        area = (mask_img.multiply(ee.Image.pixelArea())\n",
    "                .reduceRegion(ee.Reducer.sum(), aoi, scale, maxPixels=1e12))\n",
    "        return ee.Number(area.get(band_name)).divide(1e6)\n",
    "\n",
    "    def chirps_sum_mm(aoi, start, end):\n",
    "        col = (ee.ImageCollection('UCSB-CHG/CHIRPS/DAILY')\n",
    "               .filterBounds(aoi).filterDate(start, end).select('precipitation'))\n",
    "        # 빈 컬렉션 방어\n",
    "        if col.size().getInfo() == 0:\n",
    "            return None\n",
    "        total = col.sum().reduceRegion(ee.Reducer.mean(), aoi, 5000, maxPixels=1e12)\n",
    "        return ee.Number(total.get('precipitation'))\n",
    "\n",
    "print(\"✅ Config ready | Years:\", CFG[\"YEARS\"][0], \"-\", CFG[\"YEARS\"][-1])\n"
   ]
  },
  {
   "cell_type": "code",
   "execution_count": 199,
   "id": "84291688-6582-4973-8e1e-dc965e330247",
   "metadata": {},
   "outputs": [
    {
     "name": "stdout",
     "output_type": "stream",
     "text": [
      "================================================================================\n",
      "📊 LOADING (smart cache)\n",
      "================================================================================\n",
      "[LOAD] CSV -> C:\\Users\\wakhan\\Desktop\\Project\\2025\\Mekong\\notebooks\\outputs\\web_assets\\annual_flood_mekong_delta.csv\n",
      "[LOAD] CSV -> C:\\Users\\wakhan\\Desktop\\Project\\2025\\Mekong\\notebooks\\outputs\\web_assets\\annual_flood_tonle_sap.csv\n",
      "[LOAD] CSV -> C:\\Users\\wakhan\\Desktop\\Project\\2025\\Mekong\\notebooks\\outputs\\web_assets\\annual_dry_mekong_delta.csv\n",
      "[LOAD] CSV -> C:\\Users\\wakhan\\Desktop\\Project\\2025\\Mekong\\notebooks\\outputs\\web_assets\\annual_dry_tonle_sap.csv\n",
      "Delta rows: 10 | Tonlé rows: 10\n"
     ]
    },
    {
     "data": {
      "text/html": [
       "<div>\n",
       "<style scoped>\n",
       "    .dataframe tbody tr th:only-of-type {\n",
       "        vertical-align: middle;\n",
       "    }\n",
       "\n",
       "    .dataframe tbody tr th {\n",
       "        vertical-align: top;\n",
       "    }\n",
       "\n",
       "    .dataframe thead th {\n",
       "        text-align: right;\n",
       "    }\n",
       "</style>\n",
       "<table border=\"1\" class=\"dataframe\">\n",
       "  <thead>\n",
       "    <tr style=\"text-align: right;\">\n",
       "      <th></th>\n",
       "      <th>year</th>\n",
       "      <th>flood_vv_km2</th>\n",
       "      <th>flood_vh_km2</th>\n",
       "      <th>precip_wet_mm</th>\n",
       "      <th>dry_vh_km2</th>\n",
       "      <th>precip_dry_mm</th>\n",
       "      <th>vh_gain_km2</th>\n",
       "    </tr>\n",
       "  </thead>\n",
       "  <tbody>\n",
       "    <tr>\n",
       "      <th>0</th>\n",
       "      <td>2015</td>\n",
       "      <td>33664.581621</td>\n",
       "      <td>39263.441131</td>\n",
       "      <td>482.863921</td>\n",
       "      <td>36829.428640</td>\n",
       "      <td>38.418497</td>\n",
       "      <td>5598.859510</td>\n",
       "    </tr>\n",
       "    <tr>\n",
       "      <th>1</th>\n",
       "      <td>2016</td>\n",
       "      <td>36979.498246</td>\n",
       "      <td>41105.051724</td>\n",
       "      <td>487.770975</td>\n",
       "      <td>40975.326203</td>\n",
       "      <td>11.114968</td>\n",
       "      <td>4125.553478</td>\n",
       "    </tr>\n",
       "    <tr>\n",
       "      <th>2</th>\n",
       "      <td>2017</td>\n",
       "      <td>46451.231475</td>\n",
       "      <td>48699.005287</td>\n",
       "      <td>448.641681</td>\n",
       "      <td>45017.500819</td>\n",
       "      <td>100.539218</td>\n",
       "      <td>2247.773812</td>\n",
       "    </tr>\n",
       "  </tbody>\n",
       "</table>\n",
       "</div>"
      ],
      "text/plain": [
       "   year  flood_vv_km2  flood_vh_km2  precip_wet_mm    dry_vh_km2  \\\n",
       "0  2015  33664.581621  39263.441131     482.863921  36829.428640   \n",
       "1  2016  36979.498246  41105.051724     487.770975  40975.326203   \n",
       "2  2017  46451.231475  48699.005287     448.641681  45017.500819   \n",
       "\n",
       "   precip_dry_mm  vh_gain_km2  \n",
       "0      38.418497  5598.859510  \n",
       "1      11.114968  4125.553478  \n",
       "2     100.539218  2247.773812  "
      ]
     },
     "metadata": {},
     "output_type": "display_data"
    },
    {
     "data": {
      "text/html": [
       "<div>\n",
       "<style scoped>\n",
       "    .dataframe tbody tr th:only-of-type {\n",
       "        vertical-align: middle;\n",
       "    }\n",
       "\n",
       "    .dataframe tbody tr th {\n",
       "        vertical-align: top;\n",
       "    }\n",
       "\n",
       "    .dataframe thead th {\n",
       "        text-align: right;\n",
       "    }\n",
       "</style>\n",
       "<table border=\"1\" class=\"dataframe\">\n",
       "  <thead>\n",
       "    <tr style=\"text-align: right;\">\n",
       "      <th></th>\n",
       "      <th>year</th>\n",
       "      <th>flood_vv_km2</th>\n",
       "      <th>flood_vh_km2</th>\n",
       "      <th>precip_wet_mm</th>\n",
       "      <th>dry_vh_km2</th>\n",
       "      <th>precip_dry_mm</th>\n",
       "      <th>vh_gain_km2</th>\n",
       "    </tr>\n",
       "  </thead>\n",
       "  <tbody>\n",
       "    <tr>\n",
       "      <th>0</th>\n",
       "      <td>2015</td>\n",
       "      <td>3892.226791</td>\n",
       "      <td>4982.148934</td>\n",
       "      <td>470.792586</td>\n",
       "      <td>8801.694369</td>\n",
       "      <td>76.057223</td>\n",
       "      <td>1089.922143</td>\n",
       "    </tr>\n",
       "    <tr>\n",
       "      <th>1</th>\n",
       "      <td>2016</td>\n",
       "      <td>5898.124855</td>\n",
       "      <td>7430.943820</td>\n",
       "      <td>587.707040</td>\n",
       "      <td>14991.526078</td>\n",
       "      <td>48.135239</td>\n",
       "      <td>1532.818966</td>\n",
       "    </tr>\n",
       "    <tr>\n",
       "      <th>2</th>\n",
       "      <td>2017</td>\n",
       "      <td>8076.027192</td>\n",
       "      <td>10357.122467</td>\n",
       "      <td>547.240797</td>\n",
       "      <td>11562.232076</td>\n",
       "      <td>137.207115</td>\n",
       "      <td>2281.095275</td>\n",
       "    </tr>\n",
       "  </tbody>\n",
       "</table>\n",
       "</div>"
      ],
      "text/plain": [
       "   year  flood_vv_km2  flood_vh_km2  precip_wet_mm    dry_vh_km2  \\\n",
       "0  2015   3892.226791   4982.148934     470.792586   8801.694369   \n",
       "1  2016   5898.124855   7430.943820     587.707040  14991.526078   \n",
       "2  2017   8076.027192  10357.122467     547.240797  11562.232076   \n",
       "\n",
       "   precip_dry_mm  vh_gain_km2  \n",
       "0      76.057223  1089.922143  \n",
       "1      48.135239  1532.818966  \n",
       "2     137.207115  2281.095275  "
      ]
     },
     "metadata": {},
     "output_type": "display_data"
    }
   ],
   "source": [
    "# === Cell 3: 데이터 로딩 (Smart Cache System) ===\n",
    "# 파일 우선, 없으면 EE로 계산 (가능할 때만). 모든 경로는 candidates 체계로 탐색.\n",
    "\n",
    "# 경로 후보 생성기\n",
    "PROJECT_ROOT = NB_DIR  # 노트북 루트 기준\n",
    "CANDIDATE_DIRS = [\n",
    "    ASSETS,                                  # 07 캐시\n",
    "    OUT_DIR,                                 # notebooks/outputs\n",
    "    PROJECT_ROOT / \"outputs\",                # 프로젝트 루트 outputs\n",
    "    PROJECT_ROOT / \"streamlit_app\" / \"data\" / \"processed\",  # 앱 데이터\n",
    "]\n",
    "\n",
    "def _first_existing(*paths: Path):\n",
    "    for p in paths:\n",
    "        if p.exists():\n",
    "            return p\n",
    "    return None\n",
    "\n",
    "def read_csv_candidates(*names):\n",
    "    # names: 파일명 문자열들\n",
    "    paths = [d / n for d in CANDIDATE_DIRS for n in names]\n",
    "    for p in paths:\n",
    "        if p.exists():\n",
    "            print(f\"[LOAD] CSV -> {p}\")\n",
    "            return pd.read_csv(p)\n",
    "    print(f\"[WARN] CSV not found in candidates: {[str(p) for p in paths][:3]} ...\")\n",
    "    return None\n",
    "\n",
    "def read_json_candidates(*names):\n",
    "    paths = [d / n for d in CANDIDATE_DIRS for n in names]\n",
    "    for p in paths:\n",
    "        if p.exists():\n",
    "            print(f\"[LOAD] JSON -> {p}\")\n",
    "            with open(p, \"r\", encoding=\"utf-8\") as f:\n",
    "                return json.load(f)\n",
    "    print(f\"[WARN] JSON not found in candidates: {[str(p) for p in paths][:3]} ...\")\n",
    "    return None\n",
    "\n",
    "# EE 기반 빌더 (필요할 때만 호출)\n",
    "def _build_annual_flood_df(aoi, years):\n",
    "    rows=[]\n",
    "    for y in years:\n",
    "        start,end = _daterange_of_year_months(y, FLOOD_M1, FLOOD_M2)\n",
    "        vv = s1_min(aoi, start, end, \"VV\")\n",
    "        vh = s1_min(aoi, start, end, \"VH\")\n",
    "        vv_mask = classify_water(vv, \"VV\", CFG[\"TH_VV_DB\"])\n",
    "        vh_mask = classify_water(vh, \"VH\", CFG[\"TH_VH_DB\"])\n",
    "        a_vv = float(area_km2(vv_mask, aoi, 30).getInfo() or 0.0)\n",
    "        a_vh = float(area_km2(vh_mask, aoi, 30).getInfo() or 0.0)\n",
    "        pr_n = chirps_sum_mm(aoi, start, end)\n",
    "        pr   = float(pr_n.getInfo() or 0.0) if pr_n else 0.0\n",
    "        rows.append({\"year\":y, \"flood_vv_km2\":a_vv, \"flood_vh_km2\":a_vh, \"precip_wet_mm\":pr})\n",
    "    return pd.DataFrame(rows)\n",
    "\n",
    "def _build_annual_dry_df(aoi, years):\n",
    "    rows=[]\n",
    "    for y in years:\n",
    "        start,end = _daterange_of_year_months(y, DRY_M1, DRY_M2)\n",
    "        vh = s1_min(aoi, start, end, \"VH\")\n",
    "        vh_mask = classify_water(vh, \"VH\", CFG[\"TH_VH_DB\"])\n",
    "        a_vh = float(area_km2(vh_mask, aoi, 30).getInfo() or 0.0)\n",
    "        pr_n = chirps_sum_mm(aoi, start, end)\n",
    "        pr   = float(pr_n.getInfo() or 0.0) if pr_n else 0.0\n",
    "        rows.append({\"year\":y, \"dry_vh_km2\":a_vh, \"precip_dry_mm\":pr})\n",
    "    return pd.DataFrame(rows)\n",
    "\n",
    "def smart_load_flood(aoi_name: str):\n",
    "    # 이름 관례\n",
    "    lower = aoi_name.lower()\n",
    "    # 1) 캐시/기존 산출물\n",
    "    df = read_csv_candidates(\n",
    "        f\"annual_flood_{lower}.csv\",                     # 07 캐시\n",
    "        f\"flood_extent_{lower}_vv_vh_2015_2024.csv\",     # 04 산출물 가정\n",
    "        f\"annual_analysis_{lower}.csv\",                  # 02 산출물 가정\n",
    "    )\n",
    "    if df is not None:\n",
    "        # 컬럼 표준화\n",
    "        rename = {\n",
    "            \"vv_km2\": \"flood_vv_km2\",\n",
    "            \"vh_km2\": \"flood_vh_km2\",\n",
    "            \"precip_mm\": \"precip_wet_mm\",\n",
    "            \"precipitation_mm\": \"precip_wet_mm\",\n",
    "        }\n",
    "        df = df.rename(columns=rename)\n",
    "        need = [\"year\",\"flood_vv_km2\",\"flood_vh_km2\",\"precip_wet_mm\"]\n",
    "        # AOI 열이 있으면 필터\n",
    "        if \"aoi\" in df.columns:\n",
    "            df = df[df[\"aoi\"].str.lower().str.replace(\" \",\"_\")==lower]\n",
    "        # 결측 열 보완\n",
    "        for c in need:\n",
    "            if c not in df.columns:\n",
    "                df[c] = np.nan\n",
    "        df = df[need].drop_duplicates(subset=\"year\").sort_values(\"year\")\n",
    "        # 캐시로 저장\n",
    "        (ASSETS / f\"annual_flood_{lower}.csv\").write_text(df.to_csv(index=False), encoding=\"utf-8\")\n",
    "        return df\n",
    "\n",
    "    # 2) EE로 계산 (가능할 때만)\n",
    "    if EE_READY:\n",
    "        print(f\"[BUILD] Computing flood (VV/VH) for {aoi_name} via GEE …\")\n",
    "        aoi = AOI_DELTA if aoi_name==\"Mekong_Delta\" else AOI_TONLESAP\n",
    "        df = _build_annual_flood_df(aoi, CFG[\"YEARS\"])\n",
    "        df.to_csv(ASSETS / f\"annual_flood_{lower}.csv\", index=False)\n",
    "        return df\n",
    "\n",
    "    print(f\"[ERROR] No flood dataset & EE not available → {aoi_name}\")\n",
    "    return pd.DataFrame(columns=[\"year\",\"flood_vv_km2\",\"flood_vh_km2\",\"precip_wet_mm\"])\n",
    "\n",
    "def smart_load_dry(aoi_name: str):\n",
    "    lower = aoi_name.lower()\n",
    "    df = read_csv_candidates(\n",
    "        f\"annual_dry_{lower}.csv\",                 # 07 캐시\n",
    "        \"dry_season_analysis_2015_2024.csv\",       # 06 산출물\n",
    "    )\n",
    "    if df is not None:\n",
    "        if \"aoi\" in df.columns:\n",
    "            df = df[df[\"aoi\"].str.lower().str.replace(\" \",\"_\")==lower].copy()\n",
    "        rename = {\n",
    "            \"water_extent_km2\": \"dry_vh_km2\",\n",
    "            \"precip_total_mm\":  \"precip_dry_mm\",\n",
    "        }\n",
    "        df = df.rename(columns=rename)\n",
    "        need = [\"year\",\"dry_vh_km2\",\"precip_dry_mm\"]\n",
    "        for c in need:\n",
    "            if c not in df.columns:\n",
    "                df[c] = np.nan\n",
    "        df = df[need].drop_duplicates(subset=\"year\").sort_values(\"year\")\n",
    "        (ASSETS / f\"annual_dry_{lower}.csv\").write_text(df.to_csv(index=False), encoding=\"utf-8\")\n",
    "        return df\n",
    "\n",
    "    if EE_READY:\n",
    "        print(f\"[BUILD] Computing dry-season (VH) for {aoi_name} via GEE …\")\n",
    "        aoi = AOI_DELTA if aoi_name==\"Mekong_Delta\" else AOI_TONLESAP\n",
    "        df = _build_annual_dry_df(aoi, CFG[\"YEARS\"])\n",
    "        df.to_csv(ASSETS / f\"annual_dry_{lower}.csv\", index=False)\n",
    "        return df\n",
    "\n",
    "    print(f\"[ERROR] No dry dataset & EE not available → {aoi_name}\")\n",
    "    return pd.DataFrame(columns=[\"year\",\"dry_vh_km2\",\"precip_dry_mm\"])\n",
    "\n",
    "# 실제 로드\n",
    "print(\"=\"*80, \"\\n📊 LOADING (smart cache)\\n\", \"=\"*80, sep=\"\")\n",
    "df_delta_flood = smart_load_flood(\"Mekong_Delta\")\n",
    "df_ts_flood    = smart_load_flood(\"Tonle_Sap\")\n",
    "df_delta_dry   = smart_load_dry(\"Mekong_Delta\")\n",
    "df_ts_dry      = smart_load_dry(\"Tonle_Sap\")\n",
    "\n",
    "# 머지 및 파생지표\n",
    "df_delta = pd.merge(df_delta_flood, df_delta_dry, on=\"year\", how=\"outer\").sort_values(\"year\")\n",
    "df_ts    = pd.merge(df_ts_flood,    df_ts_dry,    on=\"year\", how=\"outer\").sort_values(\"year\")\n",
    "for df in (df_delta, df_ts):\n",
    "    if {\"flood_vh_km2\",\"flood_vv_km2\"}.issubset(df.columns):\n",
    "        df[\"vh_gain_km2\"] = df[\"flood_vh_km2\"] - df[\"flood_vv_km2\"]\n",
    "\n",
    "print(f\"Delta rows: {len(df_delta)} | Tonlé rows: {len(df_ts)}\")\n",
    "display(df_delta.head(3))\n",
    "display(df_ts.head(3))\n"
   ]
  },
  {
   "cell_type": "code",
   "execution_count": 200,
   "id": "9f0338ee-07da-4b92-8bd5-689d3aa4d021",
   "metadata": {},
   "outputs": [
    {
     "name": "stdout",
     "output_type": "stream",
     "text": [
      "[LOAD] JSON -> C:\\Users\\wakhan\\Desktop\\Project\\2025\\Mekong\\notebooks\\outputs\\baseline_summary.json\n",
      "✅ Baseline loaded from baseline_summary.json\n"
     ]
    },
    {
     "data": {
      "text/plain": [
       "{'Mekong_Delta': {'wet_km2': 39914.49387687479, 'dry_km2': 37503.69651509117},\n",
       " 'Tonle_Sap': {'wet_km2': 4839.440929313576, 'dry_km2': 3178.619294698543},\n",
       " 'Union_ALL': {'wet_km2': 44753.934806274, 'dry_km2': 40682.315809852334}}"
      ]
     },
     "execution_count": 200,
     "metadata": {},
     "output_type": "execute_result"
    }
   ],
   "source": [
    "# === Cell 4: Baseline 로딩 (Notebook 01 재사용) ===\n",
    "def load_or_fallback_baselines():\n",
    "    b = read_json_candidates(\"baseline_summary.json\")\n",
    "    if b and \"areas\" in b:\n",
    "        base = {}\n",
    "        for a in b[\"areas\"]:\n",
    "            base[a[\"aoi\"]] = {\n",
    "                \"wet_km2\": float(a.get(\"baseline_wet_km2\", 0.0)),\n",
    "                \"dry_km2\": float(a.get(\"baseline_dry_km2\", 0.0)),\n",
    "            }\n",
    "        print(\"✅ Baseline loaded from baseline_summary.json\")\n",
    "        return base\n",
    "    print(\"⚠️  baseline_summary.json not found → using rough fallback values\")\n",
    "    return {\n",
    "        \"Mekong_Delta\": {\"wet_km2\": 8500.0, \"dry_km2\": 3200.0},\n",
    "        \"Tonle_Sap\":    {\"wet_km2\": 12000.0, \"dry_km2\": 2800.0},\n",
    "    }\n",
    "\n",
    "BASE = load_or_fallback_baselines()\n",
    "BASE\n"
   ]
  },
  {
   "cell_type": "code",
   "execution_count": 201,
   "id": "4cff8f8e-8ab7-468b-b96c-94ac04b8a87b",
   "metadata": {},
   "outputs": [
    {
     "name": "stdout",
     "output_type": "stream",
     "text": [
      "✅ [Mekong Delta] checks passed\n",
      "✅ [Tonlé Sap] checks passed\n"
     ]
    }
   ],
   "source": [
    "# === Cell 5: 데이터 검증 & 품질 체크 ===\n",
    "def validate_data(df: pd.DataFrame, label: str):\n",
    "    issues = []\n",
    "    # 1) 연도 결측\n",
    "    missing = sorted(set(CFG[\"YEARS\"]) - set(df[\"year\"].dropna().astype(int).tolist()))\n",
    "    if missing:\n",
    "        issues.append(f\"Missing years: {missing}\")\n",
    "    # 2) NaN\n",
    "    nan_cols = df.columns[df.isna().any()].tolist()\n",
    "    if nan_cols:\n",
    "        issues.append(f\"NaN present in: {nan_cols}\")\n",
    "    # 3) 값 범위\n",
    "    if \"flood_vv_km2\" in df.columns and df[\"flood_vv_km2\"].notna().any():\n",
    "        if df[\"flood_vv_km2\"].max() > 60000: issues.append(\"VV too large (>60k km²)\")\n",
    "        if (df[\"flood_vv_km2\"] < 0).any():   issues.append(\"VV negative\")\n",
    "    if \"flood_vh_km2\" in df.columns and df[\"flood_vh_km2\"].notna().any():\n",
    "        if df[\"flood_vh_km2\"].max() > 70000: issues.append(\"VH too large (>70k km²)\")\n",
    "        if (df[\"flood_vh_km2\"] < 0).any():   issues.append(\"VH negative\")\n",
    "    # 4) VH ≥ VV 위배(있을 수 있지만 경고)\n",
    "    if {\"flood_vv_km2\",\"flood_vh_km2\"}.issubset(df.columns):\n",
    "        viol = df[(df[\"flood_vh_km2\"].notna()) & (df[\"flood_vv_km2\"].notna()) & (df[\"flood_vh_km2\"] < df[\"flood_vv_km2\"])]\n",
    "        if len(viol) > 0:\n",
    "            issues.append(f\"VH<VV years: {viol['year'].astype(int).tolist()} (check wind/roughness)\")\n",
    "    # 5) 강수 검증\n",
    "    if \"precip_wet_mm\" in df.columns and df[\"precip_wet_mm\"].notna().any():\n",
    "        if df[\"precip_wet_mm\"].max() > 2000:\n",
    "            issues.append(\"Wet precip extreme (>2000 mm in 2 months)\")\n",
    "\n",
    "    if issues:\n",
    "        print(f\"⚠️  [{label}] Issues:\")\n",
    "        for it in issues: print(\"  •\", it)\n",
    "        return False\n",
    "    print(f\"✅ [{label}] checks passed\")\n",
    "    return True\n",
    "\n",
    "ok_delta = validate_data(df_delta, \"Mekong Delta\")\n",
    "ok_ts    = validate_data(df_ts,    \"Tonlé Sap\")\n"
   ]
  },
  {
   "cell_type": "code",
   "execution_count": 202,
   "id": "150fbdad-7875-4bf0-9ca8-e7c3b0393f2c",
   "metadata": {},
   "outputs": [],
   "source": [
    "# === Cell 6: Plotting 유틸리티 (재사용 가능) ===\n",
    "COLORS = {\n",
    "    \"vv\": \"#1f77b4\", \"vh\": \"#ff7f0e\", \"precip\": \"#2ca02c\",\n",
    "    \"baseline\": \"#d62728\", \"event\": \"#7f7f7f\", \"gain\": \"#9467bd\"\n",
    "}\n",
    "\n",
    "def create_dual_subplot(title_left, title_right, height=500, width=1200):\n",
    "    fig = make_subplots(rows=1, cols=2, subplot_titles=(title_left, title_right), horizontal_spacing=0.10)\n",
    "    fig.update_layout(height=height, width=width, hovermode=\"x unified\",\n",
    "                      font=dict(family=\"Arial, sans-serif\", size=12),\n",
    "                      plot_bgcolor=\"white\", paper_bgcolor=\"white\", showlegend=True)\n",
    "    fig.update_xaxes(dtick=1, gridcolor=\"lightgray\", showline=True, linewidth=1, linecolor=\"black\", mirror=True)\n",
    "    fig.update_yaxes(gridcolor=\"lightgray\", showline=True, linewidth=1, linecolor=\"black\", mirror=True)\n",
    "    return fig\n",
    "\n",
    "def finalize_figure(fig, title, save_json: Path=None):\n",
    "    fig.update_layout(title=dict(text=title, x=0.5, xanchor=\"center\", font=dict(size=16)))\n",
    "    if save_json is not None:\n",
    "        save_json.parent.mkdir(parents=True, exist_ok=True)\n",
    "        save_json.write_text(fig.to_json(), encoding=\"utf-8\")\n",
    "        print(f\"💾 Saved JSON -> {save_json}\")\n",
    "    return fig\n",
    "\n",
    "def add_event_markers(fig, events_dict, row=1, col=1):\n",
    "    for label, ts in events_dict.items():\n",
    "        year = ts.year\n",
    "        fig.add_vline(x=year, line_dash=\"dot\", line_color=COLORS[\"event\"], opacity=0.6,\n",
    "                      annotation_text=str(year), annotation_position=\"top left\", row=row, col=col)\n",
    "\n",
    "def add_baseline(fig, value, text, row=1, col=1, color=COLORS[\"baseline\"]):\n",
    "    fig.add_hline(y=value, line_dash=\"dash\", line_color=color, opacity=0.7,\n",
    "                  annotation_text=f\"{text}: {value:,.0f} km²\", annotation_position=\"top left\",\n",
    "                  row=row, col=col)\n"
   ]
  },
  {
   "cell_type": "code",
   "execution_count": 203,
   "id": "f3f9e6e0-9fef-4a21-972d-c576c02d7977",
   "metadata": {},
   "outputs": [
    {
     "name": "stdout",
     "output_type": "stream",
     "text": [
      "💾 Saved JSON -> C:\\Users\\wakhan\\Desktop\\Project\\2025\\Mekong\\notebooks\\outputs\\web_assets\\fig_annual_flood.json\n"
     ]
    },
    {
     "data": {
      "application/vnd.plotly.v1+json": {
       "config": {
        "plotlyServerURL": "https://plot.ly"
       },
       "data": [
        {
         "line": {
          "color": "#1f77b4",
          "width": 2.5
         },
         "mode": "lines+markers",
         "name": "Delta VV",
         "type": "scatter",
         "x": [
          2015,
          2016,
          2017,
          2018,
          2019,
          2020,
          2021,
          2022,
          2023,
          2024
         ],
         "xaxis": "x",
         "y": [
          33664.5816213888,
          36979.4982462746,
          46451.23147501596,
          47339.11427107616,
          46878.71022469139,
          44932.79552879515,
          44916.20040571556,
          43176.22693838543,
          44267.20722238883,
          44320.56114655885
         ],
         "yaxis": "y"
        },
        {
         "line": {
          "color": "#ff7f0e",
          "width": 2.5
         },
         "mode": "lines+markers",
         "name": "Delta VH",
         "type": "scatter",
         "x": [
          2015,
          2016,
          2017,
          2018,
          2019,
          2020,
          2021,
          2022,
          2023,
          2024
         ],
         "xaxis": "x",
         "y": [
          39263.441131272775,
          41105.051724313314,
          48699.00528683864,
          50513.345701563725,
          51048.8499652692,
          48493.98654890958,
          48029.2140201418,
          46918.9265293632,
          47666.073661381015,
          47048.4556208106
         ],
         "yaxis": "y"
        },
        {
         "line": {
          "color": "#1f77b4",
          "width": 2.5
         },
         "mode": "lines+markers",
         "name": "Tonlé VV",
         "type": "scatter",
         "x": [
          2015,
          2016,
          2017,
          2018,
          2019,
          2020,
          2021,
          2022,
          2023,
          2024
         ],
         "xaxis": "x2",
         "y": [
          3892.22679054134,
          5898.124854894832,
          8076.027191679886,
          12174.10364248776,
          10445.250922172088,
          5921.985055647531,
          8692.581277716603,
          8961.275772451592,
          7306.19470459635,
          8195.93769552257
         ],
         "yaxis": "y2"
        },
        {
         "line": {
          "color": "#ff7f0e",
          "width": 2.5
         },
         "mode": "lines+markers",
         "name": "Tonlé VH",
         "type": "scatter",
         "x": [
          2015,
          2016,
          2017,
          2018,
          2019,
          2020,
          2021,
          2022,
          2023,
          2024
         ],
         "xaxis": "x2",
         "y": [
          4982.148933792589,
          7430.943820494515,
          10357.122466724431,
          15662.87952345259,
          14813.895928273174,
          10199.83146520205,
          12975.420469600642,
          12896.92084403432,
          10711.631726106909,
          11576.851789594672
         ],
         "yaxis": "y2"
        }
       ],
       "layout": {
        "annotations": [
         {
          "font": {
           "size": 16
          },
          "showarrow": false,
          "text": "Mekong Delta — Flood Season (Aug–Sep)",
          "x": 0.225,
          "xanchor": "center",
          "xref": "paper",
          "y": 1,
          "yanchor": "bottom",
          "yref": "paper"
         },
         {
          "font": {
           "size": 16
          },
          "showarrow": false,
          "text": "Tonlé Sap — Flood Season (Aug–Sep)",
          "x": 0.775,
          "xanchor": "center",
          "xref": "paper",
          "y": 1,
          "yanchor": "bottom",
          "yref": "paper"
         },
         {
          "showarrow": false,
          "text": "Pre-dam wet baseline: 39,914 km²",
          "x": 0,
          "xanchor": "left",
          "xref": "x domain",
          "y": 39914.49387687479,
          "yanchor": "bottom",
          "yref": "y"
         },
         {
          "showarrow": false,
          "text": "2019",
          "x": 2019,
          "xanchor": "right",
          "xref": "x",
          "y": 1,
          "yanchor": "top",
          "yref": "y domain"
         },
         {
          "showarrow": false,
          "text": "2009",
          "x": 2009,
          "xanchor": "right",
          "xref": "x",
          "y": 1,
          "yanchor": "top",
          "yref": "y domain"
         },
         {
          "showarrow": false,
          "text": "2012",
          "x": 2012,
          "xanchor": "right",
          "xref": "x",
          "y": 1,
          "yanchor": "top",
          "yref": "y domain"
         },
         {
          "showarrow": false,
          "text": "Pre-dam wet baseline: 4,839 km²",
          "x": 0,
          "xanchor": "left",
          "xref": "x2 domain",
          "y": 4839.440929313576,
          "yanchor": "bottom",
          "yref": "y2"
         },
         {
          "showarrow": false,
          "text": "2019",
          "x": 2019,
          "xanchor": "right",
          "xref": "x2",
          "y": 1,
          "yanchor": "top",
          "yref": "y2 domain"
         },
         {
          "showarrow": false,
          "text": "2009",
          "x": 2009,
          "xanchor": "right",
          "xref": "x2",
          "y": 1,
          "yanchor": "top",
          "yref": "y2 domain"
         },
         {
          "showarrow": false,
          "text": "2012",
          "x": 2012,
          "xanchor": "right",
          "xref": "x2",
          "y": 1,
          "yanchor": "top",
          "yref": "y2 domain"
         }
        ],
        "font": {
         "family": "Arial, sans-serif",
         "size": 12
        },
        "height": 520,
        "hovermode": "x unified",
        "paper_bgcolor": "white",
        "plot_bgcolor": "white",
        "shapes": [
         {
          "line": {
           "color": "#d62728",
           "dash": "dash"
          },
          "opacity": 0.7,
          "type": "line",
          "x0": 0,
          "x1": 1,
          "xref": "x domain",
          "y0": 39914.49387687479,
          "y1": 39914.49387687479,
          "yref": "y"
         },
         {
          "line": {
           "color": "#7f7f7f",
           "dash": "dot"
          },
          "opacity": 0.6,
          "type": "line",
          "x0": 2019,
          "x1": 2019,
          "xref": "x",
          "y0": 0,
          "y1": 1,
          "yref": "y domain"
         },
         {
          "line": {
           "color": "#7f7f7f",
           "dash": "dot"
          },
          "opacity": 0.6,
          "type": "line",
          "x0": 2009,
          "x1": 2009,
          "xref": "x",
          "y0": 0,
          "y1": 1,
          "yref": "y domain"
         },
         {
          "line": {
           "color": "#7f7f7f",
           "dash": "dot"
          },
          "opacity": 0.6,
          "type": "line",
          "x0": 2012,
          "x1": 2012,
          "xref": "x",
          "y0": 0,
          "y1": 1,
          "yref": "y domain"
         },
         {
          "line": {
           "color": "#d62728",
           "dash": "dash"
          },
          "opacity": 0.7,
          "type": "line",
          "x0": 0,
          "x1": 1,
          "xref": "x2 domain",
          "y0": 4839.440929313576,
          "y1": 4839.440929313576,
          "yref": "y2"
         },
         {
          "line": {
           "color": "#7f7f7f",
           "dash": "dot"
          },
          "opacity": 0.6,
          "type": "line",
          "x0": 2019,
          "x1": 2019,
          "xref": "x2",
          "y0": 0,
          "y1": 1,
          "yref": "y2 domain"
         },
         {
          "line": {
           "color": "#7f7f7f",
           "dash": "dot"
          },
          "opacity": 0.6,
          "type": "line",
          "x0": 2009,
          "x1": 2009,
          "xref": "x2",
          "y0": 0,
          "y1": 1,
          "yref": "y2 domain"
         },
         {
          "line": {
           "color": "#7f7f7f",
           "dash": "dot"
          },
          "opacity": 0.6,
          "type": "line",
          "x0": 2012,
          "x1": 2012,
          "xref": "x2",
          "y0": 0,
          "y1": 1,
          "yref": "y2 domain"
         }
        ],
        "showlegend": true,
        "template": {
         "data": {
          "bar": [
           {
            "error_x": {
             "color": "#2a3f5f"
            },
            "error_y": {
             "color": "#2a3f5f"
            },
            "marker": {
             "line": {
              "color": "#E5ECF6",
              "width": 0.5
             },
             "pattern": {
              "fillmode": "overlay",
              "size": 10,
              "solidity": 0.2
             }
            },
            "type": "bar"
           }
          ],
          "barpolar": [
           {
            "marker": {
             "line": {
              "color": "#E5ECF6",
              "width": 0.5
             },
             "pattern": {
              "fillmode": "overlay",
              "size": 10,
              "solidity": 0.2
             }
            },
            "type": "barpolar"
           }
          ],
          "carpet": [
           {
            "aaxis": {
             "endlinecolor": "#2a3f5f",
             "gridcolor": "white",
             "linecolor": "white",
             "minorgridcolor": "white",
             "startlinecolor": "#2a3f5f"
            },
            "baxis": {
             "endlinecolor": "#2a3f5f",
             "gridcolor": "white",
             "linecolor": "white",
             "minorgridcolor": "white",
             "startlinecolor": "#2a3f5f"
            },
            "type": "carpet"
           }
          ],
          "choropleth": [
           {
            "colorbar": {
             "outlinewidth": 0,
             "ticks": ""
            },
            "type": "choropleth"
           }
          ],
          "contour": [
           {
            "colorbar": {
             "outlinewidth": 0,
             "ticks": ""
            },
            "colorscale": [
             [
              0,
              "#0d0887"
             ],
             [
              0.1111111111111111,
              "#46039f"
             ],
             [
              0.2222222222222222,
              "#7201a8"
             ],
             [
              0.3333333333333333,
              "#9c179e"
             ],
             [
              0.4444444444444444,
              "#bd3786"
             ],
             [
              0.5555555555555556,
              "#d8576b"
             ],
             [
              0.6666666666666666,
              "#ed7953"
             ],
             [
              0.7777777777777778,
              "#fb9f3a"
             ],
             [
              0.8888888888888888,
              "#fdca26"
             ],
             [
              1,
              "#f0f921"
             ]
            ],
            "type": "contour"
           }
          ],
          "contourcarpet": [
           {
            "colorbar": {
             "outlinewidth": 0,
             "ticks": ""
            },
            "type": "contourcarpet"
           }
          ],
          "heatmap": [
           {
            "colorbar": {
             "outlinewidth": 0,
             "ticks": ""
            },
            "colorscale": [
             [
              0,
              "#0d0887"
             ],
             [
              0.1111111111111111,
              "#46039f"
             ],
             [
              0.2222222222222222,
              "#7201a8"
             ],
             [
              0.3333333333333333,
              "#9c179e"
             ],
             [
              0.4444444444444444,
              "#bd3786"
             ],
             [
              0.5555555555555556,
              "#d8576b"
             ],
             [
              0.6666666666666666,
              "#ed7953"
             ],
             [
              0.7777777777777778,
              "#fb9f3a"
             ],
             [
              0.8888888888888888,
              "#fdca26"
             ],
             [
              1,
              "#f0f921"
             ]
            ],
            "type": "heatmap"
           }
          ],
          "heatmapgl": [
           {
            "colorbar": {
             "outlinewidth": 0,
             "ticks": ""
            },
            "colorscale": [
             [
              0,
              "#0d0887"
             ],
             [
              0.1111111111111111,
              "#46039f"
             ],
             [
              0.2222222222222222,
              "#7201a8"
             ],
             [
              0.3333333333333333,
              "#9c179e"
             ],
             [
              0.4444444444444444,
              "#bd3786"
             ],
             [
              0.5555555555555556,
              "#d8576b"
             ],
             [
              0.6666666666666666,
              "#ed7953"
             ],
             [
              0.7777777777777778,
              "#fb9f3a"
             ],
             [
              0.8888888888888888,
              "#fdca26"
             ],
             [
              1,
              "#f0f921"
             ]
            ],
            "type": "heatmapgl"
           }
          ],
          "histogram": [
           {
            "marker": {
             "pattern": {
              "fillmode": "overlay",
              "size": 10,
              "solidity": 0.2
             }
            },
            "type": "histogram"
           }
          ],
          "histogram2d": [
           {
            "colorbar": {
             "outlinewidth": 0,
             "ticks": ""
            },
            "colorscale": [
             [
              0,
              "#0d0887"
             ],
             [
              0.1111111111111111,
              "#46039f"
             ],
             [
              0.2222222222222222,
              "#7201a8"
             ],
             [
              0.3333333333333333,
              "#9c179e"
             ],
             [
              0.4444444444444444,
              "#bd3786"
             ],
             [
              0.5555555555555556,
              "#d8576b"
             ],
             [
              0.6666666666666666,
              "#ed7953"
             ],
             [
              0.7777777777777778,
              "#fb9f3a"
             ],
             [
              0.8888888888888888,
              "#fdca26"
             ],
             [
              1,
              "#f0f921"
             ]
            ],
            "type": "histogram2d"
           }
          ],
          "histogram2dcontour": [
           {
            "colorbar": {
             "outlinewidth": 0,
             "ticks": ""
            },
            "colorscale": [
             [
              0,
              "#0d0887"
             ],
             [
              0.1111111111111111,
              "#46039f"
             ],
             [
              0.2222222222222222,
              "#7201a8"
             ],
             [
              0.3333333333333333,
              "#9c179e"
             ],
             [
              0.4444444444444444,
              "#bd3786"
             ],
             [
              0.5555555555555556,
              "#d8576b"
             ],
             [
              0.6666666666666666,
              "#ed7953"
             ],
             [
              0.7777777777777778,
              "#fb9f3a"
             ],
             [
              0.8888888888888888,
              "#fdca26"
             ],
             [
              1,
              "#f0f921"
             ]
            ],
            "type": "histogram2dcontour"
           }
          ],
          "mesh3d": [
           {
            "colorbar": {
             "outlinewidth": 0,
             "ticks": ""
            },
            "type": "mesh3d"
           }
          ],
          "parcoords": [
           {
            "line": {
             "colorbar": {
              "outlinewidth": 0,
              "ticks": ""
             }
            },
            "type": "parcoords"
           }
          ],
          "pie": [
           {
            "automargin": true,
            "type": "pie"
           }
          ],
          "scatter": [
           {
            "fillpattern": {
             "fillmode": "overlay",
             "size": 10,
             "solidity": 0.2
            },
            "type": "scatter"
           }
          ],
          "scatter3d": [
           {
            "line": {
             "colorbar": {
              "outlinewidth": 0,
              "ticks": ""
             }
            },
            "marker": {
             "colorbar": {
              "outlinewidth": 0,
              "ticks": ""
             }
            },
            "type": "scatter3d"
           }
          ],
          "scattercarpet": [
           {
            "marker": {
             "colorbar": {
              "outlinewidth": 0,
              "ticks": ""
             }
            },
            "type": "scattercarpet"
           }
          ],
          "scattergeo": [
           {
            "marker": {
             "colorbar": {
              "outlinewidth": 0,
              "ticks": ""
             }
            },
            "type": "scattergeo"
           }
          ],
          "scattergl": [
           {
            "marker": {
             "colorbar": {
              "outlinewidth": 0,
              "ticks": ""
             }
            },
            "type": "scattergl"
           }
          ],
          "scattermapbox": [
           {
            "marker": {
             "colorbar": {
              "outlinewidth": 0,
              "ticks": ""
             }
            },
            "type": "scattermapbox"
           }
          ],
          "scatterpolar": [
           {
            "marker": {
             "colorbar": {
              "outlinewidth": 0,
              "ticks": ""
             }
            },
            "type": "scatterpolar"
           }
          ],
          "scatterpolargl": [
           {
            "marker": {
             "colorbar": {
              "outlinewidth": 0,
              "ticks": ""
             }
            },
            "type": "scatterpolargl"
           }
          ],
          "scatterternary": [
           {
            "marker": {
             "colorbar": {
              "outlinewidth": 0,
              "ticks": ""
             }
            },
            "type": "scatterternary"
           }
          ],
          "surface": [
           {
            "colorbar": {
             "outlinewidth": 0,
             "ticks": ""
            },
            "colorscale": [
             [
              0,
              "#0d0887"
             ],
             [
              0.1111111111111111,
              "#46039f"
             ],
             [
              0.2222222222222222,
              "#7201a8"
             ],
             [
              0.3333333333333333,
              "#9c179e"
             ],
             [
              0.4444444444444444,
              "#bd3786"
             ],
             [
              0.5555555555555556,
              "#d8576b"
             ],
             [
              0.6666666666666666,
              "#ed7953"
             ],
             [
              0.7777777777777778,
              "#fb9f3a"
             ],
             [
              0.8888888888888888,
              "#fdca26"
             ],
             [
              1,
              "#f0f921"
             ]
            ],
            "type": "surface"
           }
          ],
          "table": [
           {
            "cells": {
             "fill": {
              "color": "#EBF0F8"
             },
             "line": {
              "color": "white"
             }
            },
            "header": {
             "fill": {
              "color": "#C8D4E3"
             },
             "line": {
              "color": "white"
             }
            },
            "type": "table"
           }
          ]
         },
         "layout": {
          "annotationdefaults": {
           "arrowcolor": "#2a3f5f",
           "arrowhead": 0,
           "arrowwidth": 1
          },
          "autotypenumbers": "strict",
          "coloraxis": {
           "colorbar": {
            "outlinewidth": 0,
            "ticks": ""
           }
          },
          "colorscale": {
           "diverging": [
            [
             0,
             "#8e0152"
            ],
            [
             0.1,
             "#c51b7d"
            ],
            [
             0.2,
             "#de77ae"
            ],
            [
             0.3,
             "#f1b6da"
            ],
            [
             0.4,
             "#fde0ef"
            ],
            [
             0.5,
             "#f7f7f7"
            ],
            [
             0.6,
             "#e6f5d0"
            ],
            [
             0.7,
             "#b8e186"
            ],
            [
             0.8,
             "#7fbc41"
            ],
            [
             0.9,
             "#4d9221"
            ],
            [
             1,
             "#276419"
            ]
           ],
           "sequential": [
            [
             0,
             "#0d0887"
            ],
            [
             0.1111111111111111,
             "#46039f"
            ],
            [
             0.2222222222222222,
             "#7201a8"
            ],
            [
             0.3333333333333333,
             "#9c179e"
            ],
            [
             0.4444444444444444,
             "#bd3786"
            ],
            [
             0.5555555555555556,
             "#d8576b"
            ],
            [
             0.6666666666666666,
             "#ed7953"
            ],
            [
             0.7777777777777778,
             "#fb9f3a"
            ],
            [
             0.8888888888888888,
             "#fdca26"
            ],
            [
             1,
             "#f0f921"
            ]
           ],
           "sequentialminus": [
            [
             0,
             "#0d0887"
            ],
            [
             0.1111111111111111,
             "#46039f"
            ],
            [
             0.2222222222222222,
             "#7201a8"
            ],
            [
             0.3333333333333333,
             "#9c179e"
            ],
            [
             0.4444444444444444,
             "#bd3786"
            ],
            [
             0.5555555555555556,
             "#d8576b"
            ],
            [
             0.6666666666666666,
             "#ed7953"
            ],
            [
             0.7777777777777778,
             "#fb9f3a"
            ],
            [
             0.8888888888888888,
             "#fdca26"
            ],
            [
             1,
             "#f0f921"
            ]
           ]
          },
          "colorway": [
           "#636efa",
           "#EF553B",
           "#00cc96",
           "#ab63fa",
           "#FFA15A",
           "#19d3f3",
           "#FF6692",
           "#B6E880",
           "#FF97FF",
           "#FECB52"
          ],
          "font": {
           "color": "#2a3f5f"
          },
          "geo": {
           "bgcolor": "white",
           "lakecolor": "white",
           "landcolor": "#E5ECF6",
           "showlakes": true,
           "showland": true,
           "subunitcolor": "white"
          },
          "hoverlabel": {
           "align": "left"
          },
          "hovermode": "closest",
          "mapbox": {
           "style": "light"
          },
          "paper_bgcolor": "white",
          "plot_bgcolor": "#E5ECF6",
          "polar": {
           "angularaxis": {
            "gridcolor": "white",
            "linecolor": "white",
            "ticks": ""
           },
           "bgcolor": "#E5ECF6",
           "radialaxis": {
            "gridcolor": "white",
            "linecolor": "white",
            "ticks": ""
           }
          },
          "scene": {
           "xaxis": {
            "backgroundcolor": "#E5ECF6",
            "gridcolor": "white",
            "gridwidth": 2,
            "linecolor": "white",
            "showbackground": true,
            "ticks": "",
            "zerolinecolor": "white"
           },
           "yaxis": {
            "backgroundcolor": "#E5ECF6",
            "gridcolor": "white",
            "gridwidth": 2,
            "linecolor": "white",
            "showbackground": true,
            "ticks": "",
            "zerolinecolor": "white"
           },
           "zaxis": {
            "backgroundcolor": "#E5ECF6",
            "gridcolor": "white",
            "gridwidth": 2,
            "linecolor": "white",
            "showbackground": true,
            "ticks": "",
            "zerolinecolor": "white"
           }
          },
          "shapedefaults": {
           "line": {
            "color": "#2a3f5f"
           }
          },
          "ternary": {
           "aaxis": {
            "gridcolor": "white",
            "linecolor": "white",
            "ticks": ""
           },
           "baxis": {
            "gridcolor": "white",
            "linecolor": "white",
            "ticks": ""
           },
           "bgcolor": "#E5ECF6",
           "caxis": {
            "gridcolor": "white",
            "linecolor": "white",
            "ticks": ""
           }
          },
          "title": {
           "x": 0.05
          },
          "xaxis": {
           "automargin": true,
           "gridcolor": "white",
           "linecolor": "white",
           "ticks": "",
           "title": {
            "standoff": 15
           },
           "zerolinecolor": "white",
           "zerolinewidth": 2
          },
          "yaxis": {
           "automargin": true,
           "gridcolor": "white",
           "linecolor": "white",
           "ticks": "",
           "title": {
            "standoff": 15
           },
           "zerolinecolor": "white",
           "zerolinewidth": 2
          }
         }
        },
        "title": {
         "font": {
          "size": 16
         },
         "text": "Annual Flood Extent (VV vs VH, 2015–2024)",
         "x": 0.5,
         "xanchor": "center"
        },
        "width": 1200,
        "xaxis": {
         "anchor": "y",
         "autorange": true,
         "domain": [
          0,
          0.45
         ],
         "dtick": 1,
         "gridcolor": "lightgray",
         "linecolor": "black",
         "linewidth": 1,
         "mirror": true,
         "range": [
          2007.8082576213847,
          2025.0039468457271
         ],
         "showline": true,
         "type": "linear"
        },
        "xaxis2": {
         "anchor": "y2",
         "autorange": true,
         "domain": [
          0.55,
          1
         ],
         "dtick": 1,
         "gridcolor": "lightgray",
         "linecolor": "black",
         "linewidth": 1,
         "mirror": true,
         "range": [
          2007.8082576213847,
          2025.0039468457271
         ],
         "showline": true,
         "type": "linear"
        },
        "yaxis": {
         "anchor": "x",
         "autorange": true,
         "domain": [
          0,
          1
         ],
         "gridcolor": "lightgray",
         "linecolor": "black",
         "linewidth": 1,
         "mirror": true,
         "range": [
          32456.1274567807,
          52257.304129877295
         ],
         "showline": true,
         "title": {
          "text": "Flood Area (km²)"
         },
         "type": "linear"
        },
        "yaxis2": {
         "anchor": "x2",
         "autorange": true,
         "domain": [
          0,
          1
         ],
         "gridcolor": "lightgray",
         "linecolor": "black",
         "linewidth": 1,
         "mirror": true,
         "range": [
          3073.998836746002,
          16481.107477247926
         ],
         "showline": true,
         "title": {
          "text": "Flood Area (km²)"
         },
         "type": "linear"
        }
       }
      },
      "text/html": [
       "<div>                            <div id=\"3348da9c-4816-4bd0-8bc9-e5170293495a\" class=\"plotly-graph-div\" style=\"height:520px; width:1200px;\"></div>            <script type=\"text/javascript\">                require([\"plotly\"], function(Plotly) {                    window.PLOTLYENV=window.PLOTLYENV || {};                                    if (document.getElementById(\"3348da9c-4816-4bd0-8bc9-e5170293495a\")) {                    Plotly.newPlot(                        \"3348da9c-4816-4bd0-8bc9-e5170293495a\",                        [{\"line\":{\"color\":\"#1f77b4\",\"width\":2.5},\"mode\":\"lines+markers\",\"name\":\"Delta VV\",\"x\":[2015,2016,2017,2018,2019,2020,2021,2022,2023,2024],\"y\":[33664.5816213888,36979.4982462746,46451.23147501596,47339.11427107616,46878.71022469139,44932.79552879515,44916.20040571556,43176.22693838543,44267.20722238883,44320.56114655885],\"type\":\"scatter\",\"xaxis\":\"x\",\"yaxis\":\"y\"},{\"line\":{\"color\":\"#ff7f0e\",\"width\":2.5},\"mode\":\"lines+markers\",\"name\":\"Delta VH\",\"x\":[2015,2016,2017,2018,2019,2020,2021,2022,2023,2024],\"y\":[39263.441131272775,41105.051724313314,48699.00528683864,50513.345701563725,51048.8499652692,48493.98654890958,48029.2140201418,46918.9265293632,47666.073661381015,47048.4556208106],\"type\":\"scatter\",\"xaxis\":\"x\",\"yaxis\":\"y\"},{\"line\":{\"color\":\"#1f77b4\",\"width\":2.5},\"mode\":\"lines+markers\",\"name\":\"Tonl\\u00e9 VV\",\"x\":[2015,2016,2017,2018,2019,2020,2021,2022,2023,2024],\"y\":[3892.22679054134,5898.124854894832,8076.027191679886,12174.10364248776,10445.250922172088,5921.985055647531,8692.581277716603,8961.275772451592,7306.19470459635,8195.93769552257],\"type\":\"scatter\",\"xaxis\":\"x2\",\"yaxis\":\"y2\"},{\"line\":{\"color\":\"#ff7f0e\",\"width\":2.5},\"mode\":\"lines+markers\",\"name\":\"Tonl\\u00e9 VH\",\"x\":[2015,2016,2017,2018,2019,2020,2021,2022,2023,2024],\"y\":[4982.148933792589,7430.943820494515,10357.122466724431,15662.87952345259,14813.895928273174,10199.83146520205,12975.420469600642,12896.92084403432,10711.631726106909,11576.851789594672],\"type\":\"scatter\",\"xaxis\":\"x2\",\"yaxis\":\"y2\"}],                        {\"template\":{\"data\":{\"histogram2dcontour\":[{\"type\":\"histogram2dcontour\",\"colorbar\":{\"outlinewidth\":0,\"ticks\":\"\"},\"colorscale\":[[0.0,\"#0d0887\"],[0.1111111111111111,\"#46039f\"],[0.2222222222222222,\"#7201a8\"],[0.3333333333333333,\"#9c179e\"],[0.4444444444444444,\"#bd3786\"],[0.5555555555555556,\"#d8576b\"],[0.6666666666666666,\"#ed7953\"],[0.7777777777777778,\"#fb9f3a\"],[0.8888888888888888,\"#fdca26\"],[1.0,\"#f0f921\"]]}],\"choropleth\":[{\"type\":\"choropleth\",\"colorbar\":{\"outlinewidth\":0,\"ticks\":\"\"}}],\"histogram2d\":[{\"type\":\"histogram2d\",\"colorbar\":{\"outlinewidth\":0,\"ticks\":\"\"},\"colorscale\":[[0.0,\"#0d0887\"],[0.1111111111111111,\"#46039f\"],[0.2222222222222222,\"#7201a8\"],[0.3333333333333333,\"#9c179e\"],[0.4444444444444444,\"#bd3786\"],[0.5555555555555556,\"#d8576b\"],[0.6666666666666666,\"#ed7953\"],[0.7777777777777778,\"#fb9f3a\"],[0.8888888888888888,\"#fdca26\"],[1.0,\"#f0f921\"]]}],\"heatmap\":[{\"type\":\"heatmap\",\"colorbar\":{\"outlinewidth\":0,\"ticks\":\"\"},\"colorscale\":[[0.0,\"#0d0887\"],[0.1111111111111111,\"#46039f\"],[0.2222222222222222,\"#7201a8\"],[0.3333333333333333,\"#9c179e\"],[0.4444444444444444,\"#bd3786\"],[0.5555555555555556,\"#d8576b\"],[0.6666666666666666,\"#ed7953\"],[0.7777777777777778,\"#fb9f3a\"],[0.8888888888888888,\"#fdca26\"],[1.0,\"#f0f921\"]]}],\"heatmapgl\":[{\"type\":\"heatmapgl\",\"colorbar\":{\"outlinewidth\":0,\"ticks\":\"\"},\"colorscale\":[[0.0,\"#0d0887\"],[0.1111111111111111,\"#46039f\"],[0.2222222222222222,\"#7201a8\"],[0.3333333333333333,\"#9c179e\"],[0.4444444444444444,\"#bd3786\"],[0.5555555555555556,\"#d8576b\"],[0.6666666666666666,\"#ed7953\"],[0.7777777777777778,\"#fb9f3a\"],[0.8888888888888888,\"#fdca26\"],[1.0,\"#f0f921\"]]}],\"contourcarpet\":[{\"type\":\"contourcarpet\",\"colorbar\":{\"outlinewidth\":0,\"ticks\":\"\"}}],\"contour\":[{\"type\":\"contour\",\"colorbar\":{\"outlinewidth\":0,\"ticks\":\"\"},\"colorscale\":[[0.0,\"#0d0887\"],[0.1111111111111111,\"#46039f\"],[0.2222222222222222,\"#7201a8\"],[0.3333333333333333,\"#9c179e\"],[0.4444444444444444,\"#bd3786\"],[0.5555555555555556,\"#d8576b\"],[0.6666666666666666,\"#ed7953\"],[0.7777777777777778,\"#fb9f3a\"],[0.8888888888888888,\"#fdca26\"],[1.0,\"#f0f921\"]]}],\"surface\":[{\"type\":\"surface\",\"colorbar\":{\"outlinewidth\":0,\"ticks\":\"\"},\"colorscale\":[[0.0,\"#0d0887\"],[0.1111111111111111,\"#46039f\"],[0.2222222222222222,\"#7201a8\"],[0.3333333333333333,\"#9c179e\"],[0.4444444444444444,\"#bd3786\"],[0.5555555555555556,\"#d8576b\"],[0.6666666666666666,\"#ed7953\"],[0.7777777777777778,\"#fb9f3a\"],[0.8888888888888888,\"#fdca26\"],[1.0,\"#f0f921\"]]}],\"mesh3d\":[{\"type\":\"mesh3d\",\"colorbar\":{\"outlinewidth\":0,\"ticks\":\"\"}}],\"scatter\":[{\"fillpattern\":{\"fillmode\":\"overlay\",\"size\":10,\"solidity\":0.2},\"type\":\"scatter\"}],\"parcoords\":[{\"type\":\"parcoords\",\"line\":{\"colorbar\":{\"outlinewidth\":0,\"ticks\":\"\"}}}],\"scatterpolargl\":[{\"type\":\"scatterpolargl\",\"marker\":{\"colorbar\":{\"outlinewidth\":0,\"ticks\":\"\"}}}],\"bar\":[{\"error_x\":{\"color\":\"#2a3f5f\"},\"error_y\":{\"color\":\"#2a3f5f\"},\"marker\":{\"line\":{\"color\":\"#E5ECF6\",\"width\":0.5},\"pattern\":{\"fillmode\":\"overlay\",\"size\":10,\"solidity\":0.2}},\"type\":\"bar\"}],\"scattergeo\":[{\"type\":\"scattergeo\",\"marker\":{\"colorbar\":{\"outlinewidth\":0,\"ticks\":\"\"}}}],\"scatterpolar\":[{\"type\":\"scatterpolar\",\"marker\":{\"colorbar\":{\"outlinewidth\":0,\"ticks\":\"\"}}}],\"histogram\":[{\"marker\":{\"pattern\":{\"fillmode\":\"overlay\",\"size\":10,\"solidity\":0.2}},\"type\":\"histogram\"}],\"scattergl\":[{\"type\":\"scattergl\",\"marker\":{\"colorbar\":{\"outlinewidth\":0,\"ticks\":\"\"}}}],\"scatter3d\":[{\"type\":\"scatter3d\",\"line\":{\"colorbar\":{\"outlinewidth\":0,\"ticks\":\"\"}},\"marker\":{\"colorbar\":{\"outlinewidth\":0,\"ticks\":\"\"}}}],\"scattermapbox\":[{\"type\":\"scattermapbox\",\"marker\":{\"colorbar\":{\"outlinewidth\":0,\"ticks\":\"\"}}}],\"scatterternary\":[{\"type\":\"scatterternary\",\"marker\":{\"colorbar\":{\"outlinewidth\":0,\"ticks\":\"\"}}}],\"scattercarpet\":[{\"type\":\"scattercarpet\",\"marker\":{\"colorbar\":{\"outlinewidth\":0,\"ticks\":\"\"}}}],\"carpet\":[{\"aaxis\":{\"endlinecolor\":\"#2a3f5f\",\"gridcolor\":\"white\",\"linecolor\":\"white\",\"minorgridcolor\":\"white\",\"startlinecolor\":\"#2a3f5f\"},\"baxis\":{\"endlinecolor\":\"#2a3f5f\",\"gridcolor\":\"white\",\"linecolor\":\"white\",\"minorgridcolor\":\"white\",\"startlinecolor\":\"#2a3f5f\"},\"type\":\"carpet\"}],\"table\":[{\"cells\":{\"fill\":{\"color\":\"#EBF0F8\"},\"line\":{\"color\":\"white\"}},\"header\":{\"fill\":{\"color\":\"#C8D4E3\"},\"line\":{\"color\":\"white\"}},\"type\":\"table\"}],\"barpolar\":[{\"marker\":{\"line\":{\"color\":\"#E5ECF6\",\"width\":0.5},\"pattern\":{\"fillmode\":\"overlay\",\"size\":10,\"solidity\":0.2}},\"type\":\"barpolar\"}],\"pie\":[{\"automargin\":true,\"type\":\"pie\"}]},\"layout\":{\"autotypenumbers\":\"strict\",\"colorway\":[\"#636efa\",\"#EF553B\",\"#00cc96\",\"#ab63fa\",\"#FFA15A\",\"#19d3f3\",\"#FF6692\",\"#B6E880\",\"#FF97FF\",\"#FECB52\"],\"font\":{\"color\":\"#2a3f5f\"},\"hovermode\":\"closest\",\"hoverlabel\":{\"align\":\"left\"},\"paper_bgcolor\":\"white\",\"plot_bgcolor\":\"#E5ECF6\",\"polar\":{\"bgcolor\":\"#E5ECF6\",\"angularaxis\":{\"gridcolor\":\"white\",\"linecolor\":\"white\",\"ticks\":\"\"},\"radialaxis\":{\"gridcolor\":\"white\",\"linecolor\":\"white\",\"ticks\":\"\"}},\"ternary\":{\"bgcolor\":\"#E5ECF6\",\"aaxis\":{\"gridcolor\":\"white\",\"linecolor\":\"white\",\"ticks\":\"\"},\"baxis\":{\"gridcolor\":\"white\",\"linecolor\":\"white\",\"ticks\":\"\"},\"caxis\":{\"gridcolor\":\"white\",\"linecolor\":\"white\",\"ticks\":\"\"}},\"coloraxis\":{\"colorbar\":{\"outlinewidth\":0,\"ticks\":\"\"}},\"colorscale\":{\"sequential\":[[0.0,\"#0d0887\"],[0.1111111111111111,\"#46039f\"],[0.2222222222222222,\"#7201a8\"],[0.3333333333333333,\"#9c179e\"],[0.4444444444444444,\"#bd3786\"],[0.5555555555555556,\"#d8576b\"],[0.6666666666666666,\"#ed7953\"],[0.7777777777777778,\"#fb9f3a\"],[0.8888888888888888,\"#fdca26\"],[1.0,\"#f0f921\"]],\"sequentialminus\":[[0.0,\"#0d0887\"],[0.1111111111111111,\"#46039f\"],[0.2222222222222222,\"#7201a8\"],[0.3333333333333333,\"#9c179e\"],[0.4444444444444444,\"#bd3786\"],[0.5555555555555556,\"#d8576b\"],[0.6666666666666666,\"#ed7953\"],[0.7777777777777778,\"#fb9f3a\"],[0.8888888888888888,\"#fdca26\"],[1.0,\"#f0f921\"]],\"diverging\":[[0,\"#8e0152\"],[0.1,\"#c51b7d\"],[0.2,\"#de77ae\"],[0.3,\"#f1b6da\"],[0.4,\"#fde0ef\"],[0.5,\"#f7f7f7\"],[0.6,\"#e6f5d0\"],[0.7,\"#b8e186\"],[0.8,\"#7fbc41\"],[0.9,\"#4d9221\"],[1,\"#276419\"]]},\"xaxis\":{\"gridcolor\":\"white\",\"linecolor\":\"white\",\"ticks\":\"\",\"title\":{\"standoff\":15},\"zerolinecolor\":\"white\",\"automargin\":true,\"zerolinewidth\":2},\"yaxis\":{\"gridcolor\":\"white\",\"linecolor\":\"white\",\"ticks\":\"\",\"title\":{\"standoff\":15},\"zerolinecolor\":\"white\",\"automargin\":true,\"zerolinewidth\":2},\"scene\":{\"xaxis\":{\"backgroundcolor\":\"#E5ECF6\",\"gridcolor\":\"white\",\"linecolor\":\"white\",\"showbackground\":true,\"ticks\":\"\",\"zerolinecolor\":\"white\",\"gridwidth\":2},\"yaxis\":{\"backgroundcolor\":\"#E5ECF6\",\"gridcolor\":\"white\",\"linecolor\":\"white\",\"showbackground\":true,\"ticks\":\"\",\"zerolinecolor\":\"white\",\"gridwidth\":2},\"zaxis\":{\"backgroundcolor\":\"#E5ECF6\",\"gridcolor\":\"white\",\"linecolor\":\"white\",\"showbackground\":true,\"ticks\":\"\",\"zerolinecolor\":\"white\",\"gridwidth\":2}},\"shapedefaults\":{\"line\":{\"color\":\"#2a3f5f\"}},\"annotationdefaults\":{\"arrowcolor\":\"#2a3f5f\",\"arrowhead\":0,\"arrowwidth\":1},\"geo\":{\"bgcolor\":\"white\",\"landcolor\":\"#E5ECF6\",\"subunitcolor\":\"white\",\"showland\":true,\"showlakes\":true,\"lakecolor\":\"white\"},\"title\":{\"x\":0.05},\"mapbox\":{\"style\":\"light\"}}},\"xaxis\":{\"anchor\":\"y\",\"domain\":[0.0,0.45],\"dtick\":1,\"gridcolor\":\"lightgray\",\"showline\":true,\"linewidth\":1,\"linecolor\":\"black\",\"mirror\":true},\"yaxis\":{\"anchor\":\"x\",\"domain\":[0.0,1.0],\"gridcolor\":\"lightgray\",\"showline\":true,\"linewidth\":1,\"linecolor\":\"black\",\"mirror\":true,\"title\":{\"text\":\"Flood Area (km\\u00b2)\"}},\"xaxis2\":{\"anchor\":\"y2\",\"domain\":[0.55,1.0],\"dtick\":1,\"gridcolor\":\"lightgray\",\"showline\":true,\"linewidth\":1,\"linecolor\":\"black\",\"mirror\":true},\"yaxis2\":{\"anchor\":\"x2\",\"domain\":[0.0,1.0],\"gridcolor\":\"lightgray\",\"showline\":true,\"linewidth\":1,\"linecolor\":\"black\",\"mirror\":true,\"title\":{\"text\":\"Flood Area (km\\u00b2)\"}},\"annotations\":[{\"font\":{\"size\":16},\"showarrow\":false,\"text\":\"Mekong Delta \\u2014 Flood Season (Aug\\u2013Sep)\",\"x\":0.225,\"xanchor\":\"center\",\"xref\":\"paper\",\"y\":1.0,\"yanchor\":\"bottom\",\"yref\":\"paper\"},{\"font\":{\"size\":16},\"showarrow\":false,\"text\":\"Tonl\\u00e9 Sap \\u2014 Flood Season (Aug\\u2013Sep)\",\"x\":0.775,\"xanchor\":\"center\",\"xref\":\"paper\",\"y\":1.0,\"yanchor\":\"bottom\",\"yref\":\"paper\"},{\"showarrow\":false,\"text\":\"Pre-dam wet baseline: 39,914 km\\u00b2\",\"x\":0,\"xanchor\":\"left\",\"xref\":\"x domain\",\"y\":39914.49387687479,\"yanchor\":\"bottom\",\"yref\":\"y\"},{\"showarrow\":false,\"text\":\"2019\",\"x\":2019,\"xanchor\":\"right\",\"xref\":\"x\",\"y\":1,\"yanchor\":\"top\",\"yref\":\"y domain\"},{\"showarrow\":false,\"text\":\"2009\",\"x\":2009,\"xanchor\":\"right\",\"xref\":\"x\",\"y\":1,\"yanchor\":\"top\",\"yref\":\"y domain\"},{\"showarrow\":false,\"text\":\"2012\",\"x\":2012,\"xanchor\":\"right\",\"xref\":\"x\",\"y\":1,\"yanchor\":\"top\",\"yref\":\"y domain\"},{\"showarrow\":false,\"text\":\"Pre-dam wet baseline: 4,839 km\\u00b2\",\"x\":0,\"xanchor\":\"left\",\"xref\":\"x2 domain\",\"y\":4839.440929313576,\"yanchor\":\"bottom\",\"yref\":\"y2\"},{\"showarrow\":false,\"text\":\"2019\",\"x\":2019,\"xanchor\":\"right\",\"xref\":\"x2\",\"y\":1,\"yanchor\":\"top\",\"yref\":\"y2 domain\"},{\"showarrow\":false,\"text\":\"2009\",\"x\":2009,\"xanchor\":\"right\",\"xref\":\"x2\",\"y\":1,\"yanchor\":\"top\",\"yref\":\"y2 domain\"},{\"showarrow\":false,\"text\":\"2012\",\"x\":2012,\"xanchor\":\"right\",\"xref\":\"x2\",\"y\":1,\"yanchor\":\"top\",\"yref\":\"y2 domain\"}],\"font\":{\"family\":\"Arial, sans-serif\",\"size\":12},\"height\":520,\"width\":1200,\"hovermode\":\"x unified\",\"plot_bgcolor\":\"white\",\"paper_bgcolor\":\"white\",\"showlegend\":true,\"shapes\":[{\"line\":{\"color\":\"#d62728\",\"dash\":\"dash\"},\"opacity\":0.7,\"type\":\"line\",\"x0\":0,\"x1\":1,\"xref\":\"x domain\",\"y0\":39914.49387687479,\"y1\":39914.49387687479,\"yref\":\"y\"},{\"line\":{\"color\":\"#7f7f7f\",\"dash\":\"dot\"},\"opacity\":0.6,\"type\":\"line\",\"x0\":2019,\"x1\":2019,\"xref\":\"x\",\"y0\":0,\"y1\":1,\"yref\":\"y domain\"},{\"line\":{\"color\":\"#7f7f7f\",\"dash\":\"dot\"},\"opacity\":0.6,\"type\":\"line\",\"x0\":2009,\"x1\":2009,\"xref\":\"x\",\"y0\":0,\"y1\":1,\"yref\":\"y domain\"},{\"line\":{\"color\":\"#7f7f7f\",\"dash\":\"dot\"},\"opacity\":0.6,\"type\":\"line\",\"x0\":2012,\"x1\":2012,\"xref\":\"x\",\"y0\":0,\"y1\":1,\"yref\":\"y domain\"},{\"line\":{\"color\":\"#d62728\",\"dash\":\"dash\"},\"opacity\":0.7,\"type\":\"line\",\"x0\":0,\"x1\":1,\"xref\":\"x2 domain\",\"y0\":4839.440929313576,\"y1\":4839.440929313576,\"yref\":\"y2\"},{\"line\":{\"color\":\"#7f7f7f\",\"dash\":\"dot\"},\"opacity\":0.6,\"type\":\"line\",\"x0\":2019,\"x1\":2019,\"xref\":\"x2\",\"y0\":0,\"y1\":1,\"yref\":\"y2 domain\"},{\"line\":{\"color\":\"#7f7f7f\",\"dash\":\"dot\"},\"opacity\":0.6,\"type\":\"line\",\"x0\":2009,\"x1\":2009,\"xref\":\"x2\",\"y0\":0,\"y1\":1,\"yref\":\"y2 domain\"},{\"line\":{\"color\":\"#7f7f7f\",\"dash\":\"dot\"},\"opacity\":0.6,\"type\":\"line\",\"x0\":2012,\"x1\":2012,\"xref\":\"x2\",\"y0\":0,\"y1\":1,\"yref\":\"y2 domain\"}],\"title\":{\"font\":{\"size\":16},\"text\":\"Annual Flood Extent (VV vs VH, 2015\\u20132024)\",\"x\":0.5,\"xanchor\":\"center\"}},                        {\"responsive\": true}                    ).then(function(){\n",
       "                            \n",
       "var gd = document.getElementById('3348da9c-4816-4bd0-8bc9-e5170293495a');\n",
       "var x = new MutationObserver(function (mutations, observer) {{\n",
       "        var display = window.getComputedStyle(gd).display;\n",
       "        if (!display || display === 'none') {{\n",
       "            console.log([gd, 'removed!']);\n",
       "            Plotly.purge(gd);\n",
       "            observer.disconnect();\n",
       "        }}\n",
       "}});\n",
       "\n",
       "// Listen for the removal of the full notebook cells\n",
       "var notebookContainer = gd.closest('#notebook-container');\n",
       "if (notebookContainer) {{\n",
       "    x.observe(notebookContainer, {childList: true});\n",
       "}}\n",
       "\n",
       "// Listen for the clearing of the current output cell\n",
       "var outputEl = gd.closest('.output');\n",
       "if (outputEl) {{\n",
       "    x.observe(outputEl, {childList: true});\n",
       "}}\n",
       "\n",
       "                        })                };                });            </script>        </div>"
      ]
     },
     "metadata": {},
     "output_type": "display_data"
    },
    {
     "name": "stdout",
     "output_type": "stream",
     "text": [
      "💡 VH extra detection (avg over years):\n",
      " - Delta : 8.6%\n",
      " - Tonlé : 40.6%\n"
     ]
    }
   ],
   "source": [
    "# === Cell 7: Figure 1 - Annual Flood Extent ===\n",
    "def fig_annual_flood(df_delta, df_ts, baselines, events):\n",
    "    fig = create_dual_subplot(\"Mekong Delta — Flood Season (Aug–Sep)\",\n",
    "                              \"Tonlé Sap — Flood Season (Aug–Sep)\",\n",
    "                              height=520, width=1200)\n",
    "    # Delta\n",
    "    if {\"year\",\"flood_vv_km2\",\"flood_vh_km2\"}.issubset(df_delta.columns) and len(df_delta):\n",
    "        fig.add_trace(go.Scatter(x=df_delta[\"year\"], y=df_delta[\"flood_vv_km2\"],\n",
    "                                 mode=\"lines+markers\", name=\"Delta VV\",\n",
    "                                 line=dict(color=COLORS[\"vv\"], width=2.5)), row=1, col=1)\n",
    "        fig.add_trace(go.Scatter(x=df_delta[\"year\"], y=df_delta[\"flood_vh_km2\"],\n",
    "                                 mode=\"lines+markers\", name=\"Delta VH\",\n",
    "                                 line=dict(color=COLORS[\"vh\"], width=2.5)), row=1, col=1)\n",
    "        add_baseline(fig, baselines[\"Mekong_Delta\"][\"wet_km2\"], \"Pre-dam wet baseline\", row=1, col=1)\n",
    "        add_event_markers(fig, events, row=1, col=1)\n",
    "    else:\n",
    "        fig.add_annotation(text=\"No data\", xref=\"paper\", yref=\"paper\", x=0.5, y=0.5, showarrow=False, row=1, col=1)\n",
    "\n",
    "    # Tonlé\n",
    "    if {\"year\",\"flood_vv_km2\",\"flood_vh_km2\"}.issubset(df_ts.columns) and len(df_ts):\n",
    "        fig.add_trace(go.Scatter(x=df_ts[\"year\"], y=df_ts[\"flood_vv_km2\"],\n",
    "                                 mode=\"lines+markers\", name=\"Tonlé VV\",\n",
    "                                 line=dict(color=COLORS[\"vv\"], width=2.5)), row=1, col=2)\n",
    "        fig.add_trace(go.Scatter(x=df_ts[\"year\"], y=df_ts[\"flood_vh_km2\"],\n",
    "                                 mode=\"lines+markers\", name=\"Tonlé VH\",\n",
    "                                 line=dict(color=COLORS[\"vh\"], width=2.5)), row=1, col=2)\n",
    "        add_baseline(fig, baselines[\"Tonle_Sap\"][\"wet_km2\"], \"Pre-dam wet baseline\", row=1, col=2)\n",
    "        add_event_markers(fig, events, row=1, col=2)\n",
    "    else:\n",
    "        fig.add_annotation(text=\"No data\", xref=\"paper\", yref=\"paper\", x=0.5, y=0.5, showarrow=False, row=1, col=2)\n",
    "\n",
    "    fig.update_yaxes(title_text=\"Flood Area (km²)\", row=1, col=1)\n",
    "    fig.update_yaxes(title_text=\"Flood Area (km²)\", row=1, col=2)\n",
    "    return finalize_figure(fig, \"Annual Flood Extent (VV vs VH, 2015–2024)\",\n",
    "                           ASSETS / \"fig_annual_flood.json\")\n",
    "\n",
    "fig1 = fig_annual_flood(df_delta, df_ts, BASE, EVENTS)\n",
    "fig1.show()\n",
    "\n",
    "# 핵심 지표\n",
    "def _avg_gain_pct(df):\n",
    "    if {\"vh_gain_km2\",\"flood_vv_km2\"}.issubset(df.columns):\n",
    "        s = df.replace(0, np.nan)\n",
    "        return float((s[\"vh_gain_km2\"]/s[\"flood_vv_km2\"]*100).dropna().mean() or 0.0)\n",
    "    return np.nan\n",
    "\n",
    "print(\"💡 VH extra detection (avg over years):\")\n",
    "print(f\" - Delta : { _avg_gain_pct(df_delta):.1f}%\")\n",
    "print(f\" - Tonlé : { _avg_gain_pct(df_ts):.1f}%\")\n"
   ]
  },
  {
   "cell_type": "code",
   "execution_count": null,
   "id": "0fadc260-ac37-4cac-9499-059c943b78bb",
   "metadata": {},
   "outputs": [],
   "source": []
  },
  {
   "cell_type": "code",
   "execution_count": 204,
   "id": "e36dba7b-6224-4665-be0a-85400505a665",
   "metadata": {},
   "outputs": [
    {
     "name": "stdout",
     "output_type": "stream",
     "text": [
      "💾 Saved JSON -> C:\\Users\\wakhan\\Desktop\\Project\\2025\\Mekong\\notebooks\\outputs\\web_assets\\fig_flood_vs_precip.json\n"
     ]
    },
    {
     "data": {
      "application/vnd.plotly.v1+json": {
       "config": {
        "plotlyServerURL": "https://plot.ly"
       },
       "data": [
        {
         "marker": {
          "color": [
           2015,
           2016,
           2017,
           2018,
           2019,
           2020,
           2021,
           2022,
           2023,
           2024
          ],
          "colorscale": [
           [
            0,
            "#440154"
           ],
           [
            0.1111111111111111,
            "#482878"
           ],
           [
            0.2222222222222222,
            "#3e4989"
           ],
           [
            0.3333333333333333,
            "#31688e"
           ],
           [
            0.4444444444444444,
            "#26828e"
           ],
           [
            0.5555555555555556,
            "#1f9e89"
           ],
           [
            0.6666666666666666,
            "#35b779"
           ],
           [
            0.7777777777777778,
            "#6ece58"
           ],
           [
            0.8888888888888888,
            "#b5de2b"
           ],
           [
            1,
            "#fde725"
           ]
          ],
          "showscale": true,
          "size": 10
         },
         "mode": "markers+text",
         "name": "Delta",
         "text": [
          2015,
          2016,
          2017,
          2018,
          2019,
          2020,
          2021,
          2022,
          2023,
          2024
         ],
         "textposition": "top center",
         "type": "scatter",
         "x": [
          482.8639207294055,
          487.7709752825163,
          448.6416806596817,
          462.7453957810022,
          456.369944562378,
          551.6921516146449,
          528.4730810719474,
          493.0327309607914,
          451.3636267835125,
          569.038101709602
         ],
         "xaxis": "x",
         "y": [
          39263.441131272775,
          41105.051724313314,
          48699.00528683864,
          50513.345701563725,
          51048.8499652692,
          48493.98654890958,
          48029.2140201418,
          46918.9265293632,
          47666.073661381015,
          47048.4556208106
         ],
         "yaxis": "y"
        },
        {
         "line": {
          "color": "gray",
          "dash": "dash"
         },
         "mode": "lines",
         "name": "fit (r=-0.08)",
         "type": "scatter",
         "x": [
          448.6416806596817,
          449.8578061248324,
          451.0739315899831,
          452.29005705513384,
          453.50618252028454,
          454.72230798543524,
          455.93843345058593,
          457.1545589157367,
          458.3706843808874,
          459.5868098460381,
          460.8029353111888,
          462.01906077633953,
          463.2351862414902,
          464.4513117066409,
          465.6674371717916,
          466.8835626369423,
          468.09968810209307,
          469.31581356724377,
          470.53193903239446,
          471.74806449754516,
          472.9641899626959,
          474.1803154278466,
          475.3964408929973,
          476.612566358148,
          477.82869182329875,
          479.04481728844945,
          480.26094275360015,
          481.47706821875084,
          482.69319368390154,
          483.9093191490523,
          485.125444614203,
          486.3415700793537,
          487.5576955445044,
          488.77382100965514,
          489.98994647480583,
          491.20607193995653,
          492.4221974051072,
          493.638322870258,
          494.8544483354087,
          496.0705738005594,
          497.28669926571007,
          498.50282473086077,
          499.7189501960115,
          500.9350756611622,
          502.1512011263129,
          503.3673265914636,
          504.58345205661436,
          505.79957752176506,
          507.01570298691576,
          508.23182845206645,
          509.4479539172172,
          510.6640793823679,
          511.8802048475186,
          513.0963303126694,
          514.31245577782,
          515.5285812429707,
          516.7447067081214,
          517.9608321732721,
          519.1769576384229,
          520.3930831035735,
          521.6092085687243,
          522.8253340338749,
          524.0414594990257,
          525.2575849641764,
          526.4737104293271,
          527.6898358944778,
          528.9059613596286,
          530.1220868247792,
          531.33821228993,
          532.5543377550807,
          533.7704632202314,
          534.9865886853821,
          536.2027141505328,
          537.4188396156835,
          538.6349650808343,
          539.8510905459849,
          541.0672160111357,
          542.2833414762863,
          543.499466941437,
          544.7155924065878,
          545.9317178717384,
          547.1478433368892,
          548.3639688020398,
          549.5800942671906,
          550.7962197323413,
          552.012345197492,
          553.2284706626427,
          554.4445961277934,
          555.6607215929441,
          556.8768470580949,
          558.0929725232455,
          559.3090979883963,
          560.525223453547,
          561.7413489186977,
          562.9574743838484,
          564.1735998489992,
          565.3897253141498,
          566.6058507793006,
          567.8219762444512,
          569.038101709602
         ],
         "xaxis": "x",
         "y": [
          47202.179988137555,
          47193.349343454625,
          47184.518698771695,
          47175.68805408877,
          47166.85740940584,
          47158.02676472291,
          47149.19612003999,
          47140.36547535706,
          47131.53483067413,
          47122.704185991206,
          47113.873541308276,
          47105.042896625346,
          47096.21225194242,
          47087.38160725949,
          47078.55096257657,
          47069.72031789364,
          47060.88967321071,
          47052.05902852779,
          47043.22838384486,
          47034.39773916193,
          47025.567094479,
          47016.73644979607,
          47007.90580511314,
          46999.07516043022,
          46990.24451574729,
          46981.41387106436,
          46972.58322638144,
          46963.75258169851,
          46954.92193701558,
          46946.091292332654,
          46937.260647649724,
          46928.430002966794,
          46919.59935828387,
          46910.76871360094,
          46901.93806891801,
          46893.10742423509,
          46884.27677955216,
          46875.44613486923,
          46866.615490186305,
          46857.784845503375,
          46848.954200820444,
          46840.12355613752,
          46831.29291145459,
          46822.46226677167,
          46813.63162208874,
          46804.80097740581,
          46795.970332722885,
          46787.139688039955,
          46778.309043357025,
          46769.4783986741,
          46760.64775399117,
          46751.81710930824,
          46742.98646462532,
          46734.15581994239,
          46725.32517525946,
          46716.494530576536,
          46707.663885893606,
          46698.833241210676,
          46690.00259652775,
          46681.17195184482,
          46672.34130716189,
          46663.51066247897,
          46654.68001779604,
          46645.84937311312,
          46637.01872843019,
          46628.188083747256,
          46619.35743906433,
          46610.5267943814,
          46601.69614969847,
          46592.86550501555,
          46584.03486033262,
          46575.20421564969,
          46566.37357096677,
          46557.54292628384,
          46548.71228160091,
          46539.881636917984,
          46531.050992235054,
          46522.220347552124,
          46513.3897028692,
          46504.55905818627,
          46495.72841350334,
          46486.89776882042,
          46478.06712413749,
          46469.23647945456,
          46460.405834771635,
          46451.575190088704,
          46442.744545405774,
          46433.91390072285,
          46425.08325603992,
          46416.252611357,
          46407.42196667407,
          46398.59132199114,
          46389.760677308215,
          46380.930032625285,
          46372.099387942355,
          46363.26874325943,
          46354.4380985765,
          46345.60745389357,
          46336.77680921065,
          46327.94616452772
         ],
         "yaxis": "y"
        },
        {
         "marker": {
          "color": [
           2015,
           2016,
           2017,
           2018,
           2019,
           2020,
           2021,
           2022,
           2023,
           2024
          ],
          "colorscale": [
           [
            0,
            "#0d0887"
           ],
           [
            0.1111111111111111,
            "#46039f"
           ],
           [
            0.2222222222222222,
            "#7201a8"
           ],
           [
            0.3333333333333333,
            "#9c179e"
           ],
           [
            0.4444444444444444,
            "#bd3786"
           ],
           [
            0.5555555555555556,
            "#d8576b"
           ],
           [
            0.6666666666666666,
            "#ed7953"
           ],
           [
            0.7777777777777778,
            "#fb9f3a"
           ],
           [
            0.8888888888888888,
            "#fdca26"
           ],
           [
            1,
            "#f0f921"
           ]
          ],
          "showscale": true,
          "size": 10
         },
         "mode": "markers+text",
         "name": "Tonlé",
         "text": [
          2015,
          2016,
          2017,
          2018,
          2019,
          2020,
          2021,
          2022,
          2023,
          2024
         ],
         "textposition": "top center",
         "type": "scatter",
         "x": [
          470.7925859844543,
          587.7070399428268,
          547.2407972405547,
          506.9744872704592,
          529.7715362432689,
          488.7168215934026,
          640.2881505414131,
          833.2738088820176,
          460.4511689045005,
          556.3449533991119
         ],
         "xaxis": "x2",
         "y": [
          4982.148933792589,
          7430.943820494515,
          10357.122466724431,
          15662.87952345259,
          14813.895928273174,
          10199.83146520205,
          12975.420469600642,
          12896.92084403432,
          10711.631726106909,
          11576.851789594672
         ],
         "yaxis": "y2"
        },
        {
         "line": {
          "color": "gray",
          "dash": "dash"
         },
         "mode": "lines",
         "name": "fit (r=0.26)",
         "type": "scatter",
         "x": [
          460.4511689045005,
          464.21705415679867,
          467.9829394090968,
          471.74882466139496,
          475.5147099136931,
          479.28059516599126,
          483.04648041828943,
          486.81236567058755,
          490.57825092288573,
          494.34413617518385,
          498.110021427482,
          501.8759066797802,
          505.6417919320783,
          509.4076771843765,
          513.1735624366746,
          516.9394476889728,
          520.705332941271,
          524.471218193569,
          528.2371034458672,
          532.0029886981654,
          535.7688739504636,
          539.5347592027617,
          543.3006444550599,
          547.066529707358,
          550.8324149596561,
          554.5983002119543,
          558.3641854642525,
          562.1300707165506,
          565.8959559688487,
          569.6618412211469,
          573.4277264734451,
          577.1936117257433,
          580.9594969780414,
          584.7253822303395,
          588.4912674826377,
          592.2571527349359,
          596.023037987234,
          599.7889232395321,
          603.5548084918303,
          607.3206937441284,
          611.0865789964266,
          614.8524642487248,
          618.618349501023,
          622.384234753321,
          626.1501200056192,
          629.9160052579174,
          633.6818905102156,
          637.4477757625136,
          641.2136610148118,
          644.97954626711,
          648.7454315194082,
          652.5113167717063,
          656.2772020240045,
          660.0430872763026,
          663.8089725286007,
          667.5748577808989,
          671.340743033197,
          675.1066282854952,
          678.8725135377933,
          682.6383987900915,
          686.4042840423897,
          690.1701692946879,
          693.936054546986,
          697.7019397992841,
          701.4678250515823,
          705.2337103038805,
          708.9995955561785,
          712.7654808084767,
          716.5313660607749,
          720.297251313073,
          724.0631365653712,
          727.8290218176694,
          731.5949070699676,
          735.3607923222656,
          739.1266775745638,
          742.892562826862,
          746.65844807916,
          750.4243333314582,
          754.1902185837564,
          757.9561038360546,
          761.7219890883528,
          765.4878743406509,
          769.2537595929491,
          773.0196448452472,
          776.7855300975453,
          780.5514153498434,
          784.3173006021416,
          788.0831858544398,
          791.8490711067379,
          795.6149563590361,
          799.3808416113343,
          803.1467268636325,
          806.9126121159306,
          810.6784973682287,
          814.4443826205269,
          818.2102678728249,
          821.9761531251231,
          825.7420383774213,
          829.5079236297195,
          833.2738088820176
         ],
         "xaxis": "x2",
         "y": [
          10374.082188065837,
          10403.21111039223,
          10432.340032718625,
          10461.46895504502,
          10490.597877371412,
          10519.726799697808,
          10548.855722024202,
          10577.984644350596,
          10607.113566676991,
          10636.242489003384,
          10665.37141132978,
          10694.500333656173,
          10723.629255982567,
          10752.75817830896,
          10781.887100635355,
          10811.01602296175,
          10840.144945288144,
          10869.273867614538,
          10898.402789940932,
          10927.531712267326,
          10956.660634593722,
          10985.789556920114,
          11014.91847924651,
          11044.047401572901,
          11073.176323899297,
          11102.305246225691,
          11131.434168552085,
          11160.563090878479,
          11189.692013204873,
          11218.820935531268,
          11247.949857857662,
          11277.078780184056,
          11306.207702510452,
          11335.336624836844,
          11364.46554716324,
          11393.594469489633,
          11422.723391816027,
          11451.852314142421,
          11480.981236468815,
          11510.11015879521,
          11539.239081121603,
          11568.368003447998,
          11597.496925774392,
          11626.625848100786,
          11655.754770427182,
          11684.883692753574,
          11714.01261507997,
          11743.141537406362,
          11772.270459732757,
          11801.399382059151,
          11830.528304385545,
          11859.65722671194,
          11888.786149038335,
          11917.915071364729,
          11947.043993691123,
          11976.172916017516,
          12005.30183834391,
          12034.430760670304,
          12063.5596829967,
          12092.688605323092,
          12121.817527649488,
          12150.946449975883,
          12180.075372302275,
          12209.204294628671,
          12238.333216955063,
          12267.462139281459,
          12296.59106160785,
          12325.719983934247,
          12354.84890626064,
          12383.977828587034,
          12413.10675091343,
          12442.235673239824,
          12471.364595566218,
          12500.493517892612,
          12529.622440219006,
          12558.751362545401,
          12587.880284871793,
          12617.009207198189,
          12646.138129524583,
          12675.267051850977,
          12704.395974177372,
          12733.524896503764,
          12762.65381883016,
          12791.782741156552,
          12820.911663482948,
          12850.04058580934,
          12879.169508135736,
          12908.29843046213,
          12937.427352788523,
          12966.55627511492,
          12995.685197441313,
          13024.814119767707,
          13053.943042094103,
          13083.071964420495,
          13112.20088674689,
          13141.329809073282,
          13170.458731399678,
          13199.587653726072,
          13228.716576052466,
          13257.845498378862
         ],
         "yaxis": "y2"
        }
       ],
       "layout": {
        "annotations": [
         {
          "font": {
           "size": 16
          },
          "showarrow": false,
          "text": "Mekong Delta — Flood vs Precip (Aug–Sep)",
          "x": 0.225,
          "xanchor": "center",
          "xref": "paper",
          "y": 1,
          "yanchor": "bottom",
          "yref": "paper"
         },
         {
          "font": {
           "size": 16
          },
          "showarrow": false,
          "text": "Tonlé Sap — Flood vs Precip (Aug–Sep)",
          "x": 0.775,
          "xanchor": "center",
          "xref": "paper",
          "y": 1,
          "yanchor": "bottom",
          "yref": "paper"
         }
        ],
        "font": {
         "family": "Arial, sans-serif",
         "size": 12
        },
        "height": 520,
        "hovermode": "x unified",
        "paper_bgcolor": "white",
        "plot_bgcolor": "white",
        "showlegend": true,
        "template": {
         "data": {
          "bar": [
           {
            "error_x": {
             "color": "#2a3f5f"
            },
            "error_y": {
             "color": "#2a3f5f"
            },
            "marker": {
             "line": {
              "color": "#E5ECF6",
              "width": 0.5
             },
             "pattern": {
              "fillmode": "overlay",
              "size": 10,
              "solidity": 0.2
             }
            },
            "type": "bar"
           }
          ],
          "barpolar": [
           {
            "marker": {
             "line": {
              "color": "#E5ECF6",
              "width": 0.5
             },
             "pattern": {
              "fillmode": "overlay",
              "size": 10,
              "solidity": 0.2
             }
            },
            "type": "barpolar"
           }
          ],
          "carpet": [
           {
            "aaxis": {
             "endlinecolor": "#2a3f5f",
             "gridcolor": "white",
             "linecolor": "white",
             "minorgridcolor": "white",
             "startlinecolor": "#2a3f5f"
            },
            "baxis": {
             "endlinecolor": "#2a3f5f",
             "gridcolor": "white",
             "linecolor": "white",
             "minorgridcolor": "white",
             "startlinecolor": "#2a3f5f"
            },
            "type": "carpet"
           }
          ],
          "choropleth": [
           {
            "colorbar": {
             "outlinewidth": 0,
             "ticks": ""
            },
            "type": "choropleth"
           }
          ],
          "contour": [
           {
            "colorbar": {
             "outlinewidth": 0,
             "ticks": ""
            },
            "colorscale": [
             [
              0,
              "#0d0887"
             ],
             [
              0.1111111111111111,
              "#46039f"
             ],
             [
              0.2222222222222222,
              "#7201a8"
             ],
             [
              0.3333333333333333,
              "#9c179e"
             ],
             [
              0.4444444444444444,
              "#bd3786"
             ],
             [
              0.5555555555555556,
              "#d8576b"
             ],
             [
              0.6666666666666666,
              "#ed7953"
             ],
             [
              0.7777777777777778,
              "#fb9f3a"
             ],
             [
              0.8888888888888888,
              "#fdca26"
             ],
             [
              1,
              "#f0f921"
             ]
            ],
            "type": "contour"
           }
          ],
          "contourcarpet": [
           {
            "colorbar": {
             "outlinewidth": 0,
             "ticks": ""
            },
            "type": "contourcarpet"
           }
          ],
          "heatmap": [
           {
            "colorbar": {
             "outlinewidth": 0,
             "ticks": ""
            },
            "colorscale": [
             [
              0,
              "#0d0887"
             ],
             [
              0.1111111111111111,
              "#46039f"
             ],
             [
              0.2222222222222222,
              "#7201a8"
             ],
             [
              0.3333333333333333,
              "#9c179e"
             ],
             [
              0.4444444444444444,
              "#bd3786"
             ],
             [
              0.5555555555555556,
              "#d8576b"
             ],
             [
              0.6666666666666666,
              "#ed7953"
             ],
             [
              0.7777777777777778,
              "#fb9f3a"
             ],
             [
              0.8888888888888888,
              "#fdca26"
             ],
             [
              1,
              "#f0f921"
             ]
            ],
            "type": "heatmap"
           }
          ],
          "heatmapgl": [
           {
            "colorbar": {
             "outlinewidth": 0,
             "ticks": ""
            },
            "colorscale": [
             [
              0,
              "#0d0887"
             ],
             [
              0.1111111111111111,
              "#46039f"
             ],
             [
              0.2222222222222222,
              "#7201a8"
             ],
             [
              0.3333333333333333,
              "#9c179e"
             ],
             [
              0.4444444444444444,
              "#bd3786"
             ],
             [
              0.5555555555555556,
              "#d8576b"
             ],
             [
              0.6666666666666666,
              "#ed7953"
             ],
             [
              0.7777777777777778,
              "#fb9f3a"
             ],
             [
              0.8888888888888888,
              "#fdca26"
             ],
             [
              1,
              "#f0f921"
             ]
            ],
            "type": "heatmapgl"
           }
          ],
          "histogram": [
           {
            "marker": {
             "pattern": {
              "fillmode": "overlay",
              "size": 10,
              "solidity": 0.2
             }
            },
            "type": "histogram"
           }
          ],
          "histogram2d": [
           {
            "colorbar": {
             "outlinewidth": 0,
             "ticks": ""
            },
            "colorscale": [
             [
              0,
              "#0d0887"
             ],
             [
              0.1111111111111111,
              "#46039f"
             ],
             [
              0.2222222222222222,
              "#7201a8"
             ],
             [
              0.3333333333333333,
              "#9c179e"
             ],
             [
              0.4444444444444444,
              "#bd3786"
             ],
             [
              0.5555555555555556,
              "#d8576b"
             ],
             [
              0.6666666666666666,
              "#ed7953"
             ],
             [
              0.7777777777777778,
              "#fb9f3a"
             ],
             [
              0.8888888888888888,
              "#fdca26"
             ],
             [
              1,
              "#f0f921"
             ]
            ],
            "type": "histogram2d"
           }
          ],
          "histogram2dcontour": [
           {
            "colorbar": {
             "outlinewidth": 0,
             "ticks": ""
            },
            "colorscale": [
             [
              0,
              "#0d0887"
             ],
             [
              0.1111111111111111,
              "#46039f"
             ],
             [
              0.2222222222222222,
              "#7201a8"
             ],
             [
              0.3333333333333333,
              "#9c179e"
             ],
             [
              0.4444444444444444,
              "#bd3786"
             ],
             [
              0.5555555555555556,
              "#d8576b"
             ],
             [
              0.6666666666666666,
              "#ed7953"
             ],
             [
              0.7777777777777778,
              "#fb9f3a"
             ],
             [
              0.8888888888888888,
              "#fdca26"
             ],
             [
              1,
              "#f0f921"
             ]
            ],
            "type": "histogram2dcontour"
           }
          ],
          "mesh3d": [
           {
            "colorbar": {
             "outlinewidth": 0,
             "ticks": ""
            },
            "type": "mesh3d"
           }
          ],
          "parcoords": [
           {
            "line": {
             "colorbar": {
              "outlinewidth": 0,
              "ticks": ""
             }
            },
            "type": "parcoords"
           }
          ],
          "pie": [
           {
            "automargin": true,
            "type": "pie"
           }
          ],
          "scatter": [
           {
            "fillpattern": {
             "fillmode": "overlay",
             "size": 10,
             "solidity": 0.2
            },
            "type": "scatter"
           }
          ],
          "scatter3d": [
           {
            "line": {
             "colorbar": {
              "outlinewidth": 0,
              "ticks": ""
             }
            },
            "marker": {
             "colorbar": {
              "outlinewidth": 0,
              "ticks": ""
             }
            },
            "type": "scatter3d"
           }
          ],
          "scattercarpet": [
           {
            "marker": {
             "colorbar": {
              "outlinewidth": 0,
              "ticks": ""
             }
            },
            "type": "scattercarpet"
           }
          ],
          "scattergeo": [
           {
            "marker": {
             "colorbar": {
              "outlinewidth": 0,
              "ticks": ""
             }
            },
            "type": "scattergeo"
           }
          ],
          "scattergl": [
           {
            "marker": {
             "colorbar": {
              "outlinewidth": 0,
              "ticks": ""
             }
            },
            "type": "scattergl"
           }
          ],
          "scattermapbox": [
           {
            "marker": {
             "colorbar": {
              "outlinewidth": 0,
              "ticks": ""
             }
            },
            "type": "scattermapbox"
           }
          ],
          "scatterpolar": [
           {
            "marker": {
             "colorbar": {
              "outlinewidth": 0,
              "ticks": ""
             }
            },
            "type": "scatterpolar"
           }
          ],
          "scatterpolargl": [
           {
            "marker": {
             "colorbar": {
              "outlinewidth": 0,
              "ticks": ""
             }
            },
            "type": "scatterpolargl"
           }
          ],
          "scatterternary": [
           {
            "marker": {
             "colorbar": {
              "outlinewidth": 0,
              "ticks": ""
             }
            },
            "type": "scatterternary"
           }
          ],
          "surface": [
           {
            "colorbar": {
             "outlinewidth": 0,
             "ticks": ""
            },
            "colorscale": [
             [
              0,
              "#0d0887"
             ],
             [
              0.1111111111111111,
              "#46039f"
             ],
             [
              0.2222222222222222,
              "#7201a8"
             ],
             [
              0.3333333333333333,
              "#9c179e"
             ],
             [
              0.4444444444444444,
              "#bd3786"
             ],
             [
              0.5555555555555556,
              "#d8576b"
             ],
             [
              0.6666666666666666,
              "#ed7953"
             ],
             [
              0.7777777777777778,
              "#fb9f3a"
             ],
             [
              0.8888888888888888,
              "#fdca26"
             ],
             [
              1,
              "#f0f921"
             ]
            ],
            "type": "surface"
           }
          ],
          "table": [
           {
            "cells": {
             "fill": {
              "color": "#EBF0F8"
             },
             "line": {
              "color": "white"
             }
            },
            "header": {
             "fill": {
              "color": "#C8D4E3"
             },
             "line": {
              "color": "white"
             }
            },
            "type": "table"
           }
          ]
         },
         "layout": {
          "annotationdefaults": {
           "arrowcolor": "#2a3f5f",
           "arrowhead": 0,
           "arrowwidth": 1
          },
          "autotypenumbers": "strict",
          "coloraxis": {
           "colorbar": {
            "outlinewidth": 0,
            "ticks": ""
           }
          },
          "colorscale": {
           "diverging": [
            [
             0,
             "#8e0152"
            ],
            [
             0.1,
             "#c51b7d"
            ],
            [
             0.2,
             "#de77ae"
            ],
            [
             0.3,
             "#f1b6da"
            ],
            [
             0.4,
             "#fde0ef"
            ],
            [
             0.5,
             "#f7f7f7"
            ],
            [
             0.6,
             "#e6f5d0"
            ],
            [
             0.7,
             "#b8e186"
            ],
            [
             0.8,
             "#7fbc41"
            ],
            [
             0.9,
             "#4d9221"
            ],
            [
             1,
             "#276419"
            ]
           ],
           "sequential": [
            [
             0,
             "#0d0887"
            ],
            [
             0.1111111111111111,
             "#46039f"
            ],
            [
             0.2222222222222222,
             "#7201a8"
            ],
            [
             0.3333333333333333,
             "#9c179e"
            ],
            [
             0.4444444444444444,
             "#bd3786"
            ],
            [
             0.5555555555555556,
             "#d8576b"
            ],
            [
             0.6666666666666666,
             "#ed7953"
            ],
            [
             0.7777777777777778,
             "#fb9f3a"
            ],
            [
             0.8888888888888888,
             "#fdca26"
            ],
            [
             1,
             "#f0f921"
            ]
           ],
           "sequentialminus": [
            [
             0,
             "#0d0887"
            ],
            [
             0.1111111111111111,
             "#46039f"
            ],
            [
             0.2222222222222222,
             "#7201a8"
            ],
            [
             0.3333333333333333,
             "#9c179e"
            ],
            [
             0.4444444444444444,
             "#bd3786"
            ],
            [
             0.5555555555555556,
             "#d8576b"
            ],
            [
             0.6666666666666666,
             "#ed7953"
            ],
            [
             0.7777777777777778,
             "#fb9f3a"
            ],
            [
             0.8888888888888888,
             "#fdca26"
            ],
            [
             1,
             "#f0f921"
            ]
           ]
          },
          "colorway": [
           "#636efa",
           "#EF553B",
           "#00cc96",
           "#ab63fa",
           "#FFA15A",
           "#19d3f3",
           "#FF6692",
           "#B6E880",
           "#FF97FF",
           "#FECB52"
          ],
          "font": {
           "color": "#2a3f5f"
          },
          "geo": {
           "bgcolor": "white",
           "lakecolor": "white",
           "landcolor": "#E5ECF6",
           "showlakes": true,
           "showland": true,
           "subunitcolor": "white"
          },
          "hoverlabel": {
           "align": "left"
          },
          "hovermode": "closest",
          "mapbox": {
           "style": "light"
          },
          "paper_bgcolor": "white",
          "plot_bgcolor": "#E5ECF6",
          "polar": {
           "angularaxis": {
            "gridcolor": "white",
            "linecolor": "white",
            "ticks": ""
           },
           "bgcolor": "#E5ECF6",
           "radialaxis": {
            "gridcolor": "white",
            "linecolor": "white",
            "ticks": ""
           }
          },
          "scene": {
           "xaxis": {
            "backgroundcolor": "#E5ECF6",
            "gridcolor": "white",
            "gridwidth": 2,
            "linecolor": "white",
            "showbackground": true,
            "ticks": "",
            "zerolinecolor": "white"
           },
           "yaxis": {
            "backgroundcolor": "#E5ECF6",
            "gridcolor": "white",
            "gridwidth": 2,
            "linecolor": "white",
            "showbackground": true,
            "ticks": "",
            "zerolinecolor": "white"
           },
           "zaxis": {
            "backgroundcolor": "#E5ECF6",
            "gridcolor": "white",
            "gridwidth": 2,
            "linecolor": "white",
            "showbackground": true,
            "ticks": "",
            "zerolinecolor": "white"
           }
          },
          "shapedefaults": {
           "line": {
            "color": "#2a3f5f"
           }
          },
          "ternary": {
           "aaxis": {
            "gridcolor": "white",
            "linecolor": "white",
            "ticks": ""
           },
           "baxis": {
            "gridcolor": "white",
            "linecolor": "white",
            "ticks": ""
           },
           "bgcolor": "#E5ECF6",
           "caxis": {
            "gridcolor": "white",
            "linecolor": "white",
            "ticks": ""
           }
          },
          "title": {
           "x": 0.05
          },
          "xaxis": {
           "automargin": true,
           "gridcolor": "white",
           "linecolor": "white",
           "ticks": "",
           "title": {
            "standoff": 15
           },
           "zerolinecolor": "white",
           "zerolinewidth": 2
          },
          "yaxis": {
           "automargin": true,
           "gridcolor": "white",
           "linecolor": "white",
           "ticks": "",
           "title": {
            "standoff": 15
           },
           "zerolinecolor": "white",
           "zerolinewidth": 2
          }
         }
        },
        "title": {
         "font": {
          "size": 16
         },
         "text": "Flood vs Precipitation (Aug–Sep)",
         "x": 0.5,
         "xanchor": "center"
        },
        "width": 1200,
        "xaxis": {
         "anchor": "y",
         "autorange": true,
         "domain": [
          0,
          0.45
         ],
         "dtick": 1,
         "gridcolor": "lightgray",
         "linecolor": "black",
         "linewidth": 1,
         "mirror": true,
         "range": [
          439.78480145598473,
          577.8949809132989
         ],
         "showline": true,
         "title": {
          "text": "Precipitation (mm)"
         },
         "type": "linear"
        },
        "xaxis2": {
         "anchor": "y2",
         "autorange": true,
         "domain": [
          0.55,
          1
         ],
         "dtick": 1,
         "gridcolor": "lightgray",
         "linecolor": "black",
         "linewidth": 1,
         "mirror": true,
         "range": [
          433.024729996361,
          860.7002477901572
         ],
         "showline": true,
         "title": {
          "text": "Precipitation (mm)"
         },
         "type": "linear"
        },
        "yaxis": {
         "anchor": "x",
         "autorange": true,
         "domain": [
          0,
          1
         ],
         "gridcolor": "lightgray",
         "linecolor": "black",
         "linewidth": 1,
         "mirror": true,
         "range": [
          38329.84400898856,
          51982.44708755341
         ],
         "showline": true,
         "title": {
          "text": "Flood (VH, km²)"
         },
         "type": "linear"
        },
        "yaxis2": {
         "anchor": "x2",
         "autorange": true,
         "domain": [
          0,
          1
         ],
         "gridcolor": "lightgray",
         "linecolor": "black",
         "linewidth": 1,
         "mirror": true,
         "range": [
          4136.060394747972,
          16508.968062497206
         ],
         "showline": true,
         "title": {
          "text": "Flood (VH, km²)"
         },
         "type": "linear"
        }
       }
      },
      "text/html": [
       "<div>                            <div id=\"c57054b1-0cf0-43f5-941e-5f93abc3c10a\" class=\"plotly-graph-div\" style=\"height:520px; width:1200px;\"></div>            <script type=\"text/javascript\">                require([\"plotly\"], function(Plotly) {                    window.PLOTLYENV=window.PLOTLYENV || {};                                    if (document.getElementById(\"c57054b1-0cf0-43f5-941e-5f93abc3c10a\")) {                    Plotly.newPlot(                        \"c57054b1-0cf0-43f5-941e-5f93abc3c10a\",                        [{\"marker\":{\"color\":[2015,2016,2017,2018,2019,2020,2021,2022,2023,2024],\"colorscale\":[[0.0,\"#440154\"],[0.1111111111111111,\"#482878\"],[0.2222222222222222,\"#3e4989\"],[0.3333333333333333,\"#31688e\"],[0.4444444444444444,\"#26828e\"],[0.5555555555555556,\"#1f9e89\"],[0.6666666666666666,\"#35b779\"],[0.7777777777777778,\"#6ece58\"],[0.8888888888888888,\"#b5de2b\"],[1.0,\"#fde725\"]],\"showscale\":true,\"size\":10},\"mode\":\"markers+text\",\"name\":\"Delta\",\"text\":[2015.0,2016.0,2017.0,2018.0,2019.0,2020.0,2021.0,2022.0,2023.0,2024.0],\"textposition\":\"top center\",\"x\":[482.8639207294055,487.7709752825163,448.6416806596817,462.7453957810022,456.369944562378,551.6921516146449,528.4730810719474,493.0327309607914,451.3636267835125,569.038101709602],\"y\":[39263.441131272775,41105.051724313314,48699.00528683864,50513.345701563725,51048.8499652692,48493.98654890958,48029.2140201418,46918.9265293632,47666.073661381015,47048.4556208106],\"type\":\"scatter\",\"xaxis\":\"x\",\"yaxis\":\"y\"},{\"line\":{\"color\":\"gray\",\"dash\":\"dash\"},\"mode\":\"lines\",\"name\":\"fit (r=-0.08)\",\"x\":[448.6416806596817,449.8578061248324,451.0739315899831,452.29005705513384,453.50618252028454,454.72230798543524,455.93843345058593,457.1545589157367,458.3706843808874,459.5868098460381,460.8029353111888,462.01906077633953,463.2351862414902,464.4513117066409,465.6674371717916,466.8835626369423,468.09968810209307,469.31581356724377,470.53193903239446,471.74806449754516,472.9641899626959,474.1803154278466,475.3964408929973,476.612566358148,477.82869182329875,479.04481728844945,480.26094275360015,481.47706821875084,482.69319368390154,483.9093191490523,485.125444614203,486.3415700793537,487.5576955445044,488.77382100965514,489.98994647480583,491.20607193995653,492.4221974051072,493.638322870258,494.8544483354087,496.0705738005594,497.28669926571007,498.50282473086077,499.7189501960115,500.9350756611622,502.1512011263129,503.3673265914636,504.58345205661436,505.79957752176506,507.01570298691576,508.23182845206645,509.4479539172172,510.6640793823679,511.8802048475186,513.0963303126694,514.31245577782,515.5285812429707,516.7447067081214,517.9608321732721,519.1769576384229,520.3930831035735,521.6092085687243,522.8253340338749,524.0414594990257,525.2575849641764,526.4737104293271,527.6898358944778,528.9059613596286,530.1220868247792,531.33821228993,532.5543377550807,533.7704632202314,534.9865886853821,536.2027141505328,537.4188396156835,538.6349650808343,539.8510905459849,541.0672160111357,542.2833414762863,543.499466941437,544.7155924065878,545.9317178717384,547.1478433368892,548.3639688020398,549.5800942671906,550.7962197323413,552.012345197492,553.2284706626427,554.4445961277934,555.6607215929441,556.8768470580949,558.0929725232455,559.3090979883963,560.525223453547,561.7413489186977,562.9574743838484,564.1735998489992,565.3897253141498,566.6058507793006,567.8219762444512,569.038101709602],\"y\":[47202.179988137555,47193.349343454625,47184.518698771695,47175.68805408877,47166.85740940584,47158.02676472291,47149.19612003999,47140.36547535706,47131.53483067413,47122.704185991206,47113.873541308276,47105.042896625346,47096.21225194242,47087.38160725949,47078.55096257657,47069.72031789364,47060.88967321071,47052.05902852779,47043.22838384486,47034.39773916193,47025.567094479,47016.73644979607,47007.90580511314,46999.07516043022,46990.24451574729,46981.41387106436,46972.58322638144,46963.75258169851,46954.92193701558,46946.091292332654,46937.260647649724,46928.430002966794,46919.59935828387,46910.76871360094,46901.93806891801,46893.10742423509,46884.27677955216,46875.44613486923,46866.615490186305,46857.784845503375,46848.954200820444,46840.12355613752,46831.29291145459,46822.46226677167,46813.63162208874,46804.80097740581,46795.970332722885,46787.139688039955,46778.309043357025,46769.4783986741,46760.64775399117,46751.81710930824,46742.98646462532,46734.15581994239,46725.32517525946,46716.494530576536,46707.663885893606,46698.833241210676,46690.00259652775,46681.17195184482,46672.34130716189,46663.51066247897,46654.68001779604,46645.84937311312,46637.01872843019,46628.188083747256,46619.35743906433,46610.5267943814,46601.69614969847,46592.86550501555,46584.03486033262,46575.20421564969,46566.37357096677,46557.54292628384,46548.71228160091,46539.881636917984,46531.050992235054,46522.220347552124,46513.3897028692,46504.55905818627,46495.72841350334,46486.89776882042,46478.06712413749,46469.23647945456,46460.405834771635,46451.575190088704,46442.744545405774,46433.91390072285,46425.08325603992,46416.252611357,46407.42196667407,46398.59132199114,46389.760677308215,46380.930032625285,46372.099387942355,46363.26874325943,46354.4380985765,46345.60745389357,46336.77680921065,46327.94616452772],\"type\":\"scatter\",\"xaxis\":\"x\",\"yaxis\":\"y\"},{\"marker\":{\"color\":[2015,2016,2017,2018,2019,2020,2021,2022,2023,2024],\"colorscale\":[[0.0,\"#0d0887\"],[0.1111111111111111,\"#46039f\"],[0.2222222222222222,\"#7201a8\"],[0.3333333333333333,\"#9c179e\"],[0.4444444444444444,\"#bd3786\"],[0.5555555555555556,\"#d8576b\"],[0.6666666666666666,\"#ed7953\"],[0.7777777777777778,\"#fb9f3a\"],[0.8888888888888888,\"#fdca26\"],[1.0,\"#f0f921\"]],\"showscale\":true,\"size\":10},\"mode\":\"markers+text\",\"name\":\"Tonl\\u00e9\",\"text\":[2015.0,2016.0,2017.0,2018.0,2019.0,2020.0,2021.0,2022.0,2023.0,2024.0],\"textposition\":\"top center\",\"x\":[470.7925859844543,587.7070399428268,547.2407972405547,506.9744872704592,529.7715362432689,488.7168215934026,640.2881505414131,833.2738088820176,460.4511689045005,556.3449533991119],\"y\":[4982.148933792589,7430.943820494515,10357.122466724431,15662.87952345259,14813.895928273174,10199.83146520205,12975.420469600642,12896.92084403432,10711.631726106909,11576.851789594672],\"type\":\"scatter\",\"xaxis\":\"x2\",\"yaxis\":\"y2\"},{\"line\":{\"color\":\"gray\",\"dash\":\"dash\"},\"mode\":\"lines\",\"name\":\"fit (r=0.26)\",\"x\":[460.4511689045005,464.21705415679867,467.9829394090968,471.74882466139496,475.5147099136931,479.28059516599126,483.04648041828943,486.81236567058755,490.57825092288573,494.34413617518385,498.110021427482,501.8759066797802,505.6417919320783,509.4076771843765,513.1735624366746,516.9394476889728,520.705332941271,524.471218193569,528.2371034458672,532.0029886981654,535.7688739504636,539.5347592027617,543.3006444550599,547.066529707358,550.8324149596561,554.5983002119543,558.3641854642525,562.1300707165506,565.8959559688487,569.6618412211469,573.4277264734451,577.1936117257433,580.9594969780414,584.7253822303395,588.4912674826377,592.2571527349359,596.023037987234,599.7889232395321,603.5548084918303,607.3206937441284,611.0865789964266,614.8524642487248,618.618349501023,622.384234753321,626.1501200056192,629.9160052579174,633.6818905102156,637.4477757625136,641.2136610148118,644.97954626711,648.7454315194082,652.5113167717063,656.2772020240045,660.0430872763026,663.8089725286007,667.5748577808989,671.340743033197,675.1066282854952,678.8725135377933,682.6383987900915,686.4042840423897,690.1701692946879,693.936054546986,697.7019397992841,701.4678250515823,705.2337103038805,708.9995955561785,712.7654808084767,716.5313660607749,720.297251313073,724.0631365653712,727.8290218176694,731.5949070699676,735.3607923222656,739.1266775745638,742.892562826862,746.65844807916,750.4243333314582,754.1902185837564,757.9561038360546,761.7219890883528,765.4878743406509,769.2537595929491,773.0196448452472,776.7855300975453,780.5514153498434,784.3173006021416,788.0831858544398,791.8490711067379,795.6149563590361,799.3808416113343,803.1467268636325,806.9126121159306,810.6784973682287,814.4443826205269,818.2102678728249,821.9761531251231,825.7420383774213,829.5079236297195,833.2738088820176],\"y\":[10374.082188065837,10403.21111039223,10432.340032718625,10461.46895504502,10490.597877371412,10519.726799697808,10548.855722024202,10577.984644350596,10607.113566676991,10636.242489003384,10665.37141132978,10694.500333656173,10723.629255982567,10752.75817830896,10781.887100635355,10811.01602296175,10840.144945288144,10869.273867614538,10898.402789940932,10927.531712267326,10956.660634593722,10985.789556920114,11014.91847924651,11044.047401572901,11073.176323899297,11102.305246225691,11131.434168552085,11160.563090878479,11189.692013204873,11218.820935531268,11247.949857857662,11277.078780184056,11306.207702510452,11335.336624836844,11364.46554716324,11393.594469489633,11422.723391816027,11451.852314142421,11480.981236468815,11510.11015879521,11539.239081121603,11568.368003447998,11597.496925774392,11626.625848100786,11655.754770427182,11684.883692753574,11714.01261507997,11743.141537406362,11772.270459732757,11801.399382059151,11830.528304385545,11859.65722671194,11888.786149038335,11917.915071364729,11947.043993691123,11976.172916017516,12005.30183834391,12034.430760670304,12063.5596829967,12092.688605323092,12121.817527649488,12150.946449975883,12180.075372302275,12209.204294628671,12238.333216955063,12267.462139281459,12296.59106160785,12325.719983934247,12354.84890626064,12383.977828587034,12413.10675091343,12442.235673239824,12471.364595566218,12500.493517892612,12529.622440219006,12558.751362545401,12587.880284871793,12617.009207198189,12646.138129524583,12675.267051850977,12704.395974177372,12733.524896503764,12762.65381883016,12791.782741156552,12820.911663482948,12850.04058580934,12879.169508135736,12908.29843046213,12937.427352788523,12966.55627511492,12995.685197441313,13024.814119767707,13053.943042094103,13083.071964420495,13112.20088674689,13141.329809073282,13170.458731399678,13199.587653726072,13228.716576052466,13257.845498378862],\"type\":\"scatter\",\"xaxis\":\"x2\",\"yaxis\":\"y2\"}],                        {\"template\":{\"data\":{\"histogram2dcontour\":[{\"type\":\"histogram2dcontour\",\"colorbar\":{\"outlinewidth\":0,\"ticks\":\"\"},\"colorscale\":[[0.0,\"#0d0887\"],[0.1111111111111111,\"#46039f\"],[0.2222222222222222,\"#7201a8\"],[0.3333333333333333,\"#9c179e\"],[0.4444444444444444,\"#bd3786\"],[0.5555555555555556,\"#d8576b\"],[0.6666666666666666,\"#ed7953\"],[0.7777777777777778,\"#fb9f3a\"],[0.8888888888888888,\"#fdca26\"],[1.0,\"#f0f921\"]]}],\"choropleth\":[{\"type\":\"choropleth\",\"colorbar\":{\"outlinewidth\":0,\"ticks\":\"\"}}],\"histogram2d\":[{\"type\":\"histogram2d\",\"colorbar\":{\"outlinewidth\":0,\"ticks\":\"\"},\"colorscale\":[[0.0,\"#0d0887\"],[0.1111111111111111,\"#46039f\"],[0.2222222222222222,\"#7201a8\"],[0.3333333333333333,\"#9c179e\"],[0.4444444444444444,\"#bd3786\"],[0.5555555555555556,\"#d8576b\"],[0.6666666666666666,\"#ed7953\"],[0.7777777777777778,\"#fb9f3a\"],[0.8888888888888888,\"#fdca26\"],[1.0,\"#f0f921\"]]}],\"heatmap\":[{\"type\":\"heatmap\",\"colorbar\":{\"outlinewidth\":0,\"ticks\":\"\"},\"colorscale\":[[0.0,\"#0d0887\"],[0.1111111111111111,\"#46039f\"],[0.2222222222222222,\"#7201a8\"],[0.3333333333333333,\"#9c179e\"],[0.4444444444444444,\"#bd3786\"],[0.5555555555555556,\"#d8576b\"],[0.6666666666666666,\"#ed7953\"],[0.7777777777777778,\"#fb9f3a\"],[0.8888888888888888,\"#fdca26\"],[1.0,\"#f0f921\"]]}],\"heatmapgl\":[{\"type\":\"heatmapgl\",\"colorbar\":{\"outlinewidth\":0,\"ticks\":\"\"},\"colorscale\":[[0.0,\"#0d0887\"],[0.1111111111111111,\"#46039f\"],[0.2222222222222222,\"#7201a8\"],[0.3333333333333333,\"#9c179e\"],[0.4444444444444444,\"#bd3786\"],[0.5555555555555556,\"#d8576b\"],[0.6666666666666666,\"#ed7953\"],[0.7777777777777778,\"#fb9f3a\"],[0.8888888888888888,\"#fdca26\"],[1.0,\"#f0f921\"]]}],\"contourcarpet\":[{\"type\":\"contourcarpet\",\"colorbar\":{\"outlinewidth\":0,\"ticks\":\"\"}}],\"contour\":[{\"type\":\"contour\",\"colorbar\":{\"outlinewidth\":0,\"ticks\":\"\"},\"colorscale\":[[0.0,\"#0d0887\"],[0.1111111111111111,\"#46039f\"],[0.2222222222222222,\"#7201a8\"],[0.3333333333333333,\"#9c179e\"],[0.4444444444444444,\"#bd3786\"],[0.5555555555555556,\"#d8576b\"],[0.6666666666666666,\"#ed7953\"],[0.7777777777777778,\"#fb9f3a\"],[0.8888888888888888,\"#fdca26\"],[1.0,\"#f0f921\"]]}],\"surface\":[{\"type\":\"surface\",\"colorbar\":{\"outlinewidth\":0,\"ticks\":\"\"},\"colorscale\":[[0.0,\"#0d0887\"],[0.1111111111111111,\"#46039f\"],[0.2222222222222222,\"#7201a8\"],[0.3333333333333333,\"#9c179e\"],[0.4444444444444444,\"#bd3786\"],[0.5555555555555556,\"#d8576b\"],[0.6666666666666666,\"#ed7953\"],[0.7777777777777778,\"#fb9f3a\"],[0.8888888888888888,\"#fdca26\"],[1.0,\"#f0f921\"]]}],\"mesh3d\":[{\"type\":\"mesh3d\",\"colorbar\":{\"outlinewidth\":0,\"ticks\":\"\"}}],\"scatter\":[{\"fillpattern\":{\"fillmode\":\"overlay\",\"size\":10,\"solidity\":0.2},\"type\":\"scatter\"}],\"parcoords\":[{\"type\":\"parcoords\",\"line\":{\"colorbar\":{\"outlinewidth\":0,\"ticks\":\"\"}}}],\"scatterpolargl\":[{\"type\":\"scatterpolargl\",\"marker\":{\"colorbar\":{\"outlinewidth\":0,\"ticks\":\"\"}}}],\"bar\":[{\"error_x\":{\"color\":\"#2a3f5f\"},\"error_y\":{\"color\":\"#2a3f5f\"},\"marker\":{\"line\":{\"color\":\"#E5ECF6\",\"width\":0.5},\"pattern\":{\"fillmode\":\"overlay\",\"size\":10,\"solidity\":0.2}},\"type\":\"bar\"}],\"scattergeo\":[{\"type\":\"scattergeo\",\"marker\":{\"colorbar\":{\"outlinewidth\":0,\"ticks\":\"\"}}}],\"scatterpolar\":[{\"type\":\"scatterpolar\",\"marker\":{\"colorbar\":{\"outlinewidth\":0,\"ticks\":\"\"}}}],\"histogram\":[{\"marker\":{\"pattern\":{\"fillmode\":\"overlay\",\"size\":10,\"solidity\":0.2}},\"type\":\"histogram\"}],\"scattergl\":[{\"type\":\"scattergl\",\"marker\":{\"colorbar\":{\"outlinewidth\":0,\"ticks\":\"\"}}}],\"scatter3d\":[{\"type\":\"scatter3d\",\"line\":{\"colorbar\":{\"outlinewidth\":0,\"ticks\":\"\"}},\"marker\":{\"colorbar\":{\"outlinewidth\":0,\"ticks\":\"\"}}}],\"scattermapbox\":[{\"type\":\"scattermapbox\",\"marker\":{\"colorbar\":{\"outlinewidth\":0,\"ticks\":\"\"}}}],\"scatterternary\":[{\"type\":\"scatterternary\",\"marker\":{\"colorbar\":{\"outlinewidth\":0,\"ticks\":\"\"}}}],\"scattercarpet\":[{\"type\":\"scattercarpet\",\"marker\":{\"colorbar\":{\"outlinewidth\":0,\"ticks\":\"\"}}}],\"carpet\":[{\"aaxis\":{\"endlinecolor\":\"#2a3f5f\",\"gridcolor\":\"white\",\"linecolor\":\"white\",\"minorgridcolor\":\"white\",\"startlinecolor\":\"#2a3f5f\"},\"baxis\":{\"endlinecolor\":\"#2a3f5f\",\"gridcolor\":\"white\",\"linecolor\":\"white\",\"minorgridcolor\":\"white\",\"startlinecolor\":\"#2a3f5f\"},\"type\":\"carpet\"}],\"table\":[{\"cells\":{\"fill\":{\"color\":\"#EBF0F8\"},\"line\":{\"color\":\"white\"}},\"header\":{\"fill\":{\"color\":\"#C8D4E3\"},\"line\":{\"color\":\"white\"}},\"type\":\"table\"}],\"barpolar\":[{\"marker\":{\"line\":{\"color\":\"#E5ECF6\",\"width\":0.5},\"pattern\":{\"fillmode\":\"overlay\",\"size\":10,\"solidity\":0.2}},\"type\":\"barpolar\"}],\"pie\":[{\"automargin\":true,\"type\":\"pie\"}]},\"layout\":{\"autotypenumbers\":\"strict\",\"colorway\":[\"#636efa\",\"#EF553B\",\"#00cc96\",\"#ab63fa\",\"#FFA15A\",\"#19d3f3\",\"#FF6692\",\"#B6E880\",\"#FF97FF\",\"#FECB52\"],\"font\":{\"color\":\"#2a3f5f\"},\"hovermode\":\"closest\",\"hoverlabel\":{\"align\":\"left\"},\"paper_bgcolor\":\"white\",\"plot_bgcolor\":\"#E5ECF6\",\"polar\":{\"bgcolor\":\"#E5ECF6\",\"angularaxis\":{\"gridcolor\":\"white\",\"linecolor\":\"white\",\"ticks\":\"\"},\"radialaxis\":{\"gridcolor\":\"white\",\"linecolor\":\"white\",\"ticks\":\"\"}},\"ternary\":{\"bgcolor\":\"#E5ECF6\",\"aaxis\":{\"gridcolor\":\"white\",\"linecolor\":\"white\",\"ticks\":\"\"},\"baxis\":{\"gridcolor\":\"white\",\"linecolor\":\"white\",\"ticks\":\"\"},\"caxis\":{\"gridcolor\":\"white\",\"linecolor\":\"white\",\"ticks\":\"\"}},\"coloraxis\":{\"colorbar\":{\"outlinewidth\":0,\"ticks\":\"\"}},\"colorscale\":{\"sequential\":[[0.0,\"#0d0887\"],[0.1111111111111111,\"#46039f\"],[0.2222222222222222,\"#7201a8\"],[0.3333333333333333,\"#9c179e\"],[0.4444444444444444,\"#bd3786\"],[0.5555555555555556,\"#d8576b\"],[0.6666666666666666,\"#ed7953\"],[0.7777777777777778,\"#fb9f3a\"],[0.8888888888888888,\"#fdca26\"],[1.0,\"#f0f921\"]],\"sequentialminus\":[[0.0,\"#0d0887\"],[0.1111111111111111,\"#46039f\"],[0.2222222222222222,\"#7201a8\"],[0.3333333333333333,\"#9c179e\"],[0.4444444444444444,\"#bd3786\"],[0.5555555555555556,\"#d8576b\"],[0.6666666666666666,\"#ed7953\"],[0.7777777777777778,\"#fb9f3a\"],[0.8888888888888888,\"#fdca26\"],[1.0,\"#f0f921\"]],\"diverging\":[[0,\"#8e0152\"],[0.1,\"#c51b7d\"],[0.2,\"#de77ae\"],[0.3,\"#f1b6da\"],[0.4,\"#fde0ef\"],[0.5,\"#f7f7f7\"],[0.6,\"#e6f5d0\"],[0.7,\"#b8e186\"],[0.8,\"#7fbc41\"],[0.9,\"#4d9221\"],[1,\"#276419\"]]},\"xaxis\":{\"gridcolor\":\"white\",\"linecolor\":\"white\",\"ticks\":\"\",\"title\":{\"standoff\":15},\"zerolinecolor\":\"white\",\"automargin\":true,\"zerolinewidth\":2},\"yaxis\":{\"gridcolor\":\"white\",\"linecolor\":\"white\",\"ticks\":\"\",\"title\":{\"standoff\":15},\"zerolinecolor\":\"white\",\"automargin\":true,\"zerolinewidth\":2},\"scene\":{\"xaxis\":{\"backgroundcolor\":\"#E5ECF6\",\"gridcolor\":\"white\",\"linecolor\":\"white\",\"showbackground\":true,\"ticks\":\"\",\"zerolinecolor\":\"white\",\"gridwidth\":2},\"yaxis\":{\"backgroundcolor\":\"#E5ECF6\",\"gridcolor\":\"white\",\"linecolor\":\"white\",\"showbackground\":true,\"ticks\":\"\",\"zerolinecolor\":\"white\",\"gridwidth\":2},\"zaxis\":{\"backgroundcolor\":\"#E5ECF6\",\"gridcolor\":\"white\",\"linecolor\":\"white\",\"showbackground\":true,\"ticks\":\"\",\"zerolinecolor\":\"white\",\"gridwidth\":2}},\"shapedefaults\":{\"line\":{\"color\":\"#2a3f5f\"}},\"annotationdefaults\":{\"arrowcolor\":\"#2a3f5f\",\"arrowhead\":0,\"arrowwidth\":1},\"geo\":{\"bgcolor\":\"white\",\"landcolor\":\"#E5ECF6\",\"subunitcolor\":\"white\",\"showland\":true,\"showlakes\":true,\"lakecolor\":\"white\"},\"title\":{\"x\":0.05},\"mapbox\":{\"style\":\"light\"}}},\"xaxis\":{\"anchor\":\"y\",\"domain\":[0.0,0.45],\"dtick\":1,\"gridcolor\":\"lightgray\",\"showline\":true,\"linewidth\":1,\"linecolor\":\"black\",\"mirror\":true,\"title\":{\"text\":\"Precipitation (mm)\"}},\"yaxis\":{\"anchor\":\"x\",\"domain\":[0.0,1.0],\"gridcolor\":\"lightgray\",\"showline\":true,\"linewidth\":1,\"linecolor\":\"black\",\"mirror\":true,\"title\":{\"text\":\"Flood (VH, km\\u00b2)\"}},\"xaxis2\":{\"anchor\":\"y2\",\"domain\":[0.55,1.0],\"dtick\":1,\"gridcolor\":\"lightgray\",\"showline\":true,\"linewidth\":1,\"linecolor\":\"black\",\"mirror\":true,\"title\":{\"text\":\"Precipitation (mm)\"}},\"yaxis2\":{\"anchor\":\"x2\",\"domain\":[0.0,1.0],\"gridcolor\":\"lightgray\",\"showline\":true,\"linewidth\":1,\"linecolor\":\"black\",\"mirror\":true,\"title\":{\"text\":\"Flood (VH, km\\u00b2)\"}},\"annotations\":[{\"font\":{\"size\":16},\"showarrow\":false,\"text\":\"Mekong Delta \\u2014 Flood vs Precip (Aug\\u2013Sep)\",\"x\":0.225,\"xanchor\":\"center\",\"xref\":\"paper\",\"y\":1.0,\"yanchor\":\"bottom\",\"yref\":\"paper\"},{\"font\":{\"size\":16},\"showarrow\":false,\"text\":\"Tonl\\u00e9 Sap \\u2014 Flood vs Precip (Aug\\u2013Sep)\",\"x\":0.775,\"xanchor\":\"center\",\"xref\":\"paper\",\"y\":1.0,\"yanchor\":\"bottom\",\"yref\":\"paper\"}],\"font\":{\"family\":\"Arial, sans-serif\",\"size\":12},\"height\":520,\"width\":1200,\"hovermode\":\"x unified\",\"plot_bgcolor\":\"white\",\"paper_bgcolor\":\"white\",\"showlegend\":true,\"title\":{\"font\":{\"size\":16},\"text\":\"Flood vs Precipitation (Aug\\u2013Sep)\",\"x\":0.5,\"xanchor\":\"center\"}},                        {\"responsive\": true}                    ).then(function(){\n",
       "                            \n",
       "var gd = document.getElementById('c57054b1-0cf0-43f5-941e-5f93abc3c10a');\n",
       "var x = new MutationObserver(function (mutations, observer) {{\n",
       "        var display = window.getComputedStyle(gd).display;\n",
       "        if (!display || display === 'none') {{\n",
       "            console.log([gd, 'removed!']);\n",
       "            Plotly.purge(gd);\n",
       "            observer.disconnect();\n",
       "        }}\n",
       "}});\n",
       "\n",
       "// Listen for the removal of the full notebook cells\n",
       "var notebookContainer = gd.closest('#notebook-container');\n",
       "if (notebookContainer) {{\n",
       "    x.observe(notebookContainer, {childList: true});\n",
       "}}\n",
       "\n",
       "// Listen for the clearing of the current output cell\n",
       "var outputEl = gd.closest('.output');\n",
       "if (outputEl) {{\n",
       "    x.observe(outputEl, {childList: true});\n",
       "}}\n",
       "\n",
       "                        })                };                });            </script>        </div>"
      ]
     },
     "metadata": {},
     "output_type": "display_data"
    }
   ],
   "source": [
    "# === Cell 8: Figure 2 - Flood vs Precipitation ===\n",
    "def fig_flood_vs_precip(df_delta, df_ts):\n",
    "    fig = create_dual_subplot(\"Mekong Delta — Flood vs Precip (Aug–Sep)\",\n",
    "                              \"Tonlé Sap — Flood vs Precip (Aug–Sep)\", height=520, width=1200)\n",
    "    # Delta\n",
    "    if {\"precip_wet_mm\",\"flood_vh_km2\"}.issubset(df_delta.columns) and len(df_delta.dropna()):\n",
    "        d = df_delta.dropna(subset=[\"precip_wet_mm\",\"flood_vh_km2\"]).copy()\n",
    "        fig.add_trace(go.Scatter(x=d[\"precip_wet_mm\"], y=d[\"flood_vh_km2\"],\n",
    "                                 mode=\"markers+text\", text=d[\"year\"].astype(int),\n",
    "                                 textposition=\"top center\", name=\"Delta\",\n",
    "                                 marker=dict(size=10, color=d[\"year\"], colorscale=\"Viridis\", showscale=True)),\n",
    "                      row=1, col=1)\n",
    "        if len(d)>=2:\n",
    "            x, y = d[\"precip_wet_mm\"].values, d[\"flood_vh_km2\"].values\n",
    "            coeff = np.polyfit(x,y,1); xs = np.linspace(x.min(), x.max(), 100); ys = coeff[0]*xs+coeff[1]\n",
    "            r = np.corrcoef(x,y)[0,1]\n",
    "            fig.add_trace(go.Scatter(x=xs, y=ys, mode=\"lines\", line=dict(color=\"gray\", dash=\"dash\"),\n",
    "                                     name=f\"fit (r={r:.2f})\"), row=1, col=1)\n",
    "    else:\n",
    "        fig.add_annotation(text=\"No data\", xref=\"paper\", yref=\"paper\", x=0.5, y=0.5, showarrow=False, row=1, col=1)\n",
    "\n",
    "    # Tonlé\n",
    "    if {\"precip_wet_mm\",\"flood_vh_km2\"}.issubset(df_ts.columns) and len(df_ts.dropna()):\n",
    "        t = df_ts.dropna(subset=[\"precip_wet_mm\",\"flood_vh_km2\"]).copy()\n",
    "        fig.add_trace(go.Scatter(x=t[\"precip_wet_mm\"], y=t[\"flood_vh_km2\"],\n",
    "                                 mode=\"markers+text\", text=t[\"year\"].astype(int),\n",
    "                                 textposition=\"top center\", name=\"Tonlé\",\n",
    "                                 marker=dict(size=10, color=t[\"year\"], colorscale=\"Plasma\", showscale=True)),\n",
    "                      row=1, col=2)\n",
    "        if len(t)>=2:\n",
    "            x, y = t[\"precip_wet_mm\"].values, t[\"flood_vh_km2\"].values\n",
    "            coeff = np.polyfit(x,y,1); xs = np.linspace(x.min(), x.max(), 100); ys = coeff[0]*xs+coeff[1]\n",
    "            r = np.corrcoef(x,y)[0,1]\n",
    "            fig.add_trace(go.Scatter(x=xs, y=ys, mode=\"lines\", line=dict(color=\"gray\", dash=\"dash\"),\n",
    "                                     name=f\"fit (r={r:.2f})\"), row=1, col=2)\n",
    "    else:\n",
    "        fig.add_annotation(text=\"No data\", xref=\"paper\", yref=\"paper\", x=0.5, y=0.5, showarrow=False, row=1, col=2)\n",
    "\n",
    "    fig.update_xaxes(title_text=\"Precipitation (mm)\", row=1, col=1)\n",
    "    fig.update_xaxes(title_text=\"Precipitation (mm)\", row=1, col=2)\n",
    "    fig.update_yaxes(title_text=\"Flood (VH, km²)\", row=1, col=1)\n",
    "    fig.update_yaxes(title_text=\"Flood (VH, km²)\", row=1, col=2)\n",
    "    return finalize_figure(fig, \"Flood vs Precipitation (Aug–Sep)\", ASSETS / \"fig_flood_vs_precip.json\")\n",
    "\n",
    "fig2 = fig_flood_vs_precip(df_delta, df_ts)\n",
    "fig2.show()\n"
   ]
  },
  {
   "cell_type": "code",
   "execution_count": 205,
   "id": "3f976a28-8eb5-425d-8327-a88f55ead4b6",
   "metadata": {},
   "outputs": [
    {
     "name": "stdout",
     "output_type": "stream",
     "text": [
      "💾 Saved JSON -> C:\\Users\\wakhan\\Desktop\\Project\\2025\\Mekong\\notebooks\\outputs\\web_assets\\fig_dry_biaxis.json\n"
     ]
    },
    {
     "data": {
      "application/vnd.plotly.v1+json": {
       "config": {
        "plotlyServerURL": "https://plot.ly"
       },
       "data": [
        {
         "name": "Dry water (km²)",
         "type": "bar",
         "x": [
          2015,
          2016,
          2017,
          2018,
          2019,
          2020,
          2021,
          2022,
          2023,
          2024
         ],
         "xaxis": "x",
         "y": [
          36829.4286395826,
          40975.32620274473,
          45017.50081852491,
          46549.48829555765,
          49696.49336129008,
          50521.83735154089,
          48443.40003357957,
          46010.56912131832,
          46413.03926798155,
          48731.23616049027
         ],
         "yaxis": "y"
        },
        {
         "line": {
          "color": "#2ca02c"
         },
         "mode": "lines+markers",
         "name": "Dry precip (mm)",
         "type": "scatter",
         "x": [
          2015,
          2016,
          2017,
          2018,
          2019,
          2020,
          2021,
          2022,
          2023,
          2024
         ],
         "xaxis": "x",
         "y": [
          38.41849676190635,
          11.114967976599536,
          100.53921765796925,
          49.563316749774735,
          48.7864301126648,
          78.69124079711854,
          191.8170355017228,
          195.8372957925092,
          61.289895854363486,
          18.77770136999029
         ],
         "yaxis": "y2"
        },
        {
         "name": "Dry water (km²)",
         "type": "bar",
         "x": [
          2015,
          2016,
          2017,
          2018,
          2019,
          2020,
          2021,
          2022,
          2023,
          2024
         ],
         "xaxis": "x2",
         "y": [
          8801.69436933502,
          14991.526078087032,
          11562.232075605794,
          13212.833320361276,
          20371.752892936205,
          21713.95015651763,
          19051.57482011916,
          11460.087220407231,
          16509.042439168585,
          18860.98216625461
         ],
         "yaxis": "y3"
        },
        {
         "line": {
          "color": "#2ca02c"
         },
         "mode": "lines+markers",
         "name": "Dry precip (mm)",
         "type": "scatter",
         "x": [
          2015,
          2016,
          2017,
          2018,
          2019,
          2020,
          2021,
          2022,
          2023,
          2024
         ],
         "xaxis": "x2",
         "y": [
          76.057222892089,
          48.13523872707266,
          137.20711462339327,
          143.9130409375184,
          147.82946560285362,
          125.16933045304286,
          158.26311397233303,
          194.82138907419767,
          76.6836194059776,
          40.99202912297314
         ],
         "yaxis": "y4"
        }
       ],
       "layout": {
        "annotations": [
         {
          "font": {
           "size": 16
          },
          "showarrow": false,
          "text": "Mekong Delta — Dry Season",
          "x": 0.21,
          "xanchor": "center",
          "xref": "paper",
          "y": 1,
          "yanchor": "bottom",
          "yref": "paper"
         },
         {
          "font": {
           "size": 16
          },
          "showarrow": false,
          "text": "Tonlé Sap — Dry Season",
          "x": 0.73,
          "xanchor": "center",
          "xref": "paper",
          "y": 1,
          "yanchor": "bottom",
          "yref": "paper"
         },
         {
          "showarrow": false,
          "text": "Pre-dam dry baseline: 37,504 km²",
          "x": 0,
          "xanchor": "left",
          "xref": "x domain",
          "y": 37503.69651509117,
          "yanchor": "bottom",
          "yref": "y"
         },
         {
          "showarrow": false,
          "text": "2019",
          "x": 2019,
          "xanchor": "right",
          "xref": "x",
          "y": 1,
          "yanchor": "top",
          "yref": "y domain"
         },
         {
          "showarrow": false,
          "text": "2009",
          "x": 2009,
          "xanchor": "right",
          "xref": "x",
          "y": 1,
          "yanchor": "top",
          "yref": "y domain"
         },
         {
          "showarrow": false,
          "text": "2012",
          "x": 2012,
          "xanchor": "right",
          "xref": "x",
          "y": 1,
          "yanchor": "top",
          "yref": "y domain"
         },
         {
          "showarrow": false,
          "text": "Pre-dam dry baseline: 3,179 km²",
          "x": 0,
          "xanchor": "left",
          "xref": "x2 domain",
          "y": 3178.619294698543,
          "yanchor": "bottom",
          "yref": "y3"
         },
         {
          "showarrow": false,
          "text": "2019",
          "x": 2019,
          "xanchor": "right",
          "xref": "x2",
          "y": 1,
          "yanchor": "top",
          "yref": "y3 domain"
         },
         {
          "showarrow": false,
          "text": "2009",
          "x": 2009,
          "xanchor": "right",
          "xref": "x2",
          "y": 1,
          "yanchor": "top",
          "yref": "y3 domain"
         },
         {
          "showarrow": false,
          "text": "2012",
          "x": 2012,
          "xanchor": "right",
          "xref": "x2",
          "y": 1,
          "yanchor": "top",
          "yref": "y3 domain"
         }
        ],
        "font": {
         "family": "Arial, sans-serif",
         "size": 12
        },
        "height": 520,
        "hovermode": "x unified",
        "paper_bgcolor": "white",
        "plot_bgcolor": "white",
        "shapes": [
         {
          "line": {
           "color": "#d62728",
           "dash": "dash"
          },
          "opacity": 0.7,
          "type": "line",
          "x0": 0,
          "x1": 1,
          "xref": "x domain",
          "y0": 37503.69651509117,
          "y1": 37503.69651509117,
          "yref": "y"
         },
         {
          "line": {
           "color": "#7f7f7f",
           "dash": "dot"
          },
          "opacity": 0.6,
          "type": "line",
          "x0": 2019,
          "x1": 2019,
          "xref": "x",
          "y0": 0,
          "y1": 1,
          "yref": "y domain"
         },
         {
          "line": {
           "color": "#7f7f7f",
           "dash": "dot"
          },
          "opacity": 0.6,
          "type": "line",
          "x0": 2009,
          "x1": 2009,
          "xref": "x",
          "y0": 0,
          "y1": 1,
          "yref": "y domain"
         },
         {
          "line": {
           "color": "#7f7f7f",
           "dash": "dot"
          },
          "opacity": 0.6,
          "type": "line",
          "x0": 2012,
          "x1": 2012,
          "xref": "x",
          "y0": 0,
          "y1": 1,
          "yref": "y domain"
         },
         {
          "line": {
           "color": "#d62728",
           "dash": "dash"
          },
          "opacity": 0.7,
          "type": "line",
          "x0": 0,
          "x1": 1,
          "xref": "x2 domain",
          "y0": 3178.619294698543,
          "y1": 3178.619294698543,
          "yref": "y3"
         },
         {
          "line": {
           "color": "#7f7f7f",
           "dash": "dot"
          },
          "opacity": 0.6,
          "type": "line",
          "x0": 2019,
          "x1": 2019,
          "xref": "x2",
          "y0": 0,
          "y1": 1,
          "yref": "y3 domain"
         },
         {
          "line": {
           "color": "#7f7f7f",
           "dash": "dot"
          },
          "opacity": 0.6,
          "type": "line",
          "x0": 2009,
          "x1": 2009,
          "xref": "x2",
          "y0": 0,
          "y1": 1,
          "yref": "y3 domain"
         },
         {
          "line": {
           "color": "#7f7f7f",
           "dash": "dot"
          },
          "opacity": 0.6,
          "type": "line",
          "x0": 2012,
          "x1": 2012,
          "xref": "x2",
          "y0": 0,
          "y1": 1,
          "yref": "y3 domain"
         }
        ],
        "template": {
         "data": {
          "bar": [
           {
            "error_x": {
             "color": "#2a3f5f"
            },
            "error_y": {
             "color": "#2a3f5f"
            },
            "marker": {
             "line": {
              "color": "#E5ECF6",
              "width": 0.5
             },
             "pattern": {
              "fillmode": "overlay",
              "size": 10,
              "solidity": 0.2
             }
            },
            "type": "bar"
           }
          ],
          "barpolar": [
           {
            "marker": {
             "line": {
              "color": "#E5ECF6",
              "width": 0.5
             },
             "pattern": {
              "fillmode": "overlay",
              "size": 10,
              "solidity": 0.2
             }
            },
            "type": "barpolar"
           }
          ],
          "carpet": [
           {
            "aaxis": {
             "endlinecolor": "#2a3f5f",
             "gridcolor": "white",
             "linecolor": "white",
             "minorgridcolor": "white",
             "startlinecolor": "#2a3f5f"
            },
            "baxis": {
             "endlinecolor": "#2a3f5f",
             "gridcolor": "white",
             "linecolor": "white",
             "minorgridcolor": "white",
             "startlinecolor": "#2a3f5f"
            },
            "type": "carpet"
           }
          ],
          "choropleth": [
           {
            "colorbar": {
             "outlinewidth": 0,
             "ticks": ""
            },
            "type": "choropleth"
           }
          ],
          "contour": [
           {
            "colorbar": {
             "outlinewidth": 0,
             "ticks": ""
            },
            "colorscale": [
             [
              0,
              "#0d0887"
             ],
             [
              0.1111111111111111,
              "#46039f"
             ],
             [
              0.2222222222222222,
              "#7201a8"
             ],
             [
              0.3333333333333333,
              "#9c179e"
             ],
             [
              0.4444444444444444,
              "#bd3786"
             ],
             [
              0.5555555555555556,
              "#d8576b"
             ],
             [
              0.6666666666666666,
              "#ed7953"
             ],
             [
              0.7777777777777778,
              "#fb9f3a"
             ],
             [
              0.8888888888888888,
              "#fdca26"
             ],
             [
              1,
              "#f0f921"
             ]
            ],
            "type": "contour"
           }
          ],
          "contourcarpet": [
           {
            "colorbar": {
             "outlinewidth": 0,
             "ticks": ""
            },
            "type": "contourcarpet"
           }
          ],
          "heatmap": [
           {
            "colorbar": {
             "outlinewidth": 0,
             "ticks": ""
            },
            "colorscale": [
             [
              0,
              "#0d0887"
             ],
             [
              0.1111111111111111,
              "#46039f"
             ],
             [
              0.2222222222222222,
              "#7201a8"
             ],
             [
              0.3333333333333333,
              "#9c179e"
             ],
             [
              0.4444444444444444,
              "#bd3786"
             ],
             [
              0.5555555555555556,
              "#d8576b"
             ],
             [
              0.6666666666666666,
              "#ed7953"
             ],
             [
              0.7777777777777778,
              "#fb9f3a"
             ],
             [
              0.8888888888888888,
              "#fdca26"
             ],
             [
              1,
              "#f0f921"
             ]
            ],
            "type": "heatmap"
           }
          ],
          "heatmapgl": [
           {
            "colorbar": {
             "outlinewidth": 0,
             "ticks": ""
            },
            "colorscale": [
             [
              0,
              "#0d0887"
             ],
             [
              0.1111111111111111,
              "#46039f"
             ],
             [
              0.2222222222222222,
              "#7201a8"
             ],
             [
              0.3333333333333333,
              "#9c179e"
             ],
             [
              0.4444444444444444,
              "#bd3786"
             ],
             [
              0.5555555555555556,
              "#d8576b"
             ],
             [
              0.6666666666666666,
              "#ed7953"
             ],
             [
              0.7777777777777778,
              "#fb9f3a"
             ],
             [
              0.8888888888888888,
              "#fdca26"
             ],
             [
              1,
              "#f0f921"
             ]
            ],
            "type": "heatmapgl"
           }
          ],
          "histogram": [
           {
            "marker": {
             "pattern": {
              "fillmode": "overlay",
              "size": 10,
              "solidity": 0.2
             }
            },
            "type": "histogram"
           }
          ],
          "histogram2d": [
           {
            "colorbar": {
             "outlinewidth": 0,
             "ticks": ""
            },
            "colorscale": [
             [
              0,
              "#0d0887"
             ],
             [
              0.1111111111111111,
              "#46039f"
             ],
             [
              0.2222222222222222,
              "#7201a8"
             ],
             [
              0.3333333333333333,
              "#9c179e"
             ],
             [
              0.4444444444444444,
              "#bd3786"
             ],
             [
              0.5555555555555556,
              "#d8576b"
             ],
             [
              0.6666666666666666,
              "#ed7953"
             ],
             [
              0.7777777777777778,
              "#fb9f3a"
             ],
             [
              0.8888888888888888,
              "#fdca26"
             ],
             [
              1,
              "#f0f921"
             ]
            ],
            "type": "histogram2d"
           }
          ],
          "histogram2dcontour": [
           {
            "colorbar": {
             "outlinewidth": 0,
             "ticks": ""
            },
            "colorscale": [
             [
              0,
              "#0d0887"
             ],
             [
              0.1111111111111111,
              "#46039f"
             ],
             [
              0.2222222222222222,
              "#7201a8"
             ],
             [
              0.3333333333333333,
              "#9c179e"
             ],
             [
              0.4444444444444444,
              "#bd3786"
             ],
             [
              0.5555555555555556,
              "#d8576b"
             ],
             [
              0.6666666666666666,
              "#ed7953"
             ],
             [
              0.7777777777777778,
              "#fb9f3a"
             ],
             [
              0.8888888888888888,
              "#fdca26"
             ],
             [
              1,
              "#f0f921"
             ]
            ],
            "type": "histogram2dcontour"
           }
          ],
          "mesh3d": [
           {
            "colorbar": {
             "outlinewidth": 0,
             "ticks": ""
            },
            "type": "mesh3d"
           }
          ],
          "parcoords": [
           {
            "line": {
             "colorbar": {
              "outlinewidth": 0,
              "ticks": ""
             }
            },
            "type": "parcoords"
           }
          ],
          "pie": [
           {
            "automargin": true,
            "type": "pie"
           }
          ],
          "scatter": [
           {
            "fillpattern": {
             "fillmode": "overlay",
             "size": 10,
             "solidity": 0.2
            },
            "type": "scatter"
           }
          ],
          "scatter3d": [
           {
            "line": {
             "colorbar": {
              "outlinewidth": 0,
              "ticks": ""
             }
            },
            "marker": {
             "colorbar": {
              "outlinewidth": 0,
              "ticks": ""
             }
            },
            "type": "scatter3d"
           }
          ],
          "scattercarpet": [
           {
            "marker": {
             "colorbar": {
              "outlinewidth": 0,
              "ticks": ""
             }
            },
            "type": "scattercarpet"
           }
          ],
          "scattergeo": [
           {
            "marker": {
             "colorbar": {
              "outlinewidth": 0,
              "ticks": ""
             }
            },
            "type": "scattergeo"
           }
          ],
          "scattergl": [
           {
            "marker": {
             "colorbar": {
              "outlinewidth": 0,
              "ticks": ""
             }
            },
            "type": "scattergl"
           }
          ],
          "scattermapbox": [
           {
            "marker": {
             "colorbar": {
              "outlinewidth": 0,
              "ticks": ""
             }
            },
            "type": "scattermapbox"
           }
          ],
          "scatterpolar": [
           {
            "marker": {
             "colorbar": {
              "outlinewidth": 0,
              "ticks": ""
             }
            },
            "type": "scatterpolar"
           }
          ],
          "scatterpolargl": [
           {
            "marker": {
             "colorbar": {
              "outlinewidth": 0,
              "ticks": ""
             }
            },
            "type": "scatterpolargl"
           }
          ],
          "scatterternary": [
           {
            "marker": {
             "colorbar": {
              "outlinewidth": 0,
              "ticks": ""
             }
            },
            "type": "scatterternary"
           }
          ],
          "surface": [
           {
            "colorbar": {
             "outlinewidth": 0,
             "ticks": ""
            },
            "colorscale": [
             [
              0,
              "#0d0887"
             ],
             [
              0.1111111111111111,
              "#46039f"
             ],
             [
              0.2222222222222222,
              "#7201a8"
             ],
             [
              0.3333333333333333,
              "#9c179e"
             ],
             [
              0.4444444444444444,
              "#bd3786"
             ],
             [
              0.5555555555555556,
              "#d8576b"
             ],
             [
              0.6666666666666666,
              "#ed7953"
             ],
             [
              0.7777777777777778,
              "#fb9f3a"
             ],
             [
              0.8888888888888888,
              "#fdca26"
             ],
             [
              1,
              "#f0f921"
             ]
            ],
            "type": "surface"
           }
          ],
          "table": [
           {
            "cells": {
             "fill": {
              "color": "#EBF0F8"
             },
             "line": {
              "color": "white"
             }
            },
            "header": {
             "fill": {
              "color": "#C8D4E3"
             },
             "line": {
              "color": "white"
             }
            },
            "type": "table"
           }
          ]
         },
         "layout": {
          "annotationdefaults": {
           "arrowcolor": "#2a3f5f",
           "arrowhead": 0,
           "arrowwidth": 1
          },
          "autotypenumbers": "strict",
          "coloraxis": {
           "colorbar": {
            "outlinewidth": 0,
            "ticks": ""
           }
          },
          "colorscale": {
           "diverging": [
            [
             0,
             "#8e0152"
            ],
            [
             0.1,
             "#c51b7d"
            ],
            [
             0.2,
             "#de77ae"
            ],
            [
             0.3,
             "#f1b6da"
            ],
            [
             0.4,
             "#fde0ef"
            ],
            [
             0.5,
             "#f7f7f7"
            ],
            [
             0.6,
             "#e6f5d0"
            ],
            [
             0.7,
             "#b8e186"
            ],
            [
             0.8,
             "#7fbc41"
            ],
            [
             0.9,
             "#4d9221"
            ],
            [
             1,
             "#276419"
            ]
           ],
           "sequential": [
            [
             0,
             "#0d0887"
            ],
            [
             0.1111111111111111,
             "#46039f"
            ],
            [
             0.2222222222222222,
             "#7201a8"
            ],
            [
             0.3333333333333333,
             "#9c179e"
            ],
            [
             0.4444444444444444,
             "#bd3786"
            ],
            [
             0.5555555555555556,
             "#d8576b"
            ],
            [
             0.6666666666666666,
             "#ed7953"
            ],
            [
             0.7777777777777778,
             "#fb9f3a"
            ],
            [
             0.8888888888888888,
             "#fdca26"
            ],
            [
             1,
             "#f0f921"
            ]
           ],
           "sequentialminus": [
            [
             0,
             "#0d0887"
            ],
            [
             0.1111111111111111,
             "#46039f"
            ],
            [
             0.2222222222222222,
             "#7201a8"
            ],
            [
             0.3333333333333333,
             "#9c179e"
            ],
            [
             0.4444444444444444,
             "#bd3786"
            ],
            [
             0.5555555555555556,
             "#d8576b"
            ],
            [
             0.6666666666666666,
             "#ed7953"
            ],
            [
             0.7777777777777778,
             "#fb9f3a"
            ],
            [
             0.8888888888888888,
             "#fdca26"
            ],
            [
             1,
             "#f0f921"
            ]
           ]
          },
          "colorway": [
           "#636efa",
           "#EF553B",
           "#00cc96",
           "#ab63fa",
           "#FFA15A",
           "#19d3f3",
           "#FF6692",
           "#B6E880",
           "#FF97FF",
           "#FECB52"
          ],
          "font": {
           "color": "#2a3f5f"
          },
          "geo": {
           "bgcolor": "white",
           "lakecolor": "white",
           "landcolor": "#E5ECF6",
           "showlakes": true,
           "showland": true,
           "subunitcolor": "white"
          },
          "hoverlabel": {
           "align": "left"
          },
          "hovermode": "closest",
          "mapbox": {
           "style": "light"
          },
          "paper_bgcolor": "white",
          "plot_bgcolor": "#E5ECF6",
          "polar": {
           "angularaxis": {
            "gridcolor": "white",
            "linecolor": "white",
            "ticks": ""
           },
           "bgcolor": "#E5ECF6",
           "radialaxis": {
            "gridcolor": "white",
            "linecolor": "white",
            "ticks": ""
           }
          },
          "scene": {
           "xaxis": {
            "backgroundcolor": "#E5ECF6",
            "gridcolor": "white",
            "gridwidth": 2,
            "linecolor": "white",
            "showbackground": true,
            "ticks": "",
            "zerolinecolor": "white"
           },
           "yaxis": {
            "backgroundcolor": "#E5ECF6",
            "gridcolor": "white",
            "gridwidth": 2,
            "linecolor": "white",
            "showbackground": true,
            "ticks": "",
            "zerolinecolor": "white"
           },
           "zaxis": {
            "backgroundcolor": "#E5ECF6",
            "gridcolor": "white",
            "gridwidth": 2,
            "linecolor": "white",
            "showbackground": true,
            "ticks": "",
            "zerolinecolor": "white"
           }
          },
          "shapedefaults": {
           "line": {
            "color": "#2a3f5f"
           }
          },
          "ternary": {
           "aaxis": {
            "gridcolor": "white",
            "linecolor": "white",
            "ticks": ""
           },
           "baxis": {
            "gridcolor": "white",
            "linecolor": "white",
            "ticks": ""
           },
           "bgcolor": "#E5ECF6",
           "caxis": {
            "gridcolor": "white",
            "linecolor": "white",
            "ticks": ""
           }
          },
          "title": {
           "x": 0.05
          },
          "xaxis": {
           "automargin": true,
           "gridcolor": "white",
           "linecolor": "white",
           "ticks": "",
           "title": {
            "standoff": 15
           },
           "zerolinecolor": "white",
           "zerolinewidth": 2
          },
          "yaxis": {
           "automargin": true,
           "gridcolor": "white",
           "linecolor": "white",
           "ticks": "",
           "title": {
            "standoff": 15
           },
           "zerolinecolor": "white",
           "zerolinewidth": 2
          }
         }
        },
        "title": {
         "font": {
          "size": 16
         },
         "text": "Dry-season Water vs Precipitation",
         "x": 0.5,
         "xanchor": "center"
        },
        "width": 1200,
        "xaxis": {
         "anchor": "y",
         "autorange": true,
         "domain": [
          0,
          0.42
         ],
         "dtick": 1,
         "range": [
          2007.6603014177756,
          2025.0305739383969
         ],
         "type": "linear"
        },
        "xaxis2": {
         "anchor": "y3",
         "autorange": true,
         "domain": [
          0.52,
          0.94
         ],
         "dtick": 1,
         "range": [
          2007.6603014177756,
          2025.0305739383969
         ],
         "type": "linear"
        },
        "yaxis": {
         "anchor": "x",
         "autorange": true,
         "domain": [
          0,
          1
         ],
         "range": [
          0,
          53180.88142267462
         ],
         "title": {
          "text": "Water (km²)"
         },
         "type": "linear"
        },
        "yaxis2": {
         "anchor": "x",
         "autorange": true,
         "overlaying": "y",
         "range": [
          -1.7258638564997106,
          208.67812762560845
         ],
         "side": "right",
         "title": {
          "text": "Precip (mm)"
         },
         "type": "linear"
        },
        "yaxis3": {
         "anchor": "x2",
         "autorange": true,
         "domain": [
          0,
          1
         ],
         "range": [
          0,
          22856.789638439608
         ],
         "title": {
          "text": "Water (km²)"
         },
         "type": "linear"
        },
        "yaxis4": {
         "anchor": "x2",
         "autorange": true,
         "overlaying": "y3",
         "range": [
          30.298698406095724,
          205.5147197910751
         ],
         "side": "right",
         "title": {
          "text": "Precip (mm)"
         },
         "type": "linear"
        }
       }
      },
      "image/png": "[encoded data removed]",
      "text/html": [
       "<div>                            <div id=\"4bdd9f2d-6a93-470d-9038-a60a60af7d77\" class=\"plotly-graph-div\" style=\"height:520px; width:1200px;\"></div>            <script type=\"text/javascript\">                require([\"plotly\"], function(Plotly) {                    window.PLOTLYENV=window.PLOTLYENV || {};                                    if (document.getElementById(\"4bdd9f2d-6a93-470d-9038-a60a60af7d77\")) {                    Plotly.newPlot(                        \"4bdd9f2d-6a93-470d-9038-a60a60af7d77\",                        [{\"name\":\"Dry water (km\\u00b2)\",\"x\":[2015,2016,2017,2018,2019,2020,2021,2022,2023,2024],\"y\":[36829.4286395826,40975.32620274473,45017.50081852491,46549.48829555765,49696.49336129008,50521.83735154089,48443.40003357957,46010.56912131832,46413.03926798155,48731.23616049027],\"type\":\"bar\",\"xaxis\":\"x\",\"yaxis\":\"y\"},{\"line\":{\"color\":\"#2ca02c\"},\"mode\":\"lines+markers\",\"name\":\"Dry precip (mm)\",\"x\":[2015,2016,2017,2018,2019,2020,2021,2022,2023,2024],\"y\":[38.41849676190635,11.114967976599536,100.53921765796925,49.563316749774735,48.7864301126648,78.69124079711854,191.8170355017228,195.8372957925092,61.289895854363486,18.77770136999029],\"type\":\"scatter\",\"xaxis\":\"x\",\"yaxis\":\"y2\"},{\"name\":\"Dry water (km\\u00b2)\",\"x\":[2015,2016,2017,2018,2019,2020,2021,2022,2023,2024],\"y\":[8801.69436933502,14991.526078087032,11562.232075605794,13212.833320361276,20371.752892936205,21713.95015651763,19051.57482011916,11460.087220407231,16509.042439168585,18860.98216625461],\"type\":\"bar\",\"xaxis\":\"x2\",\"yaxis\":\"y3\"},{\"line\":{\"color\":\"#2ca02c\"},\"mode\":\"lines+markers\",\"name\":\"Dry precip (mm)\",\"x\":[2015,2016,2017,2018,2019,2020,2021,2022,2023,2024],\"y\":[76.057222892089,48.13523872707266,137.20711462339327,143.9130409375184,147.82946560285362,125.16933045304286,158.26311397233303,194.82138907419767,76.6836194059776,40.99202912297314],\"type\":\"scatter\",\"xaxis\":\"x2\",\"yaxis\":\"y4\"}],                        {\"template\":{\"data\":{\"histogram2dcontour\":[{\"type\":\"histogram2dcontour\",\"colorbar\":{\"outlinewidth\":0,\"ticks\":\"\"},\"colorscale\":[[0.0,\"#0d0887\"],[0.1111111111111111,\"#46039f\"],[0.2222222222222222,\"#7201a8\"],[0.3333333333333333,\"#9c179e\"],[0.4444444444444444,\"#bd3786\"],[0.5555555555555556,\"#d8576b\"],[0.6666666666666666,\"#ed7953\"],[0.7777777777777778,\"#fb9f3a\"],[0.8888888888888888,\"#fdca26\"],[1.0,\"#f0f921\"]]}],\"choropleth\":[{\"type\":\"choropleth\",\"colorbar\":{\"outlinewidth\":0,\"ticks\":\"\"}}],\"histogram2d\":[{\"type\":\"histogram2d\",\"colorbar\":{\"outlinewidth\":0,\"ticks\":\"\"},\"colorscale\":[[0.0,\"#0d0887\"],[0.1111111111111111,\"#46039f\"],[0.2222222222222222,\"#7201a8\"],[0.3333333333333333,\"#9c179e\"],[0.4444444444444444,\"#bd3786\"],[0.5555555555555556,\"#d8576b\"],[0.6666666666666666,\"#ed7953\"],[0.7777777777777778,\"#fb9f3a\"],[0.8888888888888888,\"#fdca26\"],[1.0,\"#f0f921\"]]}],\"heatmap\":[{\"type\":\"heatmap\",\"colorbar\":{\"outlinewidth\":0,\"ticks\":\"\"},\"colorscale\":[[0.0,\"#0d0887\"],[0.1111111111111111,\"#46039f\"],[0.2222222222222222,\"#7201a8\"],[0.3333333333333333,\"#9c179e\"],[0.4444444444444444,\"#bd3786\"],[0.5555555555555556,\"#d8576b\"],[0.6666666666666666,\"#ed7953\"],[0.7777777777777778,\"#fb9f3a\"],[0.8888888888888888,\"#fdca26\"],[1.0,\"#f0f921\"]]}],\"heatmapgl\":[{\"type\":\"heatmapgl\",\"colorbar\":{\"outlinewidth\":0,\"ticks\":\"\"},\"colorscale\":[[0.0,\"#0d0887\"],[0.1111111111111111,\"#46039f\"],[0.2222222222222222,\"#7201a8\"],[0.3333333333333333,\"#9c179e\"],[0.4444444444444444,\"#bd3786\"],[0.5555555555555556,\"#d8576b\"],[0.6666666666666666,\"#ed7953\"],[0.7777777777777778,\"#fb9f3a\"],[0.8888888888888888,\"#fdca26\"],[1.0,\"#f0f921\"]]}],\"contourcarpet\":[{\"type\":\"contourcarpet\",\"colorbar\":{\"outlinewidth\":0,\"ticks\":\"\"}}],\"contour\":[{\"type\":\"contour\",\"colorbar\":{\"outlinewidth\":0,\"ticks\":\"\"},\"colorscale\":[[0.0,\"#0d0887\"],[0.1111111111111111,\"#46039f\"],[0.2222222222222222,\"#7201a8\"],[0.3333333333333333,\"#9c179e\"],[0.4444444444444444,\"#bd3786\"],[0.5555555555555556,\"#d8576b\"],[0.6666666666666666,\"#ed7953\"],[0.7777777777777778,\"#fb9f3a\"],[0.8888888888888888,\"#fdca26\"],[1.0,\"#f0f921\"]]}],\"surface\":[{\"type\":\"surface\",\"colorbar\":{\"outlinewidth\":0,\"ticks\":\"\"},\"colorscale\":[[0.0,\"#0d0887\"],[0.1111111111111111,\"#46039f\"],[0.2222222222222222,\"#7201a8\"],[0.3333333333333333,\"#9c179e\"],[0.4444444444444444,\"#bd3786\"],[0.5555555555555556,\"#d8576b\"],[0.6666666666666666,\"#ed7953\"],[0.7777777777777778,\"#fb9f3a\"],[0.8888888888888888,\"#fdca26\"],[1.0,\"#f0f921\"]]}],\"mesh3d\":[{\"type\":\"mesh3d\",\"colorbar\":{\"outlinewidth\":0,\"ticks\":\"\"}}],\"scatter\":[{\"fillpattern\":{\"fillmode\":\"overlay\",\"size\":10,\"solidity\":0.2},\"type\":\"scatter\"}],\"parcoords\":[{\"type\":\"parcoords\",\"line\":{\"colorbar\":{\"outlinewidth\":0,\"ticks\":\"\"}}}],\"scatterpolargl\":[{\"type\":\"scatterpolargl\",\"marker\":{\"colorbar\":{\"outlinewidth\":0,\"ticks\":\"\"}}}],\"bar\":[{\"error_x\":{\"color\":\"#2a3f5f\"},\"error_y\":{\"color\":\"#2a3f5f\"},\"marker\":{\"line\":{\"color\":\"#E5ECF6\",\"width\":0.5},\"pattern\":{\"fillmode\":\"overlay\",\"size\":10,\"solidity\":0.2}},\"type\":\"bar\"}],\"scattergeo\":[{\"type\":\"scattergeo\",\"marker\":{\"colorbar\":{\"outlinewidth\":0,\"ticks\":\"\"}}}],\"scatterpolar\":[{\"type\":\"scatterpolar\",\"marker\":{\"colorbar\":{\"outlinewidth\":0,\"ticks\":\"\"}}}],\"histogram\":[{\"marker\":{\"pattern\":{\"fillmode\":\"overlay\",\"size\":10,\"solidity\":0.2}},\"type\":\"histogram\"}],\"scattergl\":[{\"type\":\"scattergl\",\"marker\":{\"colorbar\":{\"outlinewidth\":0,\"ticks\":\"\"}}}],\"scatter3d\":[{\"type\":\"scatter3d\",\"line\":{\"colorbar\":{\"outlinewidth\":0,\"ticks\":\"\"}},\"marker\":{\"colorbar\":{\"outlinewidth\":0,\"ticks\":\"\"}}}],\"scattermapbox\":[{\"type\":\"scattermapbox\",\"marker\":{\"colorbar\":{\"outlinewidth\":0,\"ticks\":\"\"}}}],\"scatterternary\":[{\"type\":\"scatterternary\",\"marker\":{\"colorbar\":{\"outlinewidth\":0,\"ticks\":\"\"}}}],\"scattercarpet\":[{\"type\":\"scattercarpet\",\"marker\":{\"colorbar\":{\"outlinewidth\":0,\"ticks\":\"\"}}}],\"carpet\":[{\"aaxis\":{\"endlinecolor\":\"#2a3f5f\",\"gridcolor\":\"white\",\"linecolor\":\"white\",\"minorgridcolor\":\"white\",\"startlinecolor\":\"#2a3f5f\"},\"baxis\":{\"endlinecolor\":\"#2a3f5f\",\"gridcolor\":\"white\",\"linecolor\":\"white\",\"minorgridcolor\":\"white\",\"startlinecolor\":\"#2a3f5f\"},\"type\":\"carpet\"}],\"table\":[{\"cells\":{\"fill\":{\"color\":\"#EBF0F8\"},\"line\":{\"color\":\"white\"}},\"header\":{\"fill\":{\"color\":\"#C8D4E3\"},\"line\":{\"color\":\"white\"}},\"type\":\"table\"}],\"barpolar\":[{\"marker\":{\"line\":{\"color\":\"#E5ECF6\",\"width\":0.5},\"pattern\":{\"fillmode\":\"overlay\",\"size\":10,\"solidity\":0.2}},\"type\":\"barpolar\"}],\"pie\":[{\"automargin\":true,\"type\":\"pie\"}]},\"layout\":{\"autotypenumbers\":\"strict\",\"colorway\":[\"#636efa\",\"#EF553B\",\"#00cc96\",\"#ab63fa\",\"#FFA15A\",\"#19d3f3\",\"#FF6692\",\"#B6E880\",\"#FF97FF\",\"#FECB52\"],\"font\":{\"color\":\"#2a3f5f\"},\"hovermode\":\"closest\",\"hoverlabel\":{\"align\":\"left\"},\"paper_bgcolor\":\"white\",\"plot_bgcolor\":\"#E5ECF6\",\"polar\":{\"bgcolor\":\"#E5ECF6\",\"angularaxis\":{\"gridcolor\":\"white\",\"linecolor\":\"white\",\"ticks\":\"\"},\"radialaxis\":{\"gridcolor\":\"white\",\"linecolor\":\"white\",\"ticks\":\"\"}},\"ternary\":{\"bgcolor\":\"#E5ECF6\",\"aaxis\":{\"gridcolor\":\"white\",\"linecolor\":\"white\",\"ticks\":\"\"},\"baxis\":{\"gridcolor\":\"white\",\"linecolor\":\"white\",\"ticks\":\"\"},\"caxis\":{\"gridcolor\":\"white\",\"linecolor\":\"white\",\"ticks\":\"\"}},\"coloraxis\":{\"colorbar\":{\"outlinewidth\":0,\"ticks\":\"\"}},\"colorscale\":{\"sequential\":[[0.0,\"#0d0887\"],[0.1111111111111111,\"#46039f\"],[0.2222222222222222,\"#7201a8\"],[0.3333333333333333,\"#9c179e\"],[0.4444444444444444,\"#bd3786\"],[0.5555555555555556,\"#d8576b\"],[0.6666666666666666,\"#ed7953\"],[0.7777777777777778,\"#fb9f3a\"],[0.8888888888888888,\"#fdca26\"],[1.0,\"#f0f921\"]],\"sequentialminus\":[[0.0,\"#0d0887\"],[0.1111111111111111,\"#46039f\"],[0.2222222222222222,\"#7201a8\"],[0.3333333333333333,\"#9c179e\"],[0.4444444444444444,\"#bd3786\"],[0.5555555555555556,\"#d8576b\"],[0.6666666666666666,\"#ed7953\"],[0.7777777777777778,\"#fb9f3a\"],[0.8888888888888888,\"#fdca26\"],[1.0,\"#f0f921\"]],\"diverging\":[[0,\"#8e0152\"],[0.1,\"#c51b7d\"],[0.2,\"#de77ae\"],[0.3,\"#f1b6da\"],[0.4,\"#fde0ef\"],[0.5,\"#f7f7f7\"],[0.6,\"#e6f5d0\"],[0.7,\"#b8e186\"],[0.8,\"#7fbc41\"],[0.9,\"#4d9221\"],[1,\"#276419\"]]},\"xaxis\":{\"gridcolor\":\"white\",\"linecolor\":\"white\",\"ticks\":\"\",\"title\":{\"standoff\":15},\"zerolinecolor\":\"white\",\"automargin\":true,\"zerolinewidth\":2},\"yaxis\":{\"gridcolor\":\"white\",\"linecolor\":\"white\",\"ticks\":\"\",\"title\":{\"standoff\":15},\"zerolinecolor\":\"white\",\"automargin\":true,\"zerolinewidth\":2},\"scene\":{\"xaxis\":{\"backgroundcolor\":\"#E5ECF6\",\"gridcolor\":\"white\",\"linecolor\":\"white\",\"showbackground\":true,\"ticks\":\"\",\"zerolinecolor\":\"white\",\"gridwidth\":2},\"yaxis\":{\"backgroundcolor\":\"#E5ECF6\",\"gridcolor\":\"white\",\"linecolor\":\"white\",\"showbackground\":true,\"ticks\":\"\",\"zerolinecolor\":\"white\",\"gridwidth\":2},\"zaxis\":{\"backgroundcolor\":\"#E5ECF6\",\"gridcolor\":\"white\",\"linecolor\":\"white\",\"showbackground\":true,\"ticks\":\"\",\"zerolinecolor\":\"white\",\"gridwidth\":2}},\"shapedefaults\":{\"line\":{\"color\":\"#2a3f5f\"}},\"annotationdefaults\":{\"arrowcolor\":\"#2a3f5f\",\"arrowhead\":0,\"arrowwidth\":1},\"geo\":{\"bgcolor\":\"white\",\"landcolor\":\"#E5ECF6\",\"subunitcolor\":\"white\",\"showland\":true,\"showlakes\":true,\"lakecolor\":\"white\"},\"title\":{\"x\":0.05},\"mapbox\":{\"style\":\"light\"}}},\"xaxis\":{\"anchor\":\"y\",\"domain\":[0.0,0.42],\"dtick\":1},\"yaxis\":{\"anchor\":\"x\",\"domain\":[0.0,1.0],\"title\":{\"text\":\"Water (km\\u00b2)\"}},\"yaxis2\":{\"anchor\":\"x\",\"overlaying\":\"y\",\"side\":\"right\",\"title\":{\"text\":\"Precip (mm)\"}},\"xaxis2\":{\"anchor\":\"y3\",\"domain\":[0.52,0.94],\"dtick\":1},\"yaxis3\":{\"anchor\":\"x2\",\"domain\":[0.0,1.0],\"title\":{\"text\":\"Water (km\\u00b2)\"}},\"yaxis4\":{\"anchor\":\"x2\",\"overlaying\":\"y3\",\"side\":\"right\",\"title\":{\"text\":\"Precip (mm)\"}},\"annotations\":[{\"font\":{\"size\":16},\"showarrow\":false,\"text\":\"Mekong Delta \\u2014 Dry Season\",\"x\":0.21,\"xanchor\":\"center\",\"xref\":\"paper\",\"y\":1.0,\"yanchor\":\"bottom\",\"yref\":\"paper\"},{\"font\":{\"size\":16},\"showarrow\":false,\"text\":\"Tonl\\u00e9 Sap \\u2014 Dry Season\",\"x\":0.73,\"xanchor\":\"center\",\"xref\":\"paper\",\"y\":1.0,\"yanchor\":\"bottom\",\"yref\":\"paper\"},{\"showarrow\":false,\"text\":\"Pre-dam dry baseline: 37,504 km\\u00b2\",\"x\":0,\"xanchor\":\"left\",\"xref\":\"x domain\",\"y\":37503.69651509117,\"yanchor\":\"bottom\",\"yref\":\"y\"},{\"showarrow\":false,\"text\":\"2019\",\"x\":2019,\"xanchor\":\"right\",\"xref\":\"x\",\"y\":1,\"yanchor\":\"top\",\"yref\":\"y domain\"},{\"showarrow\":false,\"text\":\"2009\",\"x\":2009,\"xanchor\":\"right\",\"xref\":\"x\",\"y\":1,\"yanchor\":\"top\",\"yref\":\"y domain\"},{\"showarrow\":false,\"text\":\"2012\",\"x\":2012,\"xanchor\":\"right\",\"xref\":\"x\",\"y\":1,\"yanchor\":\"top\",\"yref\":\"y domain\"},{\"showarrow\":false,\"text\":\"Pre-dam dry baseline: 3,179 km\\u00b2\",\"x\":0,\"xanchor\":\"left\",\"xref\":\"x2 domain\",\"y\":3178.619294698543,\"yanchor\":\"bottom\",\"yref\":\"y3\"},{\"showarrow\":false,\"text\":\"2019\",\"x\":2019,\"xanchor\":\"right\",\"xref\":\"x2\",\"y\":1,\"yanchor\":\"top\",\"yref\":\"y3 domain\"},{\"showarrow\":false,\"text\":\"2009\",\"x\":2009,\"xanchor\":\"right\",\"xref\":\"x2\",\"y\":1,\"yanchor\":\"top\",\"yref\":\"y3 domain\"},{\"showarrow\":false,\"text\":\"2012\",\"x\":2012,\"xanchor\":\"right\",\"xref\":\"x2\",\"y\":1,\"yanchor\":\"top\",\"yref\":\"y3 domain\"}],\"font\":{\"family\":\"Arial, sans-serif\",\"size\":12},\"height\":520,\"width\":1200,\"hovermode\":\"x unified\",\"plot_bgcolor\":\"white\",\"paper_bgcolor\":\"white\",\"shapes\":[{\"line\":{\"color\":\"#d62728\",\"dash\":\"dash\"},\"opacity\":0.7,\"type\":\"line\",\"x0\":0,\"x1\":1,\"xref\":\"x domain\",\"y0\":37503.69651509117,\"y1\":37503.69651509117,\"yref\":\"y\"},{\"line\":{\"color\":\"#7f7f7f\",\"dash\":\"dot\"},\"opacity\":0.6,\"type\":\"line\",\"x0\":2019,\"x1\":2019,\"xref\":\"x\",\"y0\":0,\"y1\":1,\"yref\":\"y domain\"},{\"line\":{\"color\":\"#7f7f7f\",\"dash\":\"dot\"},\"opacity\":0.6,\"type\":\"line\",\"x0\":2009,\"x1\":2009,\"xref\":\"x\",\"y0\":0,\"y1\":1,\"yref\":\"y domain\"},{\"line\":{\"color\":\"#7f7f7f\",\"dash\":\"dot\"},\"opacity\":0.6,\"type\":\"line\",\"x0\":2012,\"x1\":2012,\"xref\":\"x\",\"y0\":0,\"y1\":1,\"yref\":\"y domain\"},{\"line\":{\"color\":\"#d62728\",\"dash\":\"dash\"},\"opacity\":0.7,\"type\":\"line\",\"x0\":0,\"x1\":1,\"xref\":\"x2 domain\",\"y0\":3178.619294698543,\"y1\":3178.619294698543,\"yref\":\"y3\"},{\"line\":{\"color\":\"#7f7f7f\",\"dash\":\"dot\"},\"opacity\":0.6,\"type\":\"line\",\"x0\":2019,\"x1\":2019,\"xref\":\"x2\",\"y0\":0,\"y1\":1,\"yref\":\"y3 domain\"},{\"line\":{\"color\":\"#7f7f7f\",\"dash\":\"dot\"},\"opacity\":0.6,\"type\":\"line\",\"x0\":2009,\"x1\":2009,\"xref\":\"x2\",\"y0\":0,\"y1\":1,\"yref\":\"y3 domain\"},{\"line\":{\"color\":\"#7f7f7f\",\"dash\":\"dot\"},\"opacity\":0.6,\"type\":\"line\",\"x0\":2012,\"x1\":2012,\"xref\":\"x2\",\"y0\":0,\"y1\":1,\"yref\":\"y3 domain\"}],\"title\":{\"font\":{\"size\":16},\"text\":\"Dry-season Water vs Precipitation\",\"x\":0.5,\"xanchor\":\"center\"}},                        {\"responsive\": true}                    ).then(function(){\n",
       "                            \n",
       "var gd = document.getElementById('4bdd9f2d-6a93-470d-9038-a60a60af7d77');\n",
       "var x = new MutationObserver(function (mutations, observer) {{\n",
       "        var display = window.getComputedStyle(gd).display;\n",
       "        if (!display || display === 'none') {{\n",
       "            console.log([gd, 'removed!']);\n",
       "            Plotly.purge(gd);\n",
       "            observer.disconnect();\n",
       "        }}\n",
       "}});\n",
       "\n",
       "// Listen for the removal of the full notebook cells\n",
       "var notebookContainer = gd.closest('#notebook-container');\n",
       "if (notebookContainer) {{\n",
       "    x.observe(notebookContainer, {childList: true});\n",
       "}}\n",
       "\n",
       "// Listen for the clearing of the current output cell\n",
       "var outputEl = gd.closest('.output');\n",
       "if (outputEl) {{\n",
       "    x.observe(outputEl, {childList: true});\n",
       "}}\n",
       "\n",
       "                        })                };                });            </script>        </div>"
      ]
     },
     "metadata": {},
     "output_type": "display_data"
    }
   ],
   "source": [
    "# === Cell 9: Figure 3 - Dry Season Analysis (Dual Axis) ===\n",
    "def fig_dry_dual_axis(df_delta, df_ts, baselines, events):\n",
    "    fig = make_subplots(rows=1, cols=2, subplot_titles=(\"Mekong Delta — Dry Season\", \"Tonlé Sap — Dry Season\"),\n",
    "                        specs=[[{\"secondary_y\": True},{\"secondary_y\": True}]], horizontal_spacing=0.10,\n",
    "                        )\n",
    "    fig.update_layout(height=520, width=1200, hovermode=\"x unified\",\n",
    "                      font=dict(family=\"Arial, sans-serif\", size=12), plot_bgcolor=\"white\", paper_bgcolor=\"white\")\n",
    "\n",
    "    # Delta\n",
    "    if {\"year\",\"dry_vh_km2\",\"precip_dry_mm\"}.issubset(df_delta.columns) and len(df_delta):\n",
    "        fig.add_trace(go.Bar(x=df_delta[\"year\"], y=df_delta[\"dry_vh_km2\"], name=\"Dry water (km²)\"),\n",
    "                      row=1, col=1, secondary_y=False)\n",
    "        fig.add_trace(go.Scatter(x=df_delta[\"year\"], y=df_delta[\"precip_dry_mm\"], mode=\"lines+markers\",\n",
    "                                 name=\"Dry precip (mm)\", line=dict(color=COLORS[\"precip\"])),\n",
    "                      row=1, col=1, secondary_y=True)\n",
    "        add_baseline(fig, baselines[\"Mekong_Delta\"][\"dry_km2\"], \"Pre-dam dry baseline\", row=1, col=1)\n",
    "        add_event_markers(fig, events, row=1, col=1)\n",
    "    else:\n",
    "        fig.add_annotation(text=\"No data\", xref=\"paper\", yref=\"paper\", x=0.5, y=0.5, showarrow=False, row=1, col=1)\n",
    "\n",
    "    # Tonlé\n",
    "    if {\"year\",\"dry_vh_km2\",\"precip_dry_mm\"}.issubset(df_ts.columns) and len(df_ts):\n",
    "        fig.add_trace(go.Bar(x=df_ts[\"year\"], y=df_ts[\"dry_vh_km2\"], name=\"Dry water (km²)\"),\n",
    "                      row=1, col=2, secondary_y=False)\n",
    "        fig.add_trace(go.Scatter(x=df_ts[\"year\"], y=df_ts[\"precip_dry_mm\"], mode=\"lines+markers\",\n",
    "                                 name=\"Dry precip (mm)\", line=dict(color=COLORS[\"precip\"])),\n",
    "                      row=1, col=2, secondary_y=True)\n",
    "        add_baseline(fig, baselines[\"Tonle_Sap\"][\"dry_km2\"], \"Pre-dam dry baseline\", row=1, col=2)\n",
    "        add_event_markers(fig, events, row=1, col=2)\n",
    "    else:\n",
    "        fig.add_annotation(text=\"No data\", xref=\"paper\", yref=\"paper\", x=0.5, y=0.5, showarrow=False, row=1, col=2)\n",
    "\n",
    "    fig.update_yaxes(title_text=\"Water (km²)\", secondary_y=False, row=1, col=1)\n",
    "    fig.update_yaxes(title_text=\"Precip (mm)\",  secondary_y=True,  row=1, col=1)\n",
    "    fig.update_yaxes(title_text=\"Water (km²)\", secondary_y=False, row=1, col=2)\n",
    "    fig.update_yaxes(title_text=\"Precip (mm)\",  secondary_y=True,  row=1, col=2)\n",
    "    fig.update_xaxes(dtick=1)\n",
    "\n",
    "    return finalize_figure(fig, \"Dry-season Water vs Precipitation\", ASSETS / \"fig_dry_biaxis.json\")\n",
    "\n",
    "fig3 = fig_dry_dual_axis(df_delta, df_ts, BASE, EVENTS)\n",
    "fig3.show()\n"
   ]
  },
  {
   "cell_type": "code",
   "execution_count": 206,
   "id": "d80b0841-4e36-4019-8e92-a9dd3ae52b41",
   "metadata": {
    "scrolled": true
   },
   "outputs": [
    {
     "name": "stdout",
     "output_type": "stream",
     "text": [
      "💾 Saved JSON -> C:\\Users\\wakhan\\Desktop\\Project\\2025\\Mekong\\notebooks\\outputs\\web_assets\\fig_vh_gain.json\n"
     ]
    },
    {
     "data": {
      "application/vnd.plotly.v1+json": {
       "config": {
        "plotlyServerURL": "https://plot.ly"
       },
       "data": [
        {
         "marker": {
          "color": "#9467bd"
         },
         "name": "Delta VH gain",
         "type": "bar",
         "x": [
          2015,
          2016,
          2017,
          2018,
          2019,
          2020,
          2021,
          2022,
          2023,
          2024
         ],
         "xaxis": "x",
         "y": [
          5598.859509883972,
          4125.553478038717,
          2247.7738118226844,
          3174.2314304875617,
          4170.139740577804,
          3561.1910201144347,
          3113.0136144262433,
          3742.699590977769,
          3398.8664389921832,
          2727.8944742517488
         ],
         "yaxis": "y"
        },
        {
         "marker": {
          "color": "#9467bd"
         },
         "name": "Tonlé VH gain",
         "type": "bar",
         "x": [
          2015,
          2016,
          2017,
          2018,
          2019,
          2020,
          2021,
          2022,
          2023,
          2024
         ],
         "xaxis": "x2",
         "y": [
          1089.9221432512486,
          1532.818965599683,
          2281.095275044546,
          3488.7758809648294,
          4368.6450061010855,
          4277.84640955452,
          4282.839191884039,
          3935.6450715827286,
          3405.437021510559,
          3380.914094072101
         ],
         "yaxis": "y2"
        }
       ],
       "layout": {
        "annotations": [
         {
          "font": {
           "size": 16
          },
          "showarrow": false,
          "text": "Mekong Delta — VH minus VV",
          "x": 0.225,
          "xanchor": "center",
          "xref": "paper",
          "y": 1,
          "yanchor": "bottom",
          "yref": "paper"
         },
         {
          "font": {
           "size": 16
          },
          "showarrow": false,
          "text": "Tonlé Sap — VH minus VV",
          "x": 0.775,
          "xanchor": "center",
          "xref": "paper",
          "y": 1,
          "yanchor": "bottom",
          "yref": "paper"
         }
        ],
        "font": {
         "family": "Arial, sans-serif",
         "size": 12
        },
        "height": 480,
        "hovermode": "x unified",
        "paper_bgcolor": "white",
        "plot_bgcolor": "white",
        "showlegend": true,
        "template": {
         "data": {
          "bar": [
           {
            "error_x": {
             "color": "#2a3f5f"
            },
            "error_y": {
             "color": "#2a3f5f"
            },
            "marker": {
             "line": {
              "color": "#E5ECF6",
              "width": 0.5
             },
             "pattern": {
              "fillmode": "overlay",
              "size": 10,
              "solidity": 0.2
             }
            },
            "type": "bar"
           }
          ],
          "barpolar": [
           {
            "marker": {
             "line": {
              "color": "#E5ECF6",
              "width": 0.5
             },
             "pattern": {
              "fillmode": "overlay",
              "size": 10,
              "solidity": 0.2
             }
            },
            "type": "barpolar"
           }
          ],
          "carpet": [
           {
            "aaxis": {
             "endlinecolor": "#2a3f5f",
             "gridcolor": "white",
             "linecolor": "white",
             "minorgridcolor": "white",
             "startlinecolor": "#2a3f5f"
            },
            "baxis": {
             "endlinecolor": "#2a3f5f",
             "gridcolor": "white",
             "linecolor": "white",
             "minorgridcolor": "white",
             "startlinecolor": "#2a3f5f"
            },
            "type": "carpet"
           }
          ],
          "choropleth": [
           {
            "colorbar": {
             "outlinewidth": 0,
             "ticks": ""
            },
            "type": "choropleth"
           }
          ],
          "contour": [
           {
            "colorbar": {
             "outlinewidth": 0,
             "ticks": ""
            },
            "colorscale": [
             [
              0,
              "#0d0887"
             ],
             [
              0.1111111111111111,
              "#46039f"
             ],
             [
              0.2222222222222222,
              "#7201a8"
             ],
             [
              0.3333333333333333,
              "#9c179e"
             ],
             [
              0.4444444444444444,
              "#bd3786"
             ],
             [
              0.5555555555555556,
              "#d8576b"
             ],
             [
              0.6666666666666666,
              "#ed7953"
             ],
             [
              0.7777777777777778,
              "#fb9f3a"
             ],
             [
              0.8888888888888888,
              "#fdca26"
             ],
             [
              1,
              "#f0f921"
             ]
            ],
            "type": "contour"
           }
          ],
          "contourcarpet": [
           {
            "colorbar": {
             "outlinewidth": 0,
             "ticks": ""
            },
            "type": "contourcarpet"
           }
          ],
          "heatmap": [
           {
            "colorbar": {
             "outlinewidth": 0,
             "ticks": ""
            },
            "colorscale": [
             [
              0,
              "#0d0887"
             ],
             [
              0.1111111111111111,
              "#46039f"
             ],
             [
              0.2222222222222222,
              "#7201a8"
             ],
             [
              0.3333333333333333,
              "#9c179e"
             ],
             [
              0.4444444444444444,
              "#bd3786"
             ],
             [
              0.5555555555555556,
              "#d8576b"
             ],
             [
              0.6666666666666666,
              "#ed7953"
             ],
             [
              0.7777777777777778,
              "#fb9f3a"
             ],
             [
              0.8888888888888888,
              "#fdca26"
             ],
             [
              1,
              "#f0f921"
             ]
            ],
            "type": "heatmap"
           }
          ],
          "heatmapgl": [
           {
            "colorbar": {
             "outlinewidth": 0,
             "ticks": ""
            },
            "colorscale": [
             [
              0,
              "#0d0887"
             ],
             [
              0.1111111111111111,
              "#46039f"
             ],
             [
              0.2222222222222222,
              "#7201a8"
             ],
             [
              0.3333333333333333,
              "#9c179e"
             ],
             [
              0.4444444444444444,
              "#bd3786"
             ],
             [
              0.5555555555555556,
              "#d8576b"
             ],
             [
              0.6666666666666666,
              "#ed7953"
             ],
             [
              0.7777777777777778,
              "#fb9f3a"
             ],
             [
              0.8888888888888888,
              "#fdca26"
             ],
             [
              1,
              "#f0f921"
             ]
            ],
            "type": "heatmapgl"
           }
          ],
          "histogram": [
           {
            "marker": {
             "pattern": {
              "fillmode": "overlay",
              "size": 10,
              "solidity": 0.2
             }
            },
            "type": "histogram"
           }
          ],
          "histogram2d": [
           {
            "colorbar": {
             "outlinewidth": 0,
             "ticks": ""
            },
            "colorscale": [
             [
              0,
              "#0d0887"
             ],
             [
              0.1111111111111111,
              "#46039f"
             ],
             [
              0.2222222222222222,
              "#7201a8"
             ],
             [
              0.3333333333333333,
              "#9c179e"
             ],
             [
              0.4444444444444444,
              "#bd3786"
             ],
             [
              0.5555555555555556,
              "#d8576b"
             ],
             [
              0.6666666666666666,
              "#ed7953"
             ],
             [
              0.7777777777777778,
              "#fb9f3a"
             ],
             [
              0.8888888888888888,
              "#fdca26"
             ],
             [
              1,
              "#f0f921"
             ]
            ],
            "type": "histogram2d"
           }
          ],
          "histogram2dcontour": [
           {
            "colorbar": {
             "outlinewidth": 0,
             "ticks": ""
            },
            "colorscale": [
             [
              0,
              "#0d0887"
             ],
             [
              0.1111111111111111,
              "#46039f"
             ],
             [
              0.2222222222222222,
              "#7201a8"
             ],
             [
              0.3333333333333333,
              "#9c179e"
             ],
             [
              0.4444444444444444,
              "#bd3786"
             ],
             [
              0.5555555555555556,
              "#d8576b"
             ],
             [
              0.6666666666666666,
              "#ed7953"
             ],
             [
              0.7777777777777778,
              "#fb9f3a"
             ],
             [
              0.8888888888888888,
              "#fdca26"
             ],
             [
              1,
              "#f0f921"
             ]
            ],
            "type": "histogram2dcontour"
           }
          ],
          "mesh3d": [
           {
            "colorbar": {
             "outlinewidth": 0,
             "ticks": ""
            },
            "type": "mesh3d"
           }
          ],
          "parcoords": [
           {
            "line": {
             "colorbar": {
              "outlinewidth": 0,
              "ticks": ""
             }
            },
            "type": "parcoords"
           }
          ],
          "pie": [
           {
            "automargin": true,
            "type": "pie"
           }
          ],
          "scatter": [
           {
            "fillpattern": {
             "fillmode": "overlay",
             "size": 10,
             "solidity": 0.2
            },
            "type": "scatter"
           }
          ],
          "scatter3d": [
           {
            "line": {
             "colorbar": {
              "outlinewidth": 0,
              "ticks": ""
             }
            },
            "marker": {
             "colorbar": {
              "outlinewidth": 0,
              "ticks": ""
             }
            },
            "type": "scatter3d"
           }
          ],
          "scattercarpet": [
           {
            "marker": {
             "colorbar": {
              "outlinewidth": 0,
              "ticks": ""
             }
            },
            "type": "scattercarpet"
           }
          ],
          "scattergeo": [
           {
            "marker": {
             "colorbar": {
              "outlinewidth": 0,
              "ticks": ""
             }
            },
            "type": "scattergeo"
           }
          ],
          "scattergl": [
           {
            "marker": {
             "colorbar": {
              "outlinewidth": 0,
              "ticks": ""
             }
            },
            "type": "scattergl"
           }
          ],
          "scattermapbox": [
           {
            "marker": {
             "colorbar": {
              "outlinewidth": 0,
              "ticks": ""
             }
            },
            "type": "scattermapbox"
           }
          ],
          "scatterpolar": [
           {
            "marker": {
             "colorbar": {
              "outlinewidth": 0,
              "ticks": ""
             }
            },
            "type": "scatterpolar"
           }
          ],
          "scatterpolargl": [
           {
            "marker": {
             "colorbar": {
              "outlinewidth": 0,
              "ticks": ""
             }
            },
            "type": "scatterpolargl"
           }
          ],
          "scatterternary": [
           {
            "marker": {
             "colorbar": {
              "outlinewidth": 0,
              "ticks": ""
             }
            },
            "type": "scatterternary"
           }
          ],
          "surface": [
           {
            "colorbar": {
             "outlinewidth": 0,
             "ticks": ""
            },
            "colorscale": [
             [
              0,
              "#0d0887"
             ],
             [
              0.1111111111111111,
              "#46039f"
             ],
             [
              0.2222222222222222,
              "#7201a8"
             ],
             [
              0.3333333333333333,
              "#9c179e"
             ],
             [
              0.4444444444444444,
              "#bd3786"
             ],
             [
              0.5555555555555556,
              "#d8576b"
             ],
             [
              0.6666666666666666,
              "#ed7953"
             ],
             [
              0.7777777777777778,
              "#fb9f3a"
             ],
             [
              0.8888888888888888,
              "#fdca26"
             ],
             [
              1,
              "#f0f921"
             ]
            ],
            "type": "surface"
           }
          ],
          "table": [
           {
            "cells": {
             "fill": {
              "color": "#EBF0F8"
             },
             "line": {
              "color": "white"
             }
            },
            "header": {
             "fill": {
              "color": "#C8D4E3"
             },
             "line": {
              "color": "white"
             }
            },
            "type": "table"
           }
          ]
         },
         "layout": {
          "annotationdefaults": {
           "arrowcolor": "#2a3f5f",
           "arrowhead": 0,
           "arrowwidth": 1
          },
          "autotypenumbers": "strict",
          "coloraxis": {
           "colorbar": {
            "outlinewidth": 0,
            "ticks": ""
           }
          },
          "colorscale": {
           "diverging": [
            [
             0,
             "#8e0152"
            ],
            [
             0.1,
             "#c51b7d"
            ],
            [
             0.2,
             "#de77ae"
            ],
            [
             0.3,
             "#f1b6da"
            ],
            [
             0.4,
             "#fde0ef"
            ],
            [
             0.5,
             "#f7f7f7"
            ],
            [
             0.6,
             "#e6f5d0"
            ],
            [
             0.7,
             "#b8e186"
            ],
            [
             0.8,
             "#7fbc41"
            ],
            [
             0.9,
             "#4d9221"
            ],
            [
             1,
             "#276419"
            ]
           ],
           "sequential": [
            [
             0,
             "#0d0887"
            ],
            [
             0.1111111111111111,
             "#46039f"
            ],
            [
             0.2222222222222222,
             "#7201a8"
            ],
            [
             0.3333333333333333,
             "#9c179e"
            ],
            [
             0.4444444444444444,
             "#bd3786"
            ],
            [
             0.5555555555555556,
             "#d8576b"
            ],
            [
             0.6666666666666666,
             "#ed7953"
            ],
            [
             0.7777777777777778,
             "#fb9f3a"
            ],
            [
             0.8888888888888888,
             "#fdca26"
            ],
            [
             1,
             "#f0f921"
            ]
           ],
           "sequentialminus": [
            [
             0,
             "#0d0887"
            ],
            [
             0.1111111111111111,
             "#46039f"
            ],
            [
             0.2222222222222222,
             "#7201a8"
            ],
            [
             0.3333333333333333,
             "#9c179e"
            ],
            [
             0.4444444444444444,
             "#bd3786"
            ],
            [
             0.5555555555555556,
             "#d8576b"
            ],
            [
             0.6666666666666666,
             "#ed7953"
            ],
            [
             0.7777777777777778,
             "#fb9f3a"
            ],
            [
             0.8888888888888888,
             "#fdca26"
            ],
            [
             1,
             "#f0f921"
            ]
           ]
          },
          "colorway": [
           "#636efa",
           "#EF553B",
           "#00cc96",
           "#ab63fa",
           "#FFA15A",
           "#19d3f3",
           "#FF6692",
           "#B6E880",
           "#FF97FF",
           "#FECB52"
          ],
          "font": {
           "color": "#2a3f5f"
          },
          "geo": {
           "bgcolor": "white",
           "lakecolor": "white",
           "landcolor": "#E5ECF6",
           "showlakes": true,
           "showland": true,
           "subunitcolor": "white"
          },
          "hoverlabel": {
           "align": "left"
          },
          "hovermode": "closest",
          "mapbox": {
           "style": "light"
          },
          "paper_bgcolor": "white",
          "plot_bgcolor": "#E5ECF6",
          "polar": {
           "angularaxis": {
            "gridcolor": "white",
            "linecolor": "white",
            "ticks": ""
           },
           "bgcolor": "#E5ECF6",
           "radialaxis": {
            "gridcolor": "white",
            "linecolor": "white",
            "ticks": ""
           }
          },
          "scene": {
           "xaxis": {
            "backgroundcolor": "#E5ECF6",
            "gridcolor": "white",
            "gridwidth": 2,
            "linecolor": "white",
            "showbackground": true,
            "ticks": "",
            "zerolinecolor": "white"
           },
           "yaxis": {
            "backgroundcolor": "#E5ECF6",
            "gridcolor": "white",
            "gridwidth": 2,
            "linecolor": "white",
            "showbackground": true,
            "ticks": "",
            "zerolinecolor": "white"
           },
           "zaxis": {
            "backgroundcolor": "#E5ECF6",
            "gridcolor": "white",
            "gridwidth": 2,
            "linecolor": "white",
            "showbackground": true,
            "ticks": "",
            "zerolinecolor": "white"
           }
          },
          "shapedefaults": {
           "line": {
            "color": "#2a3f5f"
           }
          },
          "ternary": {
           "aaxis": {
            "gridcolor": "white",
            "linecolor": "white",
            "ticks": ""
           },
           "baxis": {
            "gridcolor": "white",
            "linecolor": "white",
            "ticks": ""
           },
           "bgcolor": "#E5ECF6",
           "caxis": {
            "gridcolor": "white",
            "linecolor": "white",
            "ticks": ""
           }
          },
          "title": {
           "x": 0.05
          },
          "xaxis": {
           "automargin": true,
           "gridcolor": "white",
           "linecolor": "white",
           "ticks": "",
           "title": {
            "standoff": 15
           },
           "zerolinecolor": "white",
           "zerolinewidth": 2
          },
          "yaxis": {
           "automargin": true,
           "gridcolor": "white",
           "linecolor": "white",
           "ticks": "",
           "title": {
            "standoff": 15
           },
           "zerolinecolor": "white",
           "zerolinewidth": 2
          }
         }
        },
        "title": {
         "font": {
          "size": 16
         },
         "text": "Additional Inundation Detected by VH (vs VV)",
         "x": 0.5,
         "xanchor": "center"
        },
        "width": 1200,
        "xaxis": {
         "anchor": "y",
         "autorange": true,
         "domain": [
          0,
          0.45
         ],
         "dtick": 1,
         "gridcolor": "lightgray",
         "linecolor": "black",
         "linewidth": 1,
         "mirror": true,
         "range": [
          2014.5,
          2024.5
         ],
         "showline": true,
         "type": "linear"
        },
        "xaxis2": {
         "anchor": "y2",
         "autorange": true,
         "domain": [
          0.55,
          1
         ],
         "dtick": 1,
         "gridcolor": "lightgray",
         "linecolor": "black",
         "linewidth": 1,
         "mirror": true,
         "range": [
          2014.5,
          2024.5
         ],
         "showline": true,
         "type": "linear"
        },
        "yaxis": {
         "anchor": "x",
         "autorange": true,
         "domain": [
          0,
          1
         ],
         "gridcolor": "lightgray",
         "linecolor": "black",
         "linewidth": 1,
         "mirror": true,
         "range": [
          0,
          5893.536326193655
         ],
         "showline": true,
         "title": {
          "text": "VH-only additional area (km²)"
         },
         "type": "linear"
        },
        "yaxis2": {
         "anchor": "x2",
         "autorange": true,
         "domain": [
          0,
          1
         ],
         "gridcolor": "lightgray",
         "linecolor": "black",
         "linewidth": 1,
         "mirror": true,
         "range": [
          0,
          4598.573690632722
         ],
         "showline": true,
         "title": {
          "text": "VH-only additional area (km²)"
         },
         "type": "linear"
        }
       }
      },
      "text/html": [
       "<div>                            <div id=\"4e2ae45c-793c-44e7-865c-a9f8eb0d68d6\" class=\"plotly-graph-div\" style=\"height:480px; width:1200px;\"></div>            <script type=\"text/javascript\">                require([\"plotly\"], function(Plotly) {                    window.PLOTLYENV=window.PLOTLYENV || {};                                    if (document.getElementById(\"4e2ae45c-793c-44e7-865c-a9f8eb0d68d6\")) {                    Plotly.newPlot(                        \"4e2ae45c-793c-44e7-865c-a9f8eb0d68d6\",                        [{\"marker\":{\"color\":\"#9467bd\"},\"name\":\"Delta VH gain\",\"x\":[2015,2016,2017,2018,2019,2020,2021,2022,2023,2024],\"y\":[5598.859509883972,4125.553478038717,2247.7738118226844,3174.2314304875617,4170.139740577804,3561.1910201144347,3113.0136144262433,3742.699590977769,3398.8664389921832,2727.8944742517488],\"type\":\"bar\",\"xaxis\":\"x\",\"yaxis\":\"y\"},{\"marker\":{\"color\":\"#9467bd\"},\"name\":\"Tonl\\u00e9 VH gain\",\"x\":[2015,2016,2017,2018,2019,2020,2021,2022,2023,2024],\"y\":[1089.9221432512486,1532.818965599683,2281.095275044546,3488.7758809648294,4368.6450061010855,4277.84640955452,4282.839191884039,3935.6450715827286,3405.437021510559,3380.914094072101],\"type\":\"bar\",\"xaxis\":\"x2\",\"yaxis\":\"y2\"}],                        {\"template\":{\"data\":{\"histogram2dcontour\":[{\"type\":\"histogram2dcontour\",\"colorbar\":{\"outlinewidth\":0,\"ticks\":\"\"},\"colorscale\":[[0.0,\"#0d0887\"],[0.1111111111111111,\"#46039f\"],[0.2222222222222222,\"#7201a8\"],[0.3333333333333333,\"#9c179e\"],[0.4444444444444444,\"#bd3786\"],[0.5555555555555556,\"#d8576b\"],[0.6666666666666666,\"#ed7953\"],[0.7777777777777778,\"#fb9f3a\"],[0.8888888888888888,\"#fdca26\"],[1.0,\"#f0f921\"]]}],\"choropleth\":[{\"type\":\"choropleth\",\"colorbar\":{\"outlinewidth\":0,\"ticks\":\"\"}}],\"histogram2d\":[{\"type\":\"histogram2d\",\"colorbar\":{\"outlinewidth\":0,\"ticks\":\"\"},\"colorscale\":[[0.0,\"#0d0887\"],[0.1111111111111111,\"#46039f\"],[0.2222222222222222,\"#7201a8\"],[0.3333333333333333,\"#9c179e\"],[0.4444444444444444,\"#bd3786\"],[0.5555555555555556,\"#d8576b\"],[0.6666666666666666,\"#ed7953\"],[0.7777777777777778,\"#fb9f3a\"],[0.8888888888888888,\"#fdca26\"],[1.0,\"#f0f921\"]]}],\"heatmap\":[{\"type\":\"heatmap\",\"colorbar\":{\"outlinewidth\":0,\"ticks\":\"\"},\"colorscale\":[[0.0,\"#0d0887\"],[0.1111111111111111,\"#46039f\"],[0.2222222222222222,\"#7201a8\"],[0.3333333333333333,\"#9c179e\"],[0.4444444444444444,\"#bd3786\"],[0.5555555555555556,\"#d8576b\"],[0.6666666666666666,\"#ed7953\"],[0.7777777777777778,\"#fb9f3a\"],[0.8888888888888888,\"#fdca26\"],[1.0,\"#f0f921\"]]}],\"heatmapgl\":[{\"type\":\"heatmapgl\",\"colorbar\":{\"outlinewidth\":0,\"ticks\":\"\"},\"colorscale\":[[0.0,\"#0d0887\"],[0.1111111111111111,\"#46039f\"],[0.2222222222222222,\"#7201a8\"],[0.3333333333333333,\"#9c179e\"],[0.4444444444444444,\"#bd3786\"],[0.5555555555555556,\"#d8576b\"],[0.6666666666666666,\"#ed7953\"],[0.7777777777777778,\"#fb9f3a\"],[0.8888888888888888,\"#fdca26\"],[1.0,\"#f0f921\"]]}],\"contourcarpet\":[{\"type\":\"contourcarpet\",\"colorbar\":{\"outlinewidth\":0,\"ticks\":\"\"}}],\"contour\":[{\"type\":\"contour\",\"colorbar\":{\"outlinewidth\":0,\"ticks\":\"\"},\"colorscale\":[[0.0,\"#0d0887\"],[0.1111111111111111,\"#46039f\"],[0.2222222222222222,\"#7201a8\"],[0.3333333333333333,\"#9c179e\"],[0.4444444444444444,\"#bd3786\"],[0.5555555555555556,\"#d8576b\"],[0.6666666666666666,\"#ed7953\"],[0.7777777777777778,\"#fb9f3a\"],[0.8888888888888888,\"#fdca26\"],[1.0,\"#f0f921\"]]}],\"surface\":[{\"type\":\"surface\",\"colorbar\":{\"outlinewidth\":0,\"ticks\":\"\"},\"colorscale\":[[0.0,\"#0d0887\"],[0.1111111111111111,\"#46039f\"],[0.2222222222222222,\"#7201a8\"],[0.3333333333333333,\"#9c179e\"],[0.4444444444444444,\"#bd3786\"],[0.5555555555555556,\"#d8576b\"],[0.6666666666666666,\"#ed7953\"],[0.7777777777777778,\"#fb9f3a\"],[0.8888888888888888,\"#fdca26\"],[1.0,\"#f0f921\"]]}],\"mesh3d\":[{\"type\":\"mesh3d\",\"colorbar\":{\"outlinewidth\":0,\"ticks\":\"\"}}],\"scatter\":[{\"fillpattern\":{\"fillmode\":\"overlay\",\"size\":10,\"solidity\":0.2},\"type\":\"scatter\"}],\"parcoords\":[{\"type\":\"parcoords\",\"line\":{\"colorbar\":{\"outlinewidth\":0,\"ticks\":\"\"}}}],\"scatterpolargl\":[{\"type\":\"scatterpolargl\",\"marker\":{\"colorbar\":{\"outlinewidth\":0,\"ticks\":\"\"}}}],\"bar\":[{\"error_x\":{\"color\":\"#2a3f5f\"},\"error_y\":{\"color\":\"#2a3f5f\"},\"marker\":{\"line\":{\"color\":\"#E5ECF6\",\"width\":0.5},\"pattern\":{\"fillmode\":\"overlay\",\"size\":10,\"solidity\":0.2}},\"type\":\"bar\"}],\"scattergeo\":[{\"type\":\"scattergeo\",\"marker\":{\"colorbar\":{\"outlinewidth\":0,\"ticks\":\"\"}}}],\"scatterpolar\":[{\"type\":\"scatterpolar\",\"marker\":{\"colorbar\":{\"outlinewidth\":0,\"ticks\":\"\"}}}],\"histogram\":[{\"marker\":{\"pattern\":{\"fillmode\":\"overlay\",\"size\":10,\"solidity\":0.2}},\"type\":\"histogram\"}],\"scattergl\":[{\"type\":\"scattergl\",\"marker\":{\"colorbar\":{\"outlinewidth\":0,\"ticks\":\"\"}}}],\"scatter3d\":[{\"type\":\"scatter3d\",\"line\":{\"colorbar\":{\"outlinewidth\":0,\"ticks\":\"\"}},\"marker\":{\"colorbar\":{\"outlinewidth\":0,\"ticks\":\"\"}}}],\"scattermapbox\":[{\"type\":\"scattermapbox\",\"marker\":{\"colorbar\":{\"outlinewidth\":0,\"ticks\":\"\"}}}],\"scatterternary\":[{\"type\":\"scatterternary\",\"marker\":{\"colorbar\":{\"outlinewidth\":0,\"ticks\":\"\"}}}],\"scattercarpet\":[{\"type\":\"scattercarpet\",\"marker\":{\"colorbar\":{\"outlinewidth\":0,\"ticks\":\"\"}}}],\"carpet\":[{\"aaxis\":{\"endlinecolor\":\"#2a3f5f\",\"gridcolor\":\"white\",\"linecolor\":\"white\",\"minorgridcolor\":\"white\",\"startlinecolor\":\"#2a3f5f\"},\"baxis\":{\"endlinecolor\":\"#2a3f5f\",\"gridcolor\":\"white\",\"linecolor\":\"white\",\"minorgridcolor\":\"white\",\"startlinecolor\":\"#2a3f5f\"},\"type\":\"carpet\"}],\"table\":[{\"cells\":{\"fill\":{\"color\":\"#EBF0F8\"},\"line\":{\"color\":\"white\"}},\"header\":{\"fill\":{\"color\":\"#C8D4E3\"},\"line\":{\"color\":\"white\"}},\"type\":\"table\"}],\"barpolar\":[{\"marker\":{\"line\":{\"color\":\"#E5ECF6\",\"width\":0.5},\"pattern\":{\"fillmode\":\"overlay\",\"size\":10,\"solidity\":0.2}},\"type\":\"barpolar\"}],\"pie\":[{\"automargin\":true,\"type\":\"pie\"}]},\"layout\":{\"autotypenumbers\":\"strict\",\"colorway\":[\"#636efa\",\"#EF553B\",\"#00cc96\",\"#ab63fa\",\"#FFA15A\",\"#19d3f3\",\"#FF6692\",\"#B6E880\",\"#FF97FF\",\"#FECB52\"],\"font\":{\"color\":\"#2a3f5f\"},\"hovermode\":\"closest\",\"hoverlabel\":{\"align\":\"left\"},\"paper_bgcolor\":\"white\",\"plot_bgcolor\":\"#E5ECF6\",\"polar\":{\"bgcolor\":\"#E5ECF6\",\"angularaxis\":{\"gridcolor\":\"white\",\"linecolor\":\"white\",\"ticks\":\"\"},\"radialaxis\":{\"gridcolor\":\"white\",\"linecolor\":\"white\",\"ticks\":\"\"}},\"ternary\":{\"bgcolor\":\"#E5ECF6\",\"aaxis\":{\"gridcolor\":\"white\",\"linecolor\":\"white\",\"ticks\":\"\"},\"baxis\":{\"gridcolor\":\"white\",\"linecolor\":\"white\",\"ticks\":\"\"},\"caxis\":{\"gridcolor\":\"white\",\"linecolor\":\"white\",\"ticks\":\"\"}},\"coloraxis\":{\"colorbar\":{\"outlinewidth\":0,\"ticks\":\"\"}},\"colorscale\":{\"sequential\":[[0.0,\"#0d0887\"],[0.1111111111111111,\"#46039f\"],[0.2222222222222222,\"#7201a8\"],[0.3333333333333333,\"#9c179e\"],[0.4444444444444444,\"#bd3786\"],[0.5555555555555556,\"#d8576b\"],[0.6666666666666666,\"#ed7953\"],[0.7777777777777778,\"#fb9f3a\"],[0.8888888888888888,\"#fdca26\"],[1.0,\"#f0f921\"]],\"sequentialminus\":[[0.0,\"#0d0887\"],[0.1111111111111111,\"#46039f\"],[0.2222222222222222,\"#7201a8\"],[0.3333333333333333,\"#9c179e\"],[0.4444444444444444,\"#bd3786\"],[0.5555555555555556,\"#d8576b\"],[0.6666666666666666,\"#ed7953\"],[0.7777777777777778,\"#fb9f3a\"],[0.8888888888888888,\"#fdca26\"],[1.0,\"#f0f921\"]],\"diverging\":[[0,\"#8e0152\"],[0.1,\"#c51b7d\"],[0.2,\"#de77ae\"],[0.3,\"#f1b6da\"],[0.4,\"#fde0ef\"],[0.5,\"#f7f7f7\"],[0.6,\"#e6f5d0\"],[0.7,\"#b8e186\"],[0.8,\"#7fbc41\"],[0.9,\"#4d9221\"],[1,\"#276419\"]]},\"xaxis\":{\"gridcolor\":\"white\",\"linecolor\":\"white\",\"ticks\":\"\",\"title\":{\"standoff\":15},\"zerolinecolor\":\"white\",\"automargin\":true,\"zerolinewidth\":2},\"yaxis\":{\"gridcolor\":\"white\",\"linecolor\":\"white\",\"ticks\":\"\",\"title\":{\"standoff\":15},\"zerolinecolor\":\"white\",\"automargin\":true,\"zerolinewidth\":2},\"scene\":{\"xaxis\":{\"backgroundcolor\":\"#E5ECF6\",\"gridcolor\":\"white\",\"linecolor\":\"white\",\"showbackground\":true,\"ticks\":\"\",\"zerolinecolor\":\"white\",\"gridwidth\":2},\"yaxis\":{\"backgroundcolor\":\"#E5ECF6\",\"gridcolor\":\"white\",\"linecolor\":\"white\",\"showbackground\":true,\"ticks\":\"\",\"zerolinecolor\":\"white\",\"gridwidth\":2},\"zaxis\":{\"backgroundcolor\":\"#E5ECF6\",\"gridcolor\":\"white\",\"linecolor\":\"white\",\"showbackground\":true,\"ticks\":\"\",\"zerolinecolor\":\"white\",\"gridwidth\":2}},\"shapedefaults\":{\"line\":{\"color\":\"#2a3f5f\"}},\"annotationdefaults\":{\"arrowcolor\":\"#2a3f5f\",\"arrowhead\":0,\"arrowwidth\":1},\"geo\":{\"bgcolor\":\"white\",\"landcolor\":\"#E5ECF6\",\"subunitcolor\":\"white\",\"showland\":true,\"showlakes\":true,\"lakecolor\":\"white\"},\"title\":{\"x\":0.05},\"mapbox\":{\"style\":\"light\"}}},\"xaxis\":{\"anchor\":\"y\",\"domain\":[0.0,0.45],\"dtick\":1,\"gridcolor\":\"lightgray\",\"showline\":true,\"linewidth\":1,\"linecolor\":\"black\",\"mirror\":true},\"yaxis\":{\"anchor\":\"x\",\"domain\":[0.0,1.0],\"gridcolor\":\"lightgray\",\"showline\":true,\"linewidth\":1,\"linecolor\":\"black\",\"mirror\":true,\"title\":{\"text\":\"VH-only additional area (km\\u00b2)\"}},\"xaxis2\":{\"anchor\":\"y2\",\"domain\":[0.55,1.0],\"dtick\":1,\"gridcolor\":\"lightgray\",\"showline\":true,\"linewidth\":1,\"linecolor\":\"black\",\"mirror\":true},\"yaxis2\":{\"anchor\":\"x2\",\"domain\":[0.0,1.0],\"gridcolor\":\"lightgray\",\"showline\":true,\"linewidth\":1,\"linecolor\":\"black\",\"mirror\":true,\"title\":{\"text\":\"VH-only additional area (km\\u00b2)\"}},\"annotations\":[{\"font\":{\"size\":16},\"showarrow\":false,\"text\":\"Mekong Delta \\u2014 VH minus VV\",\"x\":0.225,\"xanchor\":\"center\",\"xref\":\"paper\",\"y\":1.0,\"yanchor\":\"bottom\",\"yref\":\"paper\"},{\"font\":{\"size\":16},\"showarrow\":false,\"text\":\"Tonl\\u00e9 Sap \\u2014 VH minus VV\",\"x\":0.775,\"xanchor\":\"center\",\"xref\":\"paper\",\"y\":1.0,\"yanchor\":\"bottom\",\"yref\":\"paper\"}],\"font\":{\"family\":\"Arial, sans-serif\",\"size\":12},\"height\":480,\"width\":1200,\"hovermode\":\"x unified\",\"plot_bgcolor\":\"white\",\"paper_bgcolor\":\"white\",\"showlegend\":true,\"title\":{\"font\":{\"size\":16},\"text\":\"Additional Inundation Detected by VH (vs VV)\",\"x\":0.5,\"xanchor\":\"center\"}},                        {\"responsive\": true}                    ).then(function(){\n",
       "                            \n",
       "var gd = document.getElementById('4e2ae45c-793c-44e7-865c-a9f8eb0d68d6');\n",
       "var x = new MutationObserver(function (mutations, observer) {{\n",
       "        var display = window.getComputedStyle(gd).display;\n",
       "        if (!display || display === 'none') {{\n",
       "            console.log([gd, 'removed!']);\n",
       "            Plotly.purge(gd);\n",
       "            observer.disconnect();\n",
       "        }}\n",
       "}});\n",
       "\n",
       "// Listen for the removal of the full notebook cells\n",
       "var notebookContainer = gd.closest('#notebook-container');\n",
       "if (notebookContainer) {{\n",
       "    x.observe(notebookContainer, {childList: true});\n",
       "}}\n",
       "\n",
       "// Listen for the clearing of the current output cell\n",
       "var outputEl = gd.closest('.output');\n",
       "if (outputEl) {{\n",
       "    x.observe(outputEl, {childList: true});\n",
       "}}\n",
       "\n",
       "                        })                };                });            </script>        </div>"
      ]
     },
     "metadata": {},
     "output_type": "display_data"
    }
   ],
   "source": [
    "# === Cell 10: Figure 4 - VH Gain Analysis ===\n",
    "def fig_vh_gain(df_delta, df_ts):\n",
    "    fig = create_dual_subplot(\"Mekong Delta — VH minus VV\", \"Tonlé Sap — VH minus VV\", height=480, width=1200)\n",
    "    if \"vh_gain_km2\" in df_delta.columns and len(df_delta):\n",
    "        fig.add_trace(go.Bar(x=df_delta[\"year\"], y=df_delta[\"vh_gain_km2\"], name=\"Delta VH gain\",\n",
    "                             marker_color=COLORS[\"gain\"]), row=1, col=1)\n",
    "    else:\n",
    "        fig.add_annotation(text=\"No data\", xref=\"paper\", yref=\"paper\", x=0.5, y=0.5, showarrow=False, row=1, col=1)\n",
    "    if \"vh_gain_km2\" in df_ts.columns and len(df_ts):\n",
    "        fig.add_trace(go.Bar(x=df_ts[\"year\"], y=df_ts[\"vh_gain_km2\"], name=\"Tonlé VH gain\",\n",
    "                             marker_color=COLORS[\"gain\"]), row=1, col=2)\n",
    "    else:\n",
    "        fig.add_annotation(text=\"No data\", xref=\"paper\", yref=\"paper\", x=0.5, y=0.5, showarrow=False, row=1, col=2)\n",
    "    fig.update_yaxes(title_text=\"VH-only additional area (km²)\", row=1, col=1)\n",
    "    fig.update_yaxes(title_text=\"VH-only additional area (km²)\", row=1, col=2)\n",
    "    return finalize_figure(fig, \"Additional Inundation Detected by VH (vs VV)\", ASSETS / \"fig_vh_gain.json\")\n",
    "\n",
    "fig4 = fig_vh_gain(df_delta, df_ts)\n",
    "fig4.show()\n"
   ]
  },
  {
   "cell_type": "code",
   "execution_count": 207,
   "id": "abb133bf-a46b-4838-92c5-96129ff0471e",
   "metadata": {},
   "outputs": [
    {
     "name": "stdout",
     "output_type": "stream",
     "text": [
      "💾 Saved -> C:\\Users\\wakhan\\Desktop\\Project\\2025\\Mekong\\notebooks\\outputs\\web_assets\\manifest.json\n"
     ]
    }
   ],
   "source": [
    "# === Cell 11: Manifest 생성 (Dashboard용) ===\n",
    "manifest = {\n",
    "    \"project\": \"Mekong SAR Flood Insight\",\n",
    "    \"version\": \"1.0.0\",\n",
    "    \"generated_utc\": pd.Timestamp.utcnow().isoformat(),\n",
    "    \"events\": {k:str(v.date()) for k,v in EVENTS.items()},\n",
    "    \"baselines\": BASE,\n",
    "    \"figures\": {\n",
    "        \"annual_flood\":     \"fig_annual_flood.json\",\n",
    "        \"flood_vs_precip\":  \"fig_flood_vs_precip.json\",\n",
    "        \"dry_biaxis\":       \"fig_dry_biaxis.json\",\n",
    "        \"vh_gain\":          \"fig_vh_gain.json\",\n",
    "    }\n",
    "}\n",
    "(ASSETS / \"manifest.json\").write_text(json.dumps(manifest, indent=2), encoding=\"utf-8\")\n",
    "print(\"💾 Saved ->\", ASSETS / \"manifest.json\")\n"
   ]
  },
  {
   "cell_type": "code",
   "execution_count": 208,
   "id": "1a4b04ae-51dc-44e3-a20d-fb8ab889ce8d",
   "metadata": {},
   "outputs": [
    {
     "name": "stdout",
     "output_type": "stream",
     "text": [
      "💾 Saved -> app_streamlit.py\n",
      "\n",
      "Run locally:\n",
      "  streamlit run app_streamlit.py\n"
     ]
    }
   ],
   "source": [
    "# === Cell 12: Streamlit App 생성 ===\n",
    "app_code = r\"\"\"\n",
    "import json\n",
    "from pathlib import Path\n",
    "import plotly.graph_objects as go\n",
    "import streamlit as st\n",
    "\n",
    "ASSETS = Path(\"outputs/web_assets\")\n",
    "\n",
    "st.set_page_config(page_title=\"Mekong SAR Flood Insight\", layout=\"wide\")\n",
    "st.title(\"Mekong SAR Flood Insight — Interactive Dashboard\")\n",
    "\n",
    "# Manifest\n",
    "mf = json.loads((ASSETS / \"manifest.json\").read_text(encoding=\"utf-8\"))\n",
    "st.caption(f\"Generated (UTC): {mf['generated_utc']}\")\n",
    "\n",
    "# Row 1\n",
    "st.subheader(\"Annual Flood Extent (VV vs VH)\")\n",
    "fig1_json = json.loads((ASSETS / mf[\"figures\"][\"annual_flood\"]).read_text(encoding=\"utf-8\"))\n",
    "st.plotly_chart(go.Figure(fig1_json), use_container_width=True)\n",
    "\n",
    "# Row 2\n",
    "col1, col2 = st.columns(2)\n",
    "with col1:\n",
    "    st.subheader(\"Flood vs Precipitation (Aug–Sep)\")\n",
    "    fig2_json = json.loads((ASSETS / mf[\"figures\"][\"flood_vs_precip\"]).read_text(encoding=\"utf-8\"))\n",
    "    st.plotly_chart(go.Figure(fig2_json), use_container_width=True)\n",
    "with col2:\n",
    "    st.subheader(\"Dry-season Water vs Precipitation\")\n",
    "    fig3_json = json.loads((ASSETS / mf[\"figures\"][\"dry_biaxis\"]).read_text(encoding=\"utf-8\"))\n",
    "    st.plotly_chart(go.Figure(fig3_json), use_container_width=True)\n",
    "\n",
    "# Row 3\n",
    "st.subheader(\"Additional Inundation Detected by VH (vs VV)\")\n",
    "try:\n",
    "    fig4_json = json.loads((ASSETS / mf[\"figures\"][\"vh_gain\"]).read_text(encoding=\"utf-8\"))\n",
    "    st.plotly_chart(go.Figure(fig4_json), use_container_width=True)\n",
    "except Exception:\n",
    "    st.info(\"VH gain figure not available.\")\n",
    "\n",
    "st.divider()\n",
    "st.markdown(\"**Data**: COPERNICUS/S1_GRD, CHIRPS, Landsat5 C2.  \"\n",
    "            \"**Method**: SAR thresholding + dual-polarization comparison + Landsat baselines.\")\n",
    "\"\"\"\n",
    "(NB_DIR / \"app_streamlit.py\").write_text(app_code, encoding=\"utf-8\")\n",
    "print(\"💾 Saved -> app_streamlit.py\")\n",
    "print(\"\\nRun locally:\\n  streamlit run app_streamlit.py\")\n"
   ]
  },
  {
   "cell_type": "code",
   "execution_count": null,
   "id": "941c9aa1-b8b8-4389-93ce-07297616573c",
   "metadata": {},
   "outputs": [],
   "source": []
  },
  {
   "cell_type": "code",
   "execution_count": null,
   "id": "7963c648-24b3-4492-915b-c397745858e4",
   "metadata": {},
   "outputs": [],
   "source": []
  }
 ],
 "metadata": {
  "kernelspec": {
   "display_name": "Python [conda env:base] *",
   "language": "python",
   "name": "conda-base-py"
  },
  "language_info": {
   "codemirror_mode": {
    "name": "ipython",
    "version": 3
   },
   "file_extension": ".py",
   "mimetype": "text/x-python",
   "name": "python",
   "nbconvert_exporter": "python",
   "pygments_lexer": "ipython3",
   "version": "3.12.7"
  }
 },
 "nbformat": 4,
 "nbformat_minor": 5
}
