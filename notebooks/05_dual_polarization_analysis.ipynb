{
 "cells": [
  {
   "cell_type": "code",
   "execution_count": 3,
   "id": "8eef5913-f24c-47cd-8704-896d65568736",
   "metadata": {},
   "outputs": [
    {
     "name": "stdout",
     "output_type": "stream",
     "text": [
      "Dual-Polarization Analysis Module\n",
      "======================================================================\n",
      "Objective: Detect flooded vegetation using VV+VH SAR data\n",
      "Period: 2019 wet season\n"
     ]
    }
   ],
   "source": [
    "\"\"\"\n",
    "MekongWatch: Dual-Polarization Analysis (VV + VH)\n",
    "=================================================\n",
    "Detecting flooded vegetation beyond open water surfaces.\n",
    "\n",
    "Key Innovation: Using VV+VH to identify agricultural flooding hidden \n",
    "beneath rice paddies and forest canopy - invisible to VV-only analysis.\n",
    "\n",
    "Author: MekongWatch Team\n",
    "NASA Space Apps Challenge 2025\n",
    "\"\"\"\n",
    "\n",
    "# Cell 1: Setup\n",
    "import ee\n",
    "import geemap\n",
    "import pandas as pd\n",
    "import numpy as np\n",
    "import matplotlib.pyplot as plt\n",
    "import json\n",
    "import os\n",
    "\n",
    "# Initialize Earth Engine\n",
    "try:\n",
    "    ee.Initialize(project='nasa-flood')  # 본인 프로젝트 ID\n",
    "except:\n",
    "    ee.Authenticate()\n",
    "    ee.Initialize(project='nasa-flood')\n",
    "\n",
    "# Study area\n",
    "aoi = ee.Geometry.Rectangle([104.5, 8.5, 106.8, 11.0])\n",
    "\n",
    "print(\"Dual-Polarization Analysis Module\")\n",
    "print(\"=\"*70)\n",
    "print(\"Objective: Detect flooded vegetation using VV+VH SAR data\")\n",
    "print(\"Period: 2019 wet season\")"
   ]
  },
  {
   "cell_type": "code",
   "execution_count": 4,
   "id": "a8f086e9-9088-454d-b5c6-9b1917449cec",
   "metadata": {},
   "outputs": [
    {
     "data": {
      "text/html": [
       "\n",
       "            <style>\n",
       "                .geemap-dark {\n",
       "                    --jp-widgets-color: white;\n",
       "                    --jp-widgets-label-color: white;\n",
       "                    --jp-ui-font-color1: white;\n",
       "                    --jp-layout-color2: #454545;\n",
       "                    background-color: #383838;\n",
       "                }\n",
       "\n",
       "                .geemap-dark .jupyter-button {\n",
       "                    --jp-layout-color3: #383838;\n",
       "                }\n",
       "\n",
       "                .geemap-colab {\n",
       "                    background-color: var(--colab-primary-surface-color, white);\n",
       "                }\n",
       "\n",
       "                .geemap-colab .jupyter-button {\n",
       "                    --jp-layout-color3: var(--colab-primary-surface-color, white);\n",
       "                }\n",
       "            </style>\n",
       "            "
      ],
      "text/plain": [
       "<IPython.core.display.HTML object>"
      ]
     },
     "metadata": {},
     "output_type": "display_data"
    },
    {
     "name": "stdout",
     "output_type": "stream",
     "text": [
      "\n",
      "Collecting dual-polarization Sentinel-1 data...\n",
      "Available images: 41\n",
      "✓ Dual-polarization data prepared\n"
     ]
    }
   ],
   "source": [
    "# Cell 2: Data Collection (VV + VH)\n",
    "print(\"\\nCollecting dual-polarization Sentinel-1 data...\")\n",
    "\n",
    "# 2019년 8월 (홍수 피크)\n",
    "ANALYSIS_DATE = '2019-08-01'\n",
    "ANALYSIS_END = '2019-08-31'\n",
    "\n",
    "s1_dual = ee.ImageCollection('COPERNICUS/S1_GRD') \\\n",
    "    .filterBounds(aoi) \\\n",
    "    .filterDate(ANALYSIS_DATE, ANALYSIS_END) \\\n",
    "    .filter(ee.Filter.listContains('transmitterReceiverPolarisation', 'VV')) \\\n",
    "    .filter(ee.Filter.listContains('transmitterReceiverPolarisation', 'VH')) \\\n",
    "    .filter(ee.Filter.eq('instrumentMode', 'IW')) \\\n",
    "    .select(['VV', 'VH'])\n",
    "\n",
    "# 이미지 개수 확인\n",
    "image_count = s1_dual.size().getInfo()\n",
    "print(f\"Available images: {image_count}\")\n",
    "\n",
    "if image_count == 0:\n",
    "    print(\"⚠ No dual-pol data available for this period\")\n",
    "    print(\"Trying alternative date range...\")\n",
    "    ANALYSIS_DATE = '2019-07-01'\n",
    "    ANALYSIS_END = '2019-09-30'\n",
    "    s1_dual = ee.ImageCollection('COPERNICUS/S1_GRD') \\\n",
    "        .filterBounds(aoi) \\\n",
    "        .filterDate(ANALYSIS_DATE, ANALYSIS_END) \\\n",
    "        .filter(ee.Filter.listContains('transmitterReceiverPolarisation', 'VV')) \\\n",
    "        .filter(ee.Filter.listContains('transmitterReceiverPolarisation', 'VH')) \\\n",
    "        .select(['VV', 'VH'])\n",
    "    image_count = s1_dual.size().getInfo()\n",
    "    print(f\"Extended search: {image_count} images found\")\n",
    "\n",
    "# Median composite (노이즈 감소)\n",
    "s1_composite = s1_dual.median().clip(aoi)\n",
    "\n",
    "vv = s1_composite.select('VV')\n",
    "vh = s1_composite.select('VH')\n",
    "\n",
    "print(\"✓ Dual-polarization data prepared\")"
   ]
  },
  {
   "cell_type": "code",
   "execution_count": 5,
   "id": "23a87e5b-bb28-48f3-9eb6-9d505f52435e",
   "metadata": {},
   "outputs": [
    {
     "data": {
      "text/html": [
       "\n",
       "            <style>\n",
       "                .geemap-dark {\n",
       "                    --jp-widgets-color: white;\n",
       "                    --jp-widgets-label-color: white;\n",
       "                    --jp-ui-font-color1: white;\n",
       "                    --jp-layout-color2: #454545;\n",
       "                    background-color: #383838;\n",
       "                }\n",
       "\n",
       "                .geemap-dark .jupyter-button {\n",
       "                    --jp-layout-color3: #383838;\n",
       "                }\n",
       "\n",
       "                .geemap-colab {\n",
       "                    background-color: var(--colab-primary-surface-color, white);\n",
       "                }\n",
       "\n",
       "                .geemap-colab .jupyter-button {\n",
       "                    --jp-layout-color3: var(--colab-primary-surface-color, white);\n",
       "                }\n",
       "            </style>\n",
       "            "
      ],
      "text/plain": [
       "<IPython.core.display.HTML object>"
      ]
     },
     "metadata": {},
     "output_type": "display_data"
    },
    {
     "name": "stdout",
     "output_type": "stream",
     "text": [
      "\n",
      "Classifying water types...\n",
      "✓ Classification complete\n",
      "\n",
      "Thresholds applied:\n",
      "  - Open Water: VV < -16 dB\n",
      "  - Flooded Vegetation: (VH < -25 dB) AND (-16 < VV < -10 dB)\n",
      "\n",
      "Physical interpretation:\n",
      "  - Open Water: Specular reflection from smooth water surface\n",
      "  - Flooded Vegetation: Double-bounce scattering (water + plant stems)\n"
     ]
    }
   ],
   "source": [
    "# Cell 3: Water Classification (수정됨)\n",
    "print(\"\\nClassifying water types...\")\n",
    "\n",
    "# VV와 VH 밴드 추출\n",
    "vv = s1_composite.select('VV')\n",
    "vh = s1_composite.select('VH')\n",
    "\n",
    "# ====================================================================\n",
    "# 1. Open Water (개방 수면)\n",
    "# ====================================================================\n",
    "# VV < -16 dB: 매우 어두움 (specular reflection)\n",
    "# 물 표면이 평평하여 레이더 신호가 반사되지 않고 빠져나감\n",
    "open_water = vv.lt(-16)\n",
    "\n",
    "# ====================================================================\n",
    "# 2. Flooded Vegetation (침수된 식생 - 논밭)\n",
    "# ====================================================================\n",
    "# VH < -25 dB: Cross-polarization이 낮음 (물 표면)\n",
    "# AND\n",
    "# -16 < VV < -10 dB: VV가 중간 값 (이중 반사)\n",
    "# \n",
    "# 이중 반사 메커니즘:\n",
    "# - 레이더 신호가 물 표면 → 벼 줄기 → 다시 센서로 반사\n",
    "# - VV는 물만 있을 때보다 높지만, 마른 땅보다는 낮음\n",
    "# - VH는 물 표면 때문에 여전히 낮음\n",
    "flooded_veg = vh.lt(-25).And(vv.gt(-16).And(vv.lt(-10)))\n",
    "\n",
    "# ====================================================================\n",
    "# 3. Total Inundation (전체 침수 지역)\n",
    "# ====================================================================\n",
    "total_water = open_water.Or(flooded_veg)\n",
    "\n",
    "# 결과 확인\n",
    "print(\"✓ Classification complete\")\n",
    "print(\"\\nThresholds applied:\")\n",
    "print(\"  - Open Water: VV < -16 dB\")\n",
    "print(\"  - Flooded Vegetation: (VH < -25 dB) AND (-16 < VV < -10 dB)\")\n",
    "print(\"\\nPhysical interpretation:\")\n",
    "print(\"  - Open Water: Specular reflection from smooth water surface\")\n",
    "print(\"  - Flooded Vegetation: Double-bounce scattering (water + plant stems)\")"
   ]
  },
  {
   "cell_type": "code",
   "execution_count": 6,
   "id": "9622031e-f47b-4b05-9753-1995c05f888e",
   "metadata": {},
   "outputs": [
    {
     "data": {
      "text/html": [
       "\n",
       "            <style>\n",
       "                .geemap-dark {\n",
       "                    --jp-widgets-color: white;\n",
       "                    --jp-widgets-label-color: white;\n",
       "                    --jp-ui-font-color1: white;\n",
       "                    --jp-layout-color2: #454545;\n",
       "                    background-color: #383838;\n",
       "                }\n",
       "\n",
       "                .geemap-dark .jupyter-button {\n",
       "                    --jp-layout-color3: #383838;\n",
       "                }\n",
       "\n",
       "                .geemap-colab {\n",
       "                    background-color: var(--colab-primary-surface-color, white);\n",
       "                }\n",
       "\n",
       "                .geemap-colab .jupyter-button {\n",
       "                    --jp-layout-color3: var(--colab-primary-surface-color, white);\n",
       "                }\n",
       "            </style>\n",
       "            "
      ],
      "text/plain": [
       "<IPython.core.display.HTML object>"
      ]
     },
     "metadata": {},
     "output_type": "display_data"
    },
    {
     "name": "stdout",
     "output_type": "stream",
     "text": [
      "\n",
      "Calculating areas...\n",
      "\n",
      "Water Classification Results:\n",
      "  Open Water: 21,592.99 km²\n",
      "  Flooded Vegetation: 6,173.35 km²\n",
      "  Total Inundation: 27,766.34 km²\n",
      "\n",
      "  Hidden Damage: 28.6% additional area\n",
      "  (Invisible to VV-only analysis)\n"
     ]
    }
   ],
   "source": [
    "# Cell 4: Area Calculation\n",
    "def calculate_area(image, geometry):\n",
    "    \"\"\"Calculate area in km²\"\"\"\n",
    "    area = image.multiply(ee.Image.pixelArea()).reduceRegion(\n",
    "        reducer=ee.Reducer.sum(),\n",
    "        geometry=geometry,\n",
    "        scale=30,\n",
    "        maxPixels=1e12,\n",
    "        tileScale=4\n",
    "    )\n",
    "    # VV 또는 VH 중 존재하는 밴드 사용\n",
    "    band_name = image.bandNames().get(0).getInfo()\n",
    "    return ee.Number(area.get(band_name)).divide(1e6).getInfo()\n",
    "\n",
    "print(\"\\nCalculating areas...\")\n",
    "\n",
    "area_open = calculate_area(open_water.selfMask(), aoi)\n",
    "area_veg = calculate_area(flooded_veg.selfMask(), aoi)\n",
    "area_total = calculate_area(total_water.selfMask(), aoi)\n",
    "\n",
    "print(f\"\\nWater Classification Results:\")\n",
    "print(f\"  Open Water: {area_open:,.2f} km²\")\n",
    "print(f\"  Flooded Vegetation: {area_veg:,.2f} km²\")\n",
    "print(f\"  Total Inundation: {area_total:,.2f} km²\")\n",
    "print(f\"\\n  Hidden Damage: {(area_veg / area_open * 100):.1f}% additional area\")\n",
    "print(f\"  (Invisible to VV-only analysis)\")"
   ]
  },
  {
   "cell_type": "code",
   "execution_count": 7,
   "id": "3a164dd7-4ae9-4412-8787-1f04f5cfd3e1",
   "metadata": {},
   "outputs": [
    {
     "data": {
      "text/html": [
       "\n",
       "            <style>\n",
       "                .geemap-dark {\n",
       "                    --jp-widgets-color: white;\n",
       "                    --jp-widgets-label-color: white;\n",
       "                    --jp-ui-font-color1: white;\n",
       "                    --jp-layout-color2: #454545;\n",
       "                    background-color: #383838;\n",
       "                }\n",
       "\n",
       "                .geemap-dark .jupyter-button {\n",
       "                    --jp-layout-color3: #383838;\n",
       "                }\n",
       "\n",
       "                .geemap-colab {\n",
       "                    background-color: var(--colab-primary-surface-color, white);\n",
       "                }\n",
       "\n",
       "                .geemap-colab .jupyter-button {\n",
       "                    --jp-layout-color3: var(--colab-primary-surface-color, white);\n",
       "                }\n",
       "            </style>\n",
       "            "
      ],
      "text/plain": [
       "<IPython.core.display.HTML object>"
      ]
     },
     "metadata": {},
     "output_type": "display_data"
    },
    {
     "name": "stdout",
     "output_type": "stream",
     "text": [
      "\n",
      "Saving results...\n",
      "✓ Saved: ../data/processed/dual_pol_2019.csv\n",
      "✓ Metadata saved\n"
     ]
    }
   ],
   "source": [
    "# Cell 5: Save Results\n",
    "print(\"\\nSaving results...\")\n",
    "\n",
    "# CSV 저장\n",
    "df_dual_pol = pd.DataFrame({\n",
    "    'category': ['Open Water', 'Flooded Vegetation', 'Total Inundation'],\n",
    "    'area_km2': [area_open, area_veg, area_total],\n",
    "    'percentage': [\n",
    "        (area_open / area_total * 100),\n",
    "        (area_veg / area_total * 100),\n",
    "        100.0\n",
    "    ]\n",
    "})\n",
    "\n",
    "output_path = '../data/processed/dual_pol_2019.csv'\n",
    "df_dual_pol.to_csv(output_path, index=False)\n",
    "print(f\"✓ Saved: {output_path}\")\n",
    "\n",
    "# Metadata 저장\n",
    "dual_pol_stats = {\n",
    "    \"analysis_date\": f\"{ANALYSIS_DATE} to {ANALYSIS_END}\",\n",
    "    \"open_water_km2\": float(area_open),\n",
    "    \"flooded_vegetation_km2\": float(area_veg),\n",
    "    \"total_inundation_km2\": float(area_total),\n",
    "    \"hidden_damage_percent\": float(area_veg / area_open * 100),\n",
    "    \"method\": \"VV+VH dual-polarization SAR\",\n",
    "    \"thresholds\": {\n",
    "        \"open_water_vv\": -16,\n",
    "        \"flooded_veg_vv\": -12,\n",
    "        \"flooded_veg_vh\": -18\n",
    "    }\n",
    "}\n",
    "\n",
    "with open('../data/metadata/dual_pol_2019_stats.json', 'w') as f:\n",
    "    json.dump(dual_pol_stats, f, indent=2)\n",
    "\n",
    "print(\"✓ Metadata saved\")"
   ]
  },
  {
   "cell_type": "code",
   "execution_count": 8,
   "id": "a1d1e47c-9310-44b9-b4d4-9d13574630d5",
   "metadata": {},
   "outputs": [
    {
     "data": {
      "text/html": [
       "\n",
       "            <style>\n",
       "                .geemap-dark {\n",
       "                    --jp-widgets-color: white;\n",
       "                    --jp-widgets-label-color: white;\n",
       "                    --jp-ui-font-color1: white;\n",
       "                    --jp-layout-color2: #454545;\n",
       "                    background-color: #383838;\n",
       "                }\n",
       "\n",
       "                .geemap-dark .jupyter-button {\n",
       "                    --jp-layout-color3: #383838;\n",
       "                }\n",
       "\n",
       "                .geemap-colab {\n",
       "                    background-color: var(--colab-primary-surface-color, white);\n",
       "                }\n",
       "\n",
       "                .geemap-colab .jupyter-button {\n",
       "                    --jp-layout-color3: var(--colab-primary-surface-color, white);\n",
       "                }\n",
       "            </style>\n",
       "            "
      ],
      "text/plain": [
       "<IPython.core.display.HTML object>"
      ]
     },
     "metadata": {},
     "output_type": "display_data"
    },
    {
     "name": "stdout",
     "output_type": "stream",
     "text": [
      "\n",
      "Generating comparison chart...\n"
     ]
    },
    {
     "data": {
      "image/png": "[encoded data removed]",
      "text/plain": [
       "<Figure size 1000x600 with 1 Axes>"
      ]
     },
     "metadata": {},
     "output_type": "display_data"
    },
    {
     "name": "stdout",
     "output_type": "stream",
     "text": [
      "✓ Chart saved\n"
     ]
    }
   ],
   "source": [
    "# Cell 6: Visualization - Comparison Chart\n",
    "print(\"\\nGenerating comparison chart...\")\n",
    "\n",
    "fig, ax = plt.subplots(figsize=(10, 6))\n",
    "\n",
    "categories = ['VV-only\\n(Open Water)', 'VV+VH\\n(Total Inundation)']\n",
    "values = [area_open, area_total]\n",
    "colors = ['#2E86AB', '#A23B72']\n",
    "\n",
    "bars = ax.bar(categories, values, color=colors, alpha=0.8, edgecolor='black', linewidth=2)\n",
    "\n",
    "# 값 표시\n",
    "for bar, val in zip(bars, values):\n",
    "    height = bar.get_height()\n",
    "    ax.text(bar.get_x() + bar.get_width()/2., height,\n",
    "            f'{val:,.0f} km²',\n",
    "            ha='center', va='bottom', fontsize=13, fontweight='bold')\n",
    "\n",
    "# Hidden damage 표시\n",
    "ax.annotate('', xy=(1, area_open), xytext=(1, area_total),\n",
    "            arrowprops=dict(arrowstyle='<->', color='red', lw=2))\n",
    "ax.text(1.15, (area_open + area_total) / 2, \n",
    "        f'+{area_veg:,.0f} km²\\n({(area_veg/area_open*100):.0f}% more)',\n",
    "        fontsize=11, color='red', fontweight='bold',\n",
    "        verticalalignment='center')\n",
    "\n",
    "ax.set_ylabel('Inundated Area (km²)', fontsize=13, fontweight='bold')\n",
    "ax.set_title('Dual-Polarization Reveals Hidden Agricultural Flooding', \n",
    "             fontsize=15, fontweight='bold', pad=20)\n",
    "ax.yaxis.set_major_formatter(plt.FuncFormatter(lambda x, p: f'{int(x):,}'))\n",
    "ax.grid(axis='y', alpha=0.3)\n",
    "\n",
    "plt.tight_layout()\n",
    "plt.savefig('../streamlit_app/assets/images/dual_pol_comparison.png', \n",
    "            dpi=300, bbox_inches='tight')\n",
    "plt.show()\n",
    "\n",
    "print(\"✓ Chart saved\")"
   ]
  },
  {
   "cell_type": "code",
   "execution_count": 9,
   "id": "5e09fc22-0860-422a-bfb6-b73a6682f4bd",
   "metadata": {},
   "outputs": [
    {
     "data": {
      "text/html": [
       "\n",
       "            <style>\n",
       "                .geemap-dark {\n",
       "                    --jp-widgets-color: white;\n",
       "                    --jp-widgets-label-color: white;\n",
       "                    --jp-ui-font-color1: white;\n",
       "                    --jp-layout-color2: #454545;\n",
       "                    background-color: #383838;\n",
       "                }\n",
       "\n",
       "                .geemap-dark .jupyter-button {\n",
       "                    --jp-layout-color3: #383838;\n",
       "                }\n",
       "\n",
       "                .geemap-colab {\n",
       "                    background-color: var(--colab-primary-surface-color, white);\n",
       "                }\n",
       "\n",
       "                .geemap-colab .jupyter-button {\n",
       "                    --jp-layout-color3: var(--colab-primary-surface-color, white);\n",
       "                }\n",
       "            </style>\n",
       "            "
      ],
      "text/plain": [
       "<IPython.core.display.HTML object>"
      ]
     },
     "metadata": {},
     "output_type": "display_data"
    },
    {
     "name": "stdout",
     "output_type": "stream",
     "text": [
      "\n",
      "Generating interactive map...\n",
      "✓ Map saved: ../streamlit_app/assets/images/maps\\dual_polarization_2019.html\n"
     ]
    }
   ],
   "source": [
    "# Cell 7: Interactive Map Export\n",
    "print(\"\\nGenerating interactive map...\")\n",
    "\n",
    "output_dir = '../streamlit_app/assets/images/maps'\n",
    "os.makedirs(output_dir, exist_ok=True)\n",
    "\n",
    "Map = geemap.Map(center=[10.0, 105.5], zoom=8, height='600px')\n",
    "Map.add_basemap('SATELLITE')\n",
    "\n",
    "# Layer 1: Open Water (파란색)\n",
    "Map.addLayer(open_water.selfMask(), \n",
    "             {'palette': 'blue'}, \n",
    "             'Open Water (VV < -16dB)')\n",
    "\n",
    "# Layer 2: Flooded Vegetation (노란색)\n",
    "Map.addLayer(flooded_veg.selfMask(), \n",
    "             {'palette': 'yellow', 'opacity': 0.7}, \n",
    "             'Flooded Vegetation (VV+VH)')\n",
    "\n",
    "# Layer 3: AOI\n",
    "Map.addLayer(ee.FeatureCollection([ee.Feature(aoi)]), \n",
    "             {'color': 'red'}, \n",
    "             'Study Area')\n",
    "\n",
    "# HTML 저장\n",
    "html_path = os.path.join(output_dir, 'dual_polarization_2019.html')\n",
    "Map.to_html(html_path)\n",
    "print(f\"✓ Map saved: {html_path}\")"
   ]
  },
  {
   "cell_type": "code",
   "execution_count": 10,
   "id": "c2fd917a-f0de-46c4-8c60-92a25e1c8794",
   "metadata": {},
   "outputs": [
    {
     "data": {
      "text/html": [
       "\n",
       "            <style>\n",
       "                .geemap-dark {\n",
       "                    --jp-widgets-color: white;\n",
       "                    --jp-widgets-label-color: white;\n",
       "                    --jp-ui-font-color1: white;\n",
       "                    --jp-layout-color2: #454545;\n",
       "                    background-color: #383838;\n",
       "                }\n",
       "\n",
       "                .geemap-dark .jupyter-button {\n",
       "                    --jp-layout-color3: #383838;\n",
       "                }\n",
       "\n",
       "                .geemap-colab {\n",
       "                    background-color: var(--colab-primary-surface-color, white);\n",
       "                }\n",
       "\n",
       "                .geemap-colab .jupyter-button {\n",
       "                    --jp-layout-color3: var(--colab-primary-surface-color, white);\n",
       "                }\n",
       "            </style>\n",
       "            "
      ],
      "text/plain": [
       "<IPython.core.display.HTML object>"
      ]
     },
     "metadata": {},
     "output_type": "display_data"
    },
    {
     "data": {
      "image/png": "[encoded data removed]",
      "text/plain": [
       "<Figure size 800x800 with 1 Axes>"
      ]
     },
     "metadata": {},
     "output_type": "display_data"
    },
    {
     "name": "stdout",
     "output_type": "stream",
     "text": [
      "✓ Pie chart saved\n"
     ]
    }
   ],
   "source": [
    "# Cell 8: Pie Chart - Water Type Distribution\n",
    "fig, ax = plt.subplots(figsize=(8, 8))\n",
    "\n",
    "sizes = [area_open, area_veg]\n",
    "labels = [f'Open Water\\n{area_open:,.0f} km²', \n",
    "          f'Flooded Vegetation\\n{area_veg:,.0f} km²']\n",
    "colors = ['#2E86AB', '#F18F01']\n",
    "explode = (0, 0.1)  # Flooded veg 강조\n",
    "\n",
    "ax.pie(sizes, explode=explode, labels=labels, colors=colors,\n",
    "       autopct='%1.1f%%', startangle=90, textprops={'fontsize': 12, 'fontweight': 'bold'})\n",
    "\n",
    "ax.set_title('Water Type Distribution (VV+VH Analysis)', \n",
    "             fontsize=14, fontweight='bold', pad=20)\n",
    "\n",
    "plt.tight_layout()\n",
    "plt.savefig('../streamlit_app/assets/images/dual_pol_pie.png', \n",
    "            dpi=300, bbox_inches='tight')\n",
    "plt.show()\n",
    "\n",
    "print(\"✓ Pie chart saved\")"
   ]
  },
  {
   "cell_type": "code",
   "execution_count": 11,
   "id": "1fd7d24f-a533-4418-8ca3-5bd3645f9c5c",
   "metadata": {},
   "outputs": [
    {
     "data": {
      "text/html": [
       "\n",
       "            <style>\n",
       "                .geemap-dark {\n",
       "                    --jp-widgets-color: white;\n",
       "                    --jp-widgets-label-color: white;\n",
       "                    --jp-ui-font-color1: white;\n",
       "                    --jp-layout-color2: #454545;\n",
       "                    background-color: #383838;\n",
       "                }\n",
       "\n",
       "                .geemap-dark .jupyter-button {\n",
       "                    --jp-layout-color3: #383838;\n",
       "                }\n",
       "\n",
       "                .geemap-colab {\n",
       "                    background-color: var(--colab-primary-surface-color, white);\n",
       "                }\n",
       "\n",
       "                .geemap-colab .jupyter-button {\n",
       "                    --jp-layout-color3: var(--colab-primary-surface-color, white);\n",
       "                }\n",
       "            </style>\n",
       "            "
      ],
      "text/plain": [
       "<IPython.core.display.HTML object>"
      ]
     },
     "metadata": {},
     "output_type": "display_data"
    },
    {
     "name": "stdout",
     "output_type": "stream",
     "text": [
      "\n",
      "======================================================================\n",
      "DUAL-POLARIZATION ANALYSIS COMPLETE\n",
      "======================================================================\n",
      "\n",
      "Key Findings:\n",
      "  • VV-only detection: 21,593 km² (traditional method)\n",
      "  • VV+VH detection: 27,766 km² (our method)\n",
      "  • Hidden agricultural damage: 6,173 km²\n",
      "  • Improvement: 28.6% more area detected\n",
      "\n",
      "Implications:\n",
      "  → Rice paddies and forests beneath flood water remain invisible to VV-only SAR\n",
      "  → Dual-polarization reveals true extent of agricultural impact\n",
      "  → Critical for accurate damage assessment and aid distribution\n",
      "\n",
      "Generated Files:\n",
      "  1. dual_pol_2019.csv\n",
      "  2. dual_pol_2019_stats.json\n",
      "  3. dual_pol_comparison.png\n",
      "  4. dual_pol_pie.png\n",
      "  5. dual_polarization_2019.html\n",
      "\n",
      "✓ Ready for Streamlit integration\n"
     ]
    }
   ],
   "source": [
    "# Cell 9: Summary\n",
    "print(\"\\n\" + \"=\"*70)\n",
    "print(\"DUAL-POLARIZATION ANALYSIS COMPLETE\")\n",
    "print(\"=\"*70)\n",
    "\n",
    "print(f\"\\nKey Findings:\")\n",
    "print(f\"  • VV-only detection: {area_open:,.0f} km² (traditional method)\")\n",
    "print(f\"  • VV+VH detection: {area_total:,.0f} km² (our method)\")\n",
    "print(f\"  • Hidden agricultural damage: {area_veg:,.0f} km²\")\n",
    "print(f\"  • Improvement: {(area_veg/area_open*100):.1f}% more area detected\")\n",
    "\n",
    "print(f\"\\nImplications:\")\n",
    "print(f\"  → Rice paddies and forests beneath flood water remain invisible to VV-only SAR\")\n",
    "print(f\"  → Dual-polarization reveals true extent of agricultural impact\")\n",
    "print(f\"  → Critical for accurate damage assessment and aid distribution\")\n",
    "\n",
    "print(f\"\\nGenerated Files:\")\n",
    "print(f\"  1. dual_pol_2019.csv\")\n",
    "print(f\"  2. dual_pol_2019_stats.json\")\n",
    "print(f\"  3. dual_pol_comparison.png\")\n",
    "print(f\"  4. dual_pol_pie.png\")\n",
    "print(f\"  5. dual_polarization_2019.html\")\n",
    "\n",
    "print(f\"\\n✓ Ready for Streamlit integration\")"
   ]
  }
 ],
 "metadata": {
  "kernelspec": {
   "display_name": "Python [conda env:base] *",
   "language": "python",
   "name": "conda-base-py"
  },
  "language_info": {
   "codemirror_mode": {
    "name": "ipython",
    "version": 3
   },
   "file_extension": ".py",
   "mimetype": "text/x-python",
   "name": "python",
   "nbconvert_exporter": "python",
   "pygments_lexer": "ipython3",
   "version": "3.12.7"
  }
 },
 "nbformat": 4,
 "nbformat_minor": 5
}
