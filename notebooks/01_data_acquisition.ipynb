{
 "cells": [
  {
   "cell_type": "code",
   "execution_count": 2,
   "id": "da4b9401",
   "metadata": {},
   "outputs": [
    {
     "name": "stdout",
     "output_type": "stream",
     "text": [
      "Earth Engine initialized successfully\n",
      "Current time: 2025-10-04 21:20:05.961411\n"
     ]
    }
   ],
   "source": [
    "# Cell 1: Environment Setup\n",
    "import ee\n",
    "import geemap\n",
    "import pandas as pd\n",
    "import numpy as np\n",
    "from datetime import datetime\n",
    "import json\n",
    "\n",
    "# Earth Engine authentication and initialization\n",
    "try:\n",
    "    ee.Initialize(project='nasa-flood')  # Replace with your project ID\n",
    "except Exception as e:\n",
    "    print(\"Authenticating with Earth Engine...\")\n",
    "    ee.Authenticate()\n",
    "    ee.Initialize(project='nasa-flood')\n",
    "\n",
    "print(\"Earth Engine initialized successfully\")\n",
    "print(f\"Current time: {datetime.now()}\")"
   ]
  },
  {
   "cell_type": "code",
   "execution_count": 3,
   "id": "206cfe80",
   "metadata": {},
   "outputs": [
    {
     "data": {
      "text/html": [
       "\n",
       "            <style>\n",
       "                .geemap-dark {\n",
       "                    --jp-widgets-color: white;\n",
       "                    --jp-widgets-label-color: white;\n",
       "                    --jp-ui-font-color1: white;\n",
       "                    --jp-layout-color2: #454545;\n",
       "                    background-color: #383838;\n",
       "                }\n",
       "\n",
       "                .geemap-dark .jupyter-button {\n",
       "                    --jp-layout-color3: #383838;\n",
       "                }\n",
       "\n",
       "                .geemap-colab {\n",
       "                    background-color: var(--colab-primary-surface-color, white);\n",
       "                }\n",
       "\n",
       "                .geemap-colab .jupyter-button {\n",
       "                    --jp-layout-color3: var(--colab-primary-surface-color, white);\n",
       "                }\n",
       "            </style>\n",
       "            "
      ],
      "text/plain": [
       "<IPython.core.display.HTML object>"
      ]
     },
     "metadata": {},
     "output_type": "display_data"
    },
    {
     "name": "stdout",
     "output_type": "stream",
     "text": [
      "Study Area: Vietnam Mekong Delta\n",
      "Total Area: 70,071.10 km²\n"
     ]
    }
   ],
   "source": [
    "# Cell 2: Study Area Definition\n",
    "# Vietnam Mekong Delta (focused on lower delta region)\n",
    "aoi = ee.Geometry.Rectangle([104.5, 8.5, 106.8, 11.0])\n",
    "\n",
    "# Area of Interest metadata\n",
    "aoi_metadata = {\n",
    "    \"name\": \"Vietnam Mekong Delta\",\n",
    "    \"bbox\": [104.5, 8.5, 106.8, 11.0],\n",
    "    \"description\": \"Lower Mekong Delta including Ho Chi Minh City south to Ca Mau Peninsula\",\n",
    "    \"area_km2\": aoi.area().divide(1e6).getInfo(),\n",
    "    \"provinces\": [\"Long An\", \"Tien Giang\", \"Ben Tre\", \"Vinh Long\", \"Tra Vinh\", \n",
    "                  \"Can Tho\", \"Soc Trang\", \"Bac Lieu\", \"Ca Mau\"]\n",
    "}\n",
    "\n",
    "print(f\"Study Area: {aoi_metadata['name']}\")\n",
    "print(f\"Total Area: {aoi_metadata['area_km2']:,.2f} km²\")\n",
    "\n",
    "# Save metadata\n",
    "with open('../data/metadata/aoi_metadata.json', 'w') as f:\n",
    "    json.dump(aoi_metadata, f, indent=2)\n"
   ]
  },
  {
   "cell_type": "code",
   "execution_count": 4,
   "id": "e95192ee",
   "metadata": {},
   "outputs": [
    {
     "data": {
      "text/html": [
       "\n",
       "            <style>\n",
       "                .geemap-dark {\n",
       "                    --jp-widgets-color: white;\n",
       "                    --jp-widgets-label-color: white;\n",
       "                    --jp-ui-font-color1: white;\n",
       "                    --jp-layout-color2: #454545;\n",
       "                    background-color: #383838;\n",
       "                }\n",
       "\n",
       "                .geemap-dark .jupyter-button {\n",
       "                    --jp-layout-color3: #383838;\n",
       "                }\n",
       "\n",
       "                .geemap-colab {\n",
       "                    background-color: var(--colab-primary-surface-color, white);\n",
       "                }\n",
       "\n",
       "                .geemap-colab .jupyter-button {\n",
       "                    --jp-layout-color3: var(--colab-primary-surface-color, white);\n",
       "                }\n",
       "            </style>\n",
       "            "
      ],
      "text/plain": [
       "<IPython.core.display.HTML object>"
      ]
     },
     "metadata": {},
     "output_type": "display_data"
    },
    {
     "data": {
      "application/vnd.jupyter.widget-view+json": {
       "model_id": "57e64bfadb2341d48fede7ca8250527b",
       "version_major": 2,
       "version_minor": 0
      },
      "text/plain": [
       "Map(center=[10.0, 105.5], controls=(WidgetControl(options=['position', 'transparent_bg'], position='topright',…"
      ]
     },
     "metadata": {},
     "output_type": "display_data"
    }
   ],
   "source": [
    "# Cell 3: Visualization of Study Area\n",
    "Map = geemap.Map(center=[10.0, 105.5], zoom=8)\n",
    "Map.addLayer(aoi, {'color': 'red'}, 'Study Area: Vietnam Mekong Delta')\n",
    "Map.add_basemap('HYBRID')\n",
    "Map\n"
   ]
  },
  {
   "cell_type": "code",
   "execution_count": 5,
   "id": "227ddce3",
   "metadata": {},
   "outputs": [
    {
     "data": {
      "text/html": [
       "\n",
       "            <style>\n",
       "                .geemap-dark {\n",
       "                    --jp-widgets-color: white;\n",
       "                    --jp-widgets-label-color: white;\n",
       "                    --jp-ui-font-color1: white;\n",
       "                    --jp-layout-color2: #454545;\n",
       "                    background-color: #383838;\n",
       "                }\n",
       "\n",
       "                .geemap-dark .jupyter-button {\n",
       "                    --jp-layout-color3: #383838;\n",
       "                }\n",
       "\n",
       "                .geemap-colab {\n",
       "                    background-color: var(--colab-primary-surface-color, white);\n",
       "                }\n",
       "\n",
       "                .geemap-colab .jupyter-button {\n",
       "                    --jp-layout-color3: var(--colab-primary-surface-color, white);\n",
       "                }\n",
       "            </style>\n",
       "            "
      ],
      "text/plain": [
       "<IPython.core.display.HTML object>"
      ]
     },
     "metadata": {},
     "output_type": "display_data"
    },
    {
     "name": "stdout",
     "output_type": "stream",
     "text": [
      "Collecting Landsat 5 baseline data (2005-2006)...\n",
      "Landsat 5 baseline composites created\n"
     ]
    }
   ],
   "source": [
    "# Cell 4: Baseline Water Mapping (2005-2006)\n",
    "# Using Landsat 5 for pre-dam baseline\n",
    "print(\"Collecting Landsat 5 baseline data (2005-2006)...\")\n",
    "\n",
    "def mask_l5_clouds(image):\n",
    "    \"\"\"Apply cloud mask for Landsat 5 Collection 2\"\"\"\n",
    "    qa = image.select('QA_PIXEL')\n",
    "    cloud_shadow = 1 << 4\n",
    "    clouds = 1 << 3\n",
    "    mask = qa.bitwiseAnd(cloud_shadow).eq(0).And(qa.bitwiseAnd(clouds).eq(0))\n",
    "    return image.updateMask(mask)\n",
    "\n",
    "def scale_l5_bands(image):\n",
    "    \"\"\"Scale Landsat 5 Collection 2 optical and thermal bands\"\"\"\n",
    "    optical = image.select('SR_B.').multiply(0.0000275).add(-0.2)\n",
    "    thermal = image.select('ST_B6').multiply(0.00341802).add(149.0)\n",
    "    return image.addBands(optical, None, True).addBands(thermal, None, True)\n",
    "\n",
    "# Dry season baseline (November 2005 - April 2006)\n",
    "landsat_dry = ee.ImageCollection('LANDSAT/LT05/C02/T1_L2') \\\n",
    "    .filterBounds(aoi) \\\n",
    "    .filterDate('2005-11-01', '2006-04-30') \\\n",
    "    .map(mask_l5_clouds) \\\n",
    "    .map(scale_l5_bands) \\\n",
    "    .median() \\\n",
    "    .clip(aoi)\n",
    "\n",
    "# Wet season baseline (May - October 2006)\n",
    "landsat_wet = ee.ImageCollection('LANDSAT/LT05/C02/T1_L2') \\\n",
    "    .filterBounds(aoi) \\\n",
    "    .filterDate('2006-05-01', '2006-10-31') \\\n",
    "    .map(mask_l5_clouds) \\\n",
    "    .map(scale_l5_bands) \\\n",
    "    .median() \\\n",
    "    .clip(aoi)\n",
    "\n",
    "print(\"Landsat 5 baseline composites created\")\n",
    "\n",
    "# Visualization parameters\n",
    "vis_params_landsat = {\n",
    "    'bands': ['SR_B3', 'SR_B2', 'SR_B1'],\n",
    "    'min': 0.0,\n",
    "    'max': 0.3,\n",
    "    'gamma': 1.4\n",
    "}\n"
   ]
  },
  {
   "cell_type": "code",
   "execution_count": 6,
   "id": "e34d7771",
   "metadata": {},
   "outputs": [
    {
     "data": {
      "text/html": [
       "\n",
       "            <style>\n",
       "                .geemap-dark {\n",
       "                    --jp-widgets-color: white;\n",
       "                    --jp-widgets-label-color: white;\n",
       "                    --jp-ui-font-color1: white;\n",
       "                    --jp-layout-color2: #454545;\n",
       "                    background-color: #383838;\n",
       "                }\n",
       "\n",
       "                .geemap-dark .jupyter-button {\n",
       "                    --jp-layout-color3: #383838;\n",
       "                }\n",
       "\n",
       "                .geemap-colab {\n",
       "                    background-color: var(--colab-primary-surface-color, white);\n",
       "                }\n",
       "\n",
       "                .geemap-colab .jupyter-button {\n",
       "                    --jp-layout-color3: var(--colab-primary-surface-color, white);\n",
       "                }\n",
       "            </style>\n",
       "            "
      ],
      "text/plain": [
       "<IPython.core.display.HTML object>"
      ]
     },
     "metadata": {},
     "output_type": "display_data"
    },
    {
     "name": "stdout",
     "output_type": "stream",
     "text": [
      "Loading JRC Global Surface Water dataset...\n",
      "Permanent Water: 4,453.64 km²\n",
      "Seasonal Water: 5,184.13 km²\n"
     ]
    }
   ],
   "source": [
    "# Cell 5: JRC Global Surface Water Baseline\n",
    "print(\"Loading JRC Global Surface Water dataset...\")\n",
    "\n",
    "jrc = ee.Image('JRC/GSW1_4/GlobalSurfaceWater').clip(aoi)\n",
    "\n",
    "# Extract key bands\n",
    "jrc_seasonality = jrc.select('seasonality')\n",
    "jrc_occurrence = jrc.select('occurrence')\n",
    "jrc_change = jrc.select('change_abs')\n",
    "\n",
    "# Classify water permanence\n",
    "# seasonality: 1=permanent, 2-3=seasonal, 4-12=ephemeral\n",
    "permanent_water = jrc_seasonality.eq(1)\n",
    "seasonal_water = jrc_seasonality.gte(2).And(jrc_seasonality.lte(3))\n",
    "\n",
    "# Calculate baseline water areas\n",
    "permanent_area = permanent_water.multiply(ee.Image.pixelArea()) \\\n",
    "    .reduceRegion(\n",
    "        reducer=ee.Reducer.sum(),\n",
    "        geometry=aoi,\n",
    "        scale=30,\n",
    "        maxPixels=1e12\n",
    "    )\n",
    "\n",
    "seasonal_area = seasonal_water.multiply(ee.Image.pixelArea()) \\\n",
    "    .reduceRegion(\n",
    "        reducer=ee.Reducer.sum(),\n",
    "        geometry=aoi,\n",
    "        scale=30,\n",
    "        maxPixels=1e12\n",
    "    )\n",
    "\n",
    "baseline_water = {\n",
    "    \"permanent_water_km2\": ee.Number(permanent_area.get('seasonality')).divide(1e6).getInfo(),\n",
    "    \"seasonal_water_km2\": ee.Number(seasonal_area.get('seasonality')).divide(1e6).getInfo(),\n",
    "    \"data_period\": \"1984-2021\",\n",
    "    \"source\": \"JRC Global Surface Water v1.4\"\n",
    "}\n",
    "\n",
    "print(f\"Permanent Water: {baseline_water['permanent_water_km2']:,.2f} km²\")\n",
    "print(f\"Seasonal Water: {baseline_water['seasonal_water_km2']:,.2f} km²\")\n",
    "\n",
    "# Save baseline metadata\n",
    "with open('../data/metadata/baseline_water.json', 'w') as f:\n",
    "    json.dump(baseline_water, f, indent=2)"
   ]
  },
  {
   "cell_type": "code",
   "execution_count": 7,
   "id": "8f214708",
   "metadata": {},
   "outputs": [
    {
     "data": {
      "text/html": [
       "\n",
       "            <style>\n",
       "                .geemap-dark {\n",
       "                    --jp-widgets-color: white;\n",
       "                    --jp-widgets-label-color: white;\n",
       "                    --jp-ui-font-color1: white;\n",
       "                    --jp-layout-color2: #454545;\n",
       "                    background-color: #383838;\n",
       "                }\n",
       "\n",
       "                .geemap-dark .jupyter-button {\n",
       "                    --jp-layout-color3: #383838;\n",
       "                }\n",
       "\n",
       "                .geemap-colab {\n",
       "                    background-color: var(--colab-primary-surface-color, white);\n",
       "                }\n",
       "\n",
       "                .geemap-colab .jupyter-button {\n",
       "                    --jp-layout-color3: var(--colab-primary-surface-color, white);\n",
       "                }\n",
       "            </style>\n",
       "            "
      ],
      "text/plain": [
       "<IPython.core.display.HTML object>"
      ]
     },
     "metadata": {},
     "output_type": "display_data"
    },
    {
     "data": {
      "application/vnd.jupyter.widget-view+json": {
       "model_id": "6d8a01dd6d7843198b62e7a2736daf56",
       "version_major": 2,
       "version_minor": 0
      },
      "text/plain": [
       "Map(center=[10.0, 105.5], controls=(WidgetControl(options=['position', 'transparent_bg'], position='topright',…"
      ]
     },
     "metadata": {},
     "output_type": "display_data"
    }
   ],
   "source": [
    "# Cell 6: Visualize Baseline Conditions\n",
    "Map2 = geemap.Map(center=[10.0, 105.5], zoom=8)\n",
    "Map2.addLayer(landsat_dry, vis_params_landsat, 'Landsat 5 - Dry Season (2005-06)', False)\n",
    "Map2.addLayer(landsat_wet, vis_params_landsat, 'Landsat 5 - Wet Season (2006)', False)\n",
    "Map2.addLayer(permanent_water.selfMask(), {'palette': 'darkblue'}, 'Permanent Water (JRC)')\n",
    "Map2.addLayer(seasonal_water.selfMask(), {'palette': 'lightblue'}, 'Seasonal Water (JRC)', False)\n",
    "Map2.addLayerControl()\n",
    "Map2"
   ]
  },
  {
   "cell_type": "code",
   "execution_count": 8,
   "id": "d258d95b",
   "metadata": {},
   "outputs": [
    {
     "data": {
      "text/html": [
       "\n",
       "            <style>\n",
       "                .geemap-dark {\n",
       "                    --jp-widgets-color: white;\n",
       "                    --jp-widgets-label-color: white;\n",
       "                    --jp-ui-font-color1: white;\n",
       "                    --jp-layout-color2: #454545;\n",
       "                    background-color: #383838;\n",
       "                }\n",
       "\n",
       "                .geemap-dark .jupyter-button {\n",
       "                    --jp-layout-color3: #383838;\n",
       "                }\n",
       "\n",
       "                .geemap-colab {\n",
       "                    background-color: var(--colab-primary-surface-color, white);\n",
       "                }\n",
       "\n",
       "                .geemap-colab .jupyter-button {\n",
       "                    --jp-layout-color3: var(--colab-primary-surface-color, white);\n",
       "                }\n",
       "            </style>\n",
       "            "
      ],
      "text/plain": [
       "<IPython.core.display.HTML object>"
      ]
     },
     "metadata": {},
     "output_type": "display_data"
    },
    {
     "name": "stdout",
     "output_type": "stream",
     "text": [
      "Checking Sentinel-1 SAR data availability...\n",
      "Total Sentinel-1 images available (2015-2024): 3563\n",
      "  2015: 91 images\n",
      "  2016: 185 images\n",
      "  2017: 400 images\n",
      "  2018: 475 images\n",
      "  2019: 504 images\n",
      "  2020: 485 images\n",
      "  2021: 439 images\n",
      "  2022: 346 images\n",
      "  2023: 310 images\n",
      "  2024: 318 images\n"
     ]
    }
   ],
   "source": [
    "# Cell 7: Sentinel-1 Data Availability Check\n",
    "print(\"Checking Sentinel-1 SAR data availability...\")\n",
    "\n",
    "# Sentinel-1 became operational in 2014, we analyze from 2015\n",
    "s1_test = ee.ImageCollection('COPERNICUS/S1_GRD') \\\n",
    "    .filterBounds(aoi) \\\n",
    "    .filterDate('2015-01-01', '2024-12-31') \\\n",
    "    .filter(ee.Filter.listContains('transmitterReceiverPolarisation', 'VV')) \\\n",
    "    .filter(ee.Filter.eq('instrumentMode', 'IW'))\n",
    "\n",
    "s1_count = s1_test.size().getInfo()\n",
    "print(f\"Total Sentinel-1 images available (2015-2024): {s1_count}\")\n",
    "\n",
    "# Check data availability by year\n",
    "s1_availability = []\n",
    "for year in range(2015, 2025):\n",
    "    count = ee.ImageCollection('COPERNICUS/S1_GRD') \\\n",
    "        .filterBounds(aoi) \\\n",
    "        .filterDate(f'{year}-01-01', f'{year}-12-31') \\\n",
    "        .filter(ee.Filter.listContains('transmitterReceiverPolarisation', 'VV')) \\\n",
    "        .size().getInfo()\n",
    "    \n",
    "    s1_availability.append({'year': year, 'image_count': count})\n",
    "    print(f\"  {year}: {count} images\")\n",
    "\n",
    "# Save availability data\n",
    "pd.DataFrame(s1_availability).to_csv('../data/metadata/s1_availability.csv', index=False)"
   ]
  },
  {
   "cell_type": "code",
   "execution_count": 9,
   "id": "c8dd9365",
   "metadata": {},
   "outputs": [
    {
     "data": {
      "text/html": [
       "\n",
       "            <style>\n",
       "                .geemap-dark {\n",
       "                    --jp-widgets-color: white;\n",
       "                    --jp-widgets-label-color: white;\n",
       "                    --jp-ui-font-color1: white;\n",
       "                    --jp-layout-color2: #454545;\n",
       "                    background-color: #383838;\n",
       "                }\n",
       "\n",
       "                .geemap-dark .jupyter-button {\n",
       "                    --jp-layout-color3: #383838;\n",
       "                }\n",
       "\n",
       "                .geemap-colab {\n",
       "                    background-color: var(--colab-primary-surface-color, white);\n",
       "                }\n",
       "\n",
       "                .geemap-colab .jupyter-button {\n",
       "                    --jp-layout-color3: var(--colab-primary-surface-color, white);\n",
       "                }\n",
       "            </style>\n",
       "            "
      ],
      "text/plain": [
       "<IPython.core.display.HTML object>"
      ]
     },
     "metadata": {},
     "output_type": "display_data"
    },
    {
     "name": "stdout",
     "output_type": "stream",
     "text": [
      "Checking CHIRPS precipitation data availability...\n",
      "Total CHIRPS daily images available: 3652\n",
      "Test precipitation (Aug-Sep 2015): 475.27 mm\n"
     ]
    }
   ],
   "source": [
    "# Cell 8: CHIRPS Precipitation Data Check\n",
    "print(\"Checking CHIRPS precipitation data availability...\")\n",
    "\n",
    "chirps_test = ee.ImageCollection('UCSB-CHG/CHIRPS/DAILY') \\\n",
    "    .filterBounds(aoi) \\\n",
    "    .filterDate('2015-01-01', '2024-12-31')\n",
    "\n",
    "chirps_count = chirps_test.size().getInfo()\n",
    "print(f\"Total CHIRPS daily images available: {chirps_count}\")\n",
    "\n",
    "# Test precipitation extraction for one year\n",
    "test_precip = ee.ImageCollection('UCSB-CHG/CHIRPS/DAILY') \\\n",
    "    .filterBounds(aoi) \\\n",
    "    .filterDate('2015-08-01', '2015-09-30') \\\n",
    "    .sum()\n",
    "\n",
    "test_precip_value = test_precip.reduceRegion(\n",
    "    reducer=ee.Reducer.mean(),\n",
    "    geometry=aoi,\n",
    "    scale=5000,\n",
    "    maxPixels=1e12\n",
    ").get('precipitation').getInfo()\n",
    "\n",
    "print(f\"Test precipitation (Aug-Sep 2015): {test_precip_value:.2f} mm\")"
   ]
  },
  {
   "cell_type": "code",
   "execution_count": 10,
   "id": "f7738b37",
   "metadata": {},
   "outputs": [
    {
     "data": {
      "text/html": [
       "\n",
       "            <style>\n",
       "                .geemap-dark {\n",
       "                    --jp-widgets-color: white;\n",
       "                    --jp-widgets-label-color: white;\n",
       "                    --jp-ui-font-color1: white;\n",
       "                    --jp-layout-color2: #454545;\n",
       "                    background-color: #383838;\n",
       "                }\n",
       "\n",
       "                .geemap-dark .jupyter-button {\n",
       "                    --jp-layout-color3: #383838;\n",
       "                }\n",
       "\n",
       "                .geemap-colab {\n",
       "                    background-color: var(--colab-primary-surface-color, white);\n",
       "                }\n",
       "\n",
       "                .geemap-colab .jupyter-button {\n",
       "                    --jp-layout-color3: var(--colab-primary-surface-color, white);\n",
       "                }\n",
       "            </style>\n",
       "            "
      ],
      "text/plain": [
       "<IPython.core.display.HTML object>"
      ]
     },
     "metadata": {},
     "output_type": "display_data"
    },
    {
     "name": "stdout",
     "output_type": "stream",
     "text": [
      "\n",
      "============================================================\n",
      "DATA ACQUISITION SUMMARY\n",
      "============================================================\n",
      "Study Area: Vietnam Mekong Delta\n",
      "Area: 70,071.10 km²\n",
      "\n",
      "Baseline Period: 2005-2006\n",
      "  - Permanent Water: 4,453.64 km²\n",
      "  - Seasonal Water: 5,184.13 km²\n",
      "\n",
      "Analysis Period: 2015-2024\n",
      "  - Sentinel-1 images: 3563\n",
      "  - CHIRPS daily images: 3652\n",
      "\n",
      "Data sources ready for flood analysis.\n",
      "============================================================\n"
     ]
    }
   ],
   "source": [
    "# Cell 9: Data Collection Summary\n",
    "print(\"\\n\" + \"=\"*60)\n",
    "print(\"DATA ACQUISITION SUMMARY\")\n",
    "print(\"=\"*60)\n",
    "print(f\"Study Area: {aoi_metadata['name']}\")\n",
    "print(f\"Area: {aoi_metadata['area_km2']:,.2f} km²\")\n",
    "print(f\"\\nBaseline Period: 2005-2006\")\n",
    "print(f\"  - Permanent Water: {baseline_water['permanent_water_km2']:,.2f} km²\")\n",
    "print(f\"  - Seasonal Water: {baseline_water['seasonal_water_km2']:,.2f} km²\")\n",
    "print(f\"\\nAnalysis Period: 2015-2024\")\n",
    "print(f\"  - Sentinel-1 images: {s1_count}\")\n",
    "print(f\"  - CHIRPS daily images: {chirps_count}\")\n",
    "print(\"\\nData sources ready for flood analysis.\")\n",
    "print(\"=\"*60)"
   ]
  },
  {
   "cell_type": "code",
   "execution_count": 11,
   "id": "ba031b38",
   "metadata": {},
   "outputs": [
    {
     "data": {
      "text/html": [
       "\n",
       "            <style>\n",
       "                .geemap-dark {\n",
       "                    --jp-widgets-color: white;\n",
       "                    --jp-widgets-label-color: white;\n",
       "                    --jp-ui-font-color1: white;\n",
       "                    --jp-layout-color2: #454545;\n",
       "                    background-color: #383838;\n",
       "                }\n",
       "\n",
       "                .geemap-dark .jupyter-button {\n",
       "                    --jp-layout-color3: #383838;\n",
       "                }\n",
       "\n",
       "                .geemap-colab {\n",
       "                    background-color: var(--colab-primary-surface-color, white);\n",
       "                }\n",
       "\n",
       "                .geemap-colab .jupyter-button {\n",
       "                    --jp-layout-color3: var(--colab-primary-surface-color, white);\n",
       "                }\n",
       "            </style>\n",
       "            "
      ],
      "text/plain": [
       "<IPython.core.display.HTML object>"
      ]
     },
     "metadata": {},
     "output_type": "display_data"
    },
    {
     "name": "stdout",
     "output_type": "stream",
     "text": [
      "\n",
      "✓ Data acquisition complete. Proceed to notebook 02_flood_analysis.ipynb\n"
     ]
    }
   ],
   "source": [
    "# Cell 10: Export reference data (optional)\n",
    "# Uncomment to export baseline water mask as GeoTIFF\n",
    "\"\"\"\n",
    "task = ee.batch.Export.image.toDrive(\n",
    "    image=permanent_water.toByte(),\n",
    "    description='mekong_permanent_water_baseline',\n",
    "    folder='MekongWatch',\n",
    "    region=aoi,\n",
    "    scale=30,\n",
    "    maxPixels=1e12\n",
    ")\n",
    "task.start()\n",
    "print(\"Export task started. Check Google Drive 'MekongWatch' folder.\")\n",
    "\"\"\"\n",
    "\n",
    "print(\"\\n✓ Data acquisition complete. Proceed to notebook 02_flood_analysis.ipynb\")"
   ]
  }
 ],
 "metadata": {
  "kernelspec": {
   "display_name": "Python [conda env:base] *",
   "language": "python",
   "name": "conda-base-py"
  },
  "language_info": {
   "codemirror_mode": {
    "name": "ipython",
    "version": 3
   },
   "file_extension": ".py",
   "mimetype": "text/x-python",
   "name": "python",
   "nbconvert_exporter": "python",
   "pygments_lexer": "ipython3",
   "version": "3.12.7"
  }
 },
 "nbformat": 4,
 "nbformat_minor": 5
}
