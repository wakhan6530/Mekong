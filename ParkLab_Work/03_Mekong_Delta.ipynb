{
 "cells": [
  {
   "cell_type": "markdown",
   "metadata": {
    "colab_type": "text",
    "id": "view-in-github"
   },
   "source": [
    "<a href=\"https://colab.research.google.com/github/jjangmo91/ParkLab/blob/main/project/2025%20NASA%20Space%20Apps%20Challenge/03_Mekong_Delta.ipynb\" target=\"_parent\"><img src=\"https://colab.research.google.com/assets/colab-badge.svg\" alt=\"Open In Colab\"/></a>"
   ]
  },
  {
   "cell_type": "code",
   "execution_count": null,
   "metadata": {
    "id": "0NofiksZgzAs"
   },
   "outputs": [],
   "source": [
    "import ee\n",
    "import geemap\n",
    "\n",
    "# Earth Engine 인증\n",
    "ee.Authenticate()\n",
    "# Earth Engine 초기화\n",
    "ee.Initialize(project='ee-jjangmo91') # 본인 계정"
   ]
  },
  {
   "cell_type": "code",
   "execution_count": null,
   "metadata": {
    "id": "r1NZUtg9hAJo"
   },
   "outputs": [],
   "source": [
    "# ==============================================================================\n",
    "# 1단계: 분석 파라미터 설정\n",
    "# ==============================================================================\n",
    "# 분석 지역: 베트남 메콩 델타 최하류 (벤째(Ben Tre) 성 주변)\n",
    "aoi_delta = ee.Geometry.Rectangle([105.5, 9.7, 107.0, 10.5])\n",
    "\n",
    "# 분석 기간 설정\n",
    "baseline_start = '2017-12-01'\n",
    "baseline_end = '2018-03-31'\n",
    "drought_start = '2019-12-01'\n",
    "drought_end = '2020-03-31'\n",
    "\n",
    "# ==============================================================================\n",
    "# 2단계: 평균 SAR 이미지 생성 함수\n",
    "# ==============================================================================\n",
    "def create_mean_composite(start_date, end_date, aoi):\n",
    "    \"\"\"지정된 기간의 평균 Sentinel-1 이미지를 생성하는 함수\"\"\"\n",
    "    s1_collection = ee.ImageCollection('COPERNICUS/S1_GRD') \\\n",
    "        .filterBounds(aoi) \\\n",
    "        .filterDate(start_date, end_date) \\\n",
    "        .filter(ee.Filter.eq('instrumentMode', 'IW'))\n",
    "\n",
    "    # VV와 VH 밴드를 모두 포함하는 평균 이미지 생성\n",
    "    mean_image = s1_collection.select(['VV', 'VH']).mean().clip(aoi)\n",
    "    return mean_image\n",
    "\n",
    "# ==============================================================================\n",
    "# 3단계: '변화 탐지' 분석 실행\n",
    "# ==============================================================================\n",
    "print(\"메콩 델타 '변화 탐지' 분석을 시작합니다...\")\n",
    "\n",
    "# 평년 및 가뭄 기간의 평균 이미지 생성\n",
    "print(\"--> 평년 및 가뭄 기간의 평균 이미지를 생성합니다...\")\n",
    "baseline_image = create_mean_composite(baseline_start, baseline_end, aoi_delta)\n",
    "drought_image = create_mean_composite(drought_start, drought_end, aoi_delta)\n",
    "\n",
    "# '차이 이미지' 계산 (변화량)\n",
    "# baseline_image - drought_image\n",
    "# 값이 양수(+)이면: 평년보다 신호가 약해짐 (어두워짐) -> 예: 물이 마름, 식생 감소\n",
    "# 값이 음수(-)이면: 평년보다 신호가 강해짐 (밝아짐) -> 예: 땅이 더 거칠어짐\n",
    "difference_image = baseline_image.subtract(drought_image)\n",
    "print(\"--> '차이 이미지' 계산 완료.\")\n",
    "\n",
    "# ==============================================================================\n",
    "# 4단계: 지도 시각화\n",
    "# ==============================================================================\n",
    "# 시각화 파라미터\n",
    "vis_params_rgb = {'min': [-20, -25, -5], 'max': [0, -5, 5], 'bands': ['VV', 'VH', 'VV']}\n",
    "vis_params_diff = {'min': -3, 'max': 3, 'palette': ['blue', 'white', 'red']} # 파랑:밝아짐, 흰색:변화없음, 빨강:어두워짐\n",
    "\n",
    "# 결과 지도 생성\n",
    "m_delta = geemap.Map(center=[10.1, 106.2], zoom=9)\n",
    "m_delta.add_basemap('HYBRID')\n",
    "\n",
    "# 원본 이미지들 추가 (처음에는 꺼진 상태로)\n",
    "m_delta.addLayer(baseline_image, vis_params_rgb, '평년(2018) 모습', False)\n",
    "m_delta.addLayer(drought_image, vis_params_rgb, '가뭄(2020) 모습', False)\n",
    "\n",
    "# 핵심 결과인 '차이 이미지' 추가\n",
    "m_delta.addLayer(difference_image.select('VV'), vis_params_diff, '변화 탐지 결과 (VV 편파)')\n",
    "\n",
    "# 범례 추가\n",
    "m_delta.add_legend(\n",
    "    title=\"SAR 신호 변화 (평년-가뭄)\",\n",
    "    legend_dict={\n",
    "        '신호 강해짐 (밝아짐)': '0000FF',\n",
    "        '변화 거의 없음': 'FFFFFF',\n",
    "        '신호 약해짐 (어두워짐)': 'FF0000'\n",
    "    },\n",
    ")\n",
    "\n",
    "m_delta.addLayerControl()\n",
    "display(m_delta)"
   ]
  },
  {
   "cell_type": "markdown",
   "metadata": {
    "id": "zF-S9y-TxGsT"
   },
   "source": [
    "붉은색 지역은 VV + VH 모두 감소: 경작이 중단되고 땅이 말라버렸다는 가설\n",
    "vv 감소: 벼가 있던 땅이 농사 안지으면서 매끄러운 마른 땅으로 변하면서\n",
    "vh 감소: 벼와 같은 식생의 volume 사라지면서, 복잡한 산란을 일으킬 구조물이 없어져 신호가 약해짐"
   ]
  },
  {
   "cell_type": "markdown",
   "metadata": {
    "id": "JxzXRmRyyQrv"
   },
   "source": [
    "파란색 지역은 VV + VH 모두 증가: 단순한 논에서 복잡한 구조의 양식장으로 바뀌었다??\n",
    "vv 증가: 난반사 증가하여 신호가 강해짐\n",
    "vh 증가: 신호가 여러번 부딪히는 이중 반사가 발생하여, 복잡한 산란 신호인 vh가 강해짐"
   ]
  }
 ],
 "metadata": {
  "colab": {
   "authorship_tag": "ABX9TyO6Id55LEn63Tt+UAJ6Dk4m",
   "include_colab_link": true,
   "provenance": []
  },
  "kernelspec": {
   "display_name": "Python 3",
   "name": "python3"
  },
  "language_info": {
   "name": "python"
  }
 },
 "nbformat": 4,
 "nbformat_minor": 0
}
